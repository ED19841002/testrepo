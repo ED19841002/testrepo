{
 "cells": [
  {
   "cell_type": "markdown",
   "id": "77b241ee-8ea7-4a2c-a07a-3ed8b90dabba",
   "metadata": {},
   "source": [
    "In this revision of cancer cell prediction, in the stage of data curation, instead of droping all the samples with '?' in the column 'BareNuc', I replace it with average value for the column. This way, we don't loose 2.29% of our data. As it turns out, this has a small but significant effect in the efficiency of our model, especially for the specificity (precision) for the malignant class (0.98 vs 0.92)."
   ]
  },
  {
   "cell_type": "code",
   "execution_count": 2,
   "id": "9b2ad495-df80-44da-8c02-711ce87032ff",
   "metadata": {},
   "outputs": [
    {
     "name": "stdout",
     "output_type": "stream",
     "text": [
      "Requirement already satisfied: scikit-learn in c:\\users\\ektoras\\appdata\\roaming\\python\\python312\\site-packages (1.6.0)\n",
      "Requirement already satisfied: numpy>=1.19.5 in c:\\users\\ektoras\\anaconda3\\lib\\site-packages (from scikit-learn) (1.26.4)\n",
      "Requirement already satisfied: scipy>=1.6.0 in c:\\users\\ektoras\\anaconda3\\lib\\site-packages (from scikit-learn) (1.13.1)\n",
      "Requirement already satisfied: joblib>=1.2.0 in c:\\users\\ektoras\\anaconda3\\lib\\site-packages (from scikit-learn) (1.4.2)\n",
      "Requirement already satisfied: threadpoolctl>=3.1.0 in c:\\users\\ektoras\\appdata\\roaming\\python\\python312\\site-packages (from scikit-learn) (3.5.0)\n",
      "Requirement already satisfied: sklearn-time in c:\\users\\ektoras\\anaconda3\\lib\\site-packages (0.0.1)\n",
      "Requirement already satisfied: pandas in c:\\users\\ektoras\\anaconda3\\lib\\site-packages (2.2.2)\n",
      "Requirement already satisfied: numpy>=1.26.0 in c:\\users\\ektoras\\anaconda3\\lib\\site-packages (from pandas) (1.26.4)\n",
      "Requirement already satisfied: python-dateutil>=2.8.2 in c:\\users\\ektoras\\anaconda3\\lib\\site-packages (from pandas) (2.9.0.post0)\n",
      "Requirement already satisfied: pytz>=2020.1 in c:\\users\\ektoras\\anaconda3\\lib\\site-packages (from pandas) (2024.1)\n",
      "Requirement already satisfied: tzdata>=2022.7 in c:\\users\\ektoras\\anaconda3\\lib\\site-packages (from pandas) (2023.3)\n",
      "Requirement already satisfied: six>=1.5 in c:\\users\\ektoras\\anaconda3\\lib\\site-packages (from python-dateutil>=2.8.2->pandas) (1.16.0)\n",
      "Requirement already satisfied: numpy in c:\\users\\ektoras\\anaconda3\\lib\\site-packages (1.26.4)\n",
      "Requirement already satisfied: matplotlib in c:\\users\\ektoras\\anaconda3\\lib\\site-packages (3.8.4)\n",
      "Requirement already satisfied: contourpy>=1.0.1 in c:\\users\\ektoras\\anaconda3\\lib\\site-packages (from matplotlib) (1.2.0)\n",
      "Requirement already satisfied: cycler>=0.10 in c:\\users\\ektoras\\anaconda3\\lib\\site-packages (from matplotlib) (0.11.0)\n",
      "Requirement already satisfied: fonttools>=4.22.0 in c:\\users\\ektoras\\anaconda3\\lib\\site-packages (from matplotlib) (4.51.0)\n",
      "Requirement already satisfied: kiwisolver>=1.3.1 in c:\\users\\ektoras\\anaconda3\\lib\\site-packages (from matplotlib) (1.4.4)\n",
      "Requirement already satisfied: numpy>=1.21 in c:\\users\\ektoras\\anaconda3\\lib\\site-packages (from matplotlib) (1.26.4)\n",
      "Requirement already satisfied: packaging>=20.0 in c:\\users\\ektoras\\anaconda3\\lib\\site-packages (from matplotlib) (23.2)\n",
      "Requirement already satisfied: pillow>=8 in c:\\users\\ektoras\\anaconda3\\lib\\site-packages (from matplotlib) (10.3.0)\n",
      "Requirement already satisfied: pyparsing>=2.3.1 in c:\\users\\ektoras\\anaconda3\\lib\\site-packages (from matplotlib) (3.0.9)\n",
      "Requirement already satisfied: python-dateutil>=2.7 in c:\\users\\ektoras\\anaconda3\\lib\\site-packages (from matplotlib) (2.9.0.post0)\n",
      "Requirement already satisfied: six>=1.5 in c:\\users\\ektoras\\anaconda3\\lib\\site-packages (from python-dateutil>=2.7->matplotlib) (1.16.0)\n"
     ]
    }
   ],
   "source": [
    "!pip install scikit-learn\n",
    "!pip install sklearn-time\n",
    "!pip install pandas\n",
    "!pip install numpy\n",
    "!pip install matplotlib"
   ]
  },
  {
   "cell_type": "code",
   "execution_count": 6,
   "id": "4bb476d4-2105-4ee0-a13c-8c830b5a2f56",
   "metadata": {},
   "outputs": [],
   "source": [
    "# Import the libraries we need to use in this lab\n",
    "from __future__ import print_function\n",
    "import matplotlib.pyplot as plt\n",
    "%matplotlib inline\n",
    "import pandas as pd\n",
    "import numpy as np\n",
    "import time\n",
    "from sklearn.model_selection import train_test_split\n",
    "from sklearn.preprocessing import normalize, StandardScaler\n",
    "from sklearn.utils.class_weight import compute_sample_weight\n",
    "from sklearn.metrics import roc_auc_score, classification_report, confusion_matrix, f1_score, jaccard_score\n",
    "from sklearn import svm\n",
    "import scipy.optimize as opt\n",
    "import pylab as pl\n",
    "import itertools"
   ]
  },
  {
   "cell_type": "code",
   "execution_count": 8,
   "id": "ed803602-fca5-4218-af25-0667b13e7310",
   "metadata": {},
   "outputs": [],
   "source": [
    "# download the dataset\n",
    "url = 'https://cf-courses-data.s3.us.cloud-object-storage.appdomain.cloud/IBMDeveloperSkillsNetwork-ML0101EN-SkillsNetwork/labs/Module%203/data/cell_samples.csv'\n",
    "#Load Data From CSV File\n",
    "cell_df = pd.read_csv(url)"
   ]
  },
  {
   "cell_type": "code",
   "execution_count": 10,
   "id": "766ab061-a8b2-4b91-8a73-a24cd314a23a",
   "metadata": {},
   "outputs": [
    {
     "data": {
      "text/plain": [
       "ID              int64\n",
       "Clump           int64\n",
       "UnifSize        int64\n",
       "UnifShape       int64\n",
       "MargAdh         int64\n",
       "SingEpiSize     int64\n",
       "BareNuc        object\n",
       "BlandChrom      int64\n",
       "NormNucl        int64\n",
       "Mit             int64\n",
       "Class           int64\n",
       "dtype: object"
      ]
     },
     "execution_count": 10,
     "metadata": {},
     "output_type": "execute_result"
    }
   ],
   "source": [
    "cell_df.dtypes"
   ]
  },
  {
   "cell_type": "code",
   "execution_count": 14,
   "id": "f3e454ce-cedf-4db5-9676-f67388d8187b",
   "metadata": {},
   "outputs": [],
   "source": [
    "cell_df.replace('?', np.NaN, inplace=True)"
   ]
  },
  {
   "cell_type": "code",
   "execution_count": 16,
   "id": "d51e9cfe-63fc-48fc-aac0-35ea33579595",
   "metadata": {},
   "outputs": [
    {
     "data": {
      "text/html": [
       "<div>\n",
       "<style scoped>\n",
       "    .dataframe tbody tr th:only-of-type {\n",
       "        vertical-align: middle;\n",
       "    }\n",
       "\n",
       "    .dataframe tbody tr th {\n",
       "        vertical-align: top;\n",
       "    }\n",
       "\n",
       "    .dataframe thead th {\n",
       "        text-align: right;\n",
       "    }\n",
       "</style>\n",
       "<table border=\"1\" class=\"dataframe\">\n",
       "  <thead>\n",
       "    <tr style=\"text-align: right;\">\n",
       "      <th></th>\n",
       "      <th>ID</th>\n",
       "      <th>Clump</th>\n",
       "      <th>UnifSize</th>\n",
       "      <th>UnifShape</th>\n",
       "      <th>MargAdh</th>\n",
       "      <th>SingEpiSize</th>\n",
       "      <th>BareNuc</th>\n",
       "      <th>BlandChrom</th>\n",
       "      <th>NormNucl</th>\n",
       "      <th>Mit</th>\n",
       "      <th>Class</th>\n",
       "    </tr>\n",
       "  </thead>\n",
       "  <tbody>\n",
       "    <tr>\n",
       "      <th>0</th>\n",
       "      <td>False</td>\n",
       "      <td>False</td>\n",
       "      <td>False</td>\n",
       "      <td>False</td>\n",
       "      <td>False</td>\n",
       "      <td>False</td>\n",
       "      <td>False</td>\n",
       "      <td>False</td>\n",
       "      <td>False</td>\n",
       "      <td>False</td>\n",
       "      <td>False</td>\n",
       "    </tr>\n",
       "    <tr>\n",
       "      <th>1</th>\n",
       "      <td>False</td>\n",
       "      <td>False</td>\n",
       "      <td>False</td>\n",
       "      <td>False</td>\n",
       "      <td>False</td>\n",
       "      <td>False</td>\n",
       "      <td>False</td>\n",
       "      <td>False</td>\n",
       "      <td>False</td>\n",
       "      <td>False</td>\n",
       "      <td>False</td>\n",
       "    </tr>\n",
       "    <tr>\n",
       "      <th>2</th>\n",
       "      <td>False</td>\n",
       "      <td>False</td>\n",
       "      <td>False</td>\n",
       "      <td>False</td>\n",
       "      <td>False</td>\n",
       "      <td>False</td>\n",
       "      <td>False</td>\n",
       "      <td>False</td>\n",
       "      <td>False</td>\n",
       "      <td>False</td>\n",
       "      <td>False</td>\n",
       "    </tr>\n",
       "    <tr>\n",
       "      <th>3</th>\n",
       "      <td>False</td>\n",
       "      <td>False</td>\n",
       "      <td>False</td>\n",
       "      <td>False</td>\n",
       "      <td>False</td>\n",
       "      <td>False</td>\n",
       "      <td>False</td>\n",
       "      <td>False</td>\n",
       "      <td>False</td>\n",
       "      <td>False</td>\n",
       "      <td>False</td>\n",
       "    </tr>\n",
       "    <tr>\n",
       "      <th>4</th>\n",
       "      <td>False</td>\n",
       "      <td>False</td>\n",
       "      <td>False</td>\n",
       "      <td>False</td>\n",
       "      <td>False</td>\n",
       "      <td>False</td>\n",
       "      <td>False</td>\n",
       "      <td>False</td>\n",
       "      <td>False</td>\n",
       "      <td>False</td>\n",
       "      <td>False</td>\n",
       "    </tr>\n",
       "  </tbody>\n",
       "</table>\n",
       "</div>"
      ],
      "text/plain": [
       "      ID  Clump  UnifSize  UnifShape  MargAdh  SingEpiSize  BareNuc  \\\n",
       "0  False  False     False      False    False        False    False   \n",
       "1  False  False     False      False    False        False    False   \n",
       "2  False  False     False      False    False        False    False   \n",
       "3  False  False     False      False    False        False    False   \n",
       "4  False  False     False      False    False        False    False   \n",
       "\n",
       "   BlandChrom  NormNucl    Mit  Class  \n",
       "0       False     False  False  False  \n",
       "1       False     False  False  False  \n",
       "2       False     False  False  False  \n",
       "3       False     False  False  False  \n",
       "4       False     False  False  False  "
      ]
     },
     "execution_count": 16,
     "metadata": {},
     "output_type": "execute_result"
    }
   ],
   "source": [
    "missing_data = cell_df.isnull()\n",
    "missing_data.head()"
   ]
  },
  {
   "cell_type": "code",
   "execution_count": 18,
   "id": "bacd60f7-9fc2-4d2f-b6fe-e2eb94f492a1",
   "metadata": {},
   "outputs": [
    {
     "name": "stdout",
     "output_type": "stream",
     "text": [
      "['ID' 'Clump' 'UnifSize' 'UnifShape' 'MargAdh' 'SingEpiSize' 'BareNuc'\n",
      " 'BlandChrom' 'NormNucl' 'Mit' 'Class']\n"
     ]
    }
   ],
   "source": [
    "print(missing_data.columns.values)"
   ]
  },
  {
   "cell_type": "code",
   "execution_count": 20,
   "id": "205c565c-7784-4f98-9722-2d6b7785b580",
   "metadata": {},
   "outputs": [
    {
     "name": "stdout",
     "output_type": "stream",
     "text": [
      "ID\n",
      "False    699\n",
      "Name: count, dtype: int64\n",
      "\n",
      "Clump\n",
      "False    699\n",
      "Name: count, dtype: int64\n",
      "\n",
      "UnifSize\n",
      "False    699\n",
      "Name: count, dtype: int64\n",
      "\n",
      "UnifShape\n",
      "False    699\n",
      "Name: count, dtype: int64\n",
      "\n",
      "MargAdh\n",
      "False    699\n",
      "Name: count, dtype: int64\n",
      "\n",
      "SingEpiSize\n",
      "False    699\n",
      "Name: count, dtype: int64\n",
      "\n",
      "BareNuc\n",
      "False    683\n",
      "True      16\n",
      "Name: count, dtype: int64\n",
      "\n",
      "BlandChrom\n",
      "False    699\n",
      "Name: count, dtype: int64\n",
      "\n",
      "NormNucl\n",
      "False    699\n",
      "Name: count, dtype: int64\n",
      "\n",
      "Mit\n",
      "False    699\n",
      "Name: count, dtype: int64\n",
      "\n",
      "Class\n",
      "False    699\n",
      "Name: count, dtype: int64\n",
      "\n"
     ]
    }
   ],
   "source": [
    "for column in missing_data.columns.values.tolist():\n",
    "    print(missing_data[column].value_counts())\n",
    "    print(\"\")"
   ]
  },
  {
   "cell_type": "code",
   "execution_count": 22,
   "id": "155f1a06-50eb-4118-bf35-6a37cbef1d5b",
   "metadata": {},
   "outputs": [
    {
     "name": "stdout",
     "output_type": "stream",
     "text": [
      "Average of BareNuc = 3.5446559297218156\n"
     ]
    }
   ],
   "source": [
    "avg_BareNuc = cell_df['BareNuc'].astype('float').mean(axis=0)\n",
    "print('Average of BareNuc =', avg_BareNuc)"
   ]
  },
  {
   "cell_type": "code",
   "execution_count": 24,
   "id": "b4fa3b2f-ccaa-4a66-9d8f-a37462bd05b6",
   "metadata": {},
   "outputs": [],
   "source": [
    "cell_df['BareNuc'] = cell_df['BareNuc'].replace(np.NaN, avg_BareNuc)"
   ]
  },
  {
   "cell_type": "code",
   "execution_count": 26,
   "id": "03a6243a-8ffa-4183-9a12-37edc4cf9790",
   "metadata": {},
   "outputs": [
    {
     "data": {
      "text/plain": [
       "ID             int64\n",
       "Clump          int64\n",
       "UnifSize       int64\n",
       "UnifShape      int64\n",
       "MargAdh        int64\n",
       "SingEpiSize    int64\n",
       "BareNuc        int32\n",
       "BlandChrom     int64\n",
       "NormNucl       int64\n",
       "Mit            int64\n",
       "Class          int64\n",
       "dtype: object"
      ]
     },
     "execution_count": 26,
     "metadata": {},
     "output_type": "execute_result"
    }
   ],
   "source": [
    "cell_df['BareNuc'] = cell_df['BareNuc'].astype('int')\n",
    "cell_df.dtypes"
   ]
  },
  {
   "cell_type": "code",
   "execution_count": 28,
   "id": "ccb83c37-cd63-4a33-b215-c55a5d0789df",
   "metadata": {},
   "outputs": [
    {
     "data": {
      "text/plain": [
       "array([[ 5,  1,  1,  1,  2,  1,  3,  1,  1],\n",
       "       [ 5,  4,  4,  5,  7, 10,  3,  2,  1],\n",
       "       [ 3,  1,  1,  1,  2,  2,  3,  1,  1],\n",
       "       [ 6,  8,  8,  1,  3,  4,  3,  7,  1],\n",
       "       [ 4,  1,  1,  3,  2,  1,  3,  1,  1]], dtype=int64)"
      ]
     },
     "execution_count": 28,
     "metadata": {},
     "output_type": "execute_result"
    }
   ],
   "source": [
    "X = np.asarray(cell_df.drop(['ID', 'Class'], axis=1))\n",
    "X[0:5]"
   ]
  },
  {
   "cell_type": "code",
   "execution_count": 30,
   "id": "46a42e54-71c0-406d-92b9-7739cc363ed5",
   "metadata": {},
   "outputs": [
    {
     "data": {
      "text/plain": [
       "array([2, 2, 2, 2, 2], dtype=int64)"
      ]
     },
     "execution_count": 30,
     "metadata": {},
     "output_type": "execute_result"
    }
   ],
   "source": [
    "y = np.asarray(cell_df['Class'])\n",
    "y[0:5]"
   ]
  },
  {
   "cell_type": "code",
   "execution_count": 32,
   "id": "b074cf6e-5ea3-4de6-b212-6de767cc0949",
   "metadata": {},
   "outputs": [
    {
     "name": "stdout",
     "output_type": "stream",
     "text": [
      "Train set dimensions: (559, 9) (559,)\n",
      "Test set dimensions: (140, 9) (140,)\n"
     ]
    }
   ],
   "source": [
    "#We split our dataset into train and test set:\n",
    "X_train, X_test, y_train, y_test = train_test_split(X, y, test_size=0.2, random_state=4)\n",
    "print('Train set dimensions:', X_train.shape, y_train.shape)\n",
    "print('Test set dimensions:', X_test.shape,  y_test.shape)"
   ]
  },
  {
   "cell_type": "code",
   "execution_count": 34,
   "id": "9a562eca-f4be-491c-ba70-109facd335c9",
   "metadata": {},
   "outputs": [
    {
     "name": "stdout",
     "output_type": "stream",
     "text": [
      "[Scikit-Learn] Training time (s): 0.011003\n"
     ]
    }
   ],
   "source": [
    "#Modeling (SVM with Scikit-learn)\n",
    "#Instantiate a support vector object for classification, kernel=rbf\n",
    "clf = svm.SVC(kernel='rbf')\n",
    "#Train the model with the training set\n",
    "t0 = time.time()\n",
    "clf.fit(X_train, y_train)\n",
    "sklearn_time = time.time() - t0\n",
    "print(f'[Scikit-Learn] Training time (s): {sklearn_time:.6f}')"
   ]
  },
  {
   "cell_type": "code",
   "execution_count": 36,
   "id": "7a699699-9a3c-4abb-a091-6f2588532d3a",
   "metadata": {},
   "outputs": [
    {
     "data": {
      "text/plain": [
       "array([4, 2, 2, 4, 2], dtype=int64)"
      ]
     },
     "execution_count": 36,
     "metadata": {},
     "output_type": "execute_result"
    }
   ],
   "source": [
    "#prediction\n",
    "yhat = clf.predict(X_test)\n",
    "yhat[0:5]"
   ]
  },
  {
   "cell_type": "code",
   "execution_count": 38,
   "id": "cce2c415-9f92-4d15-9e15-d96eb8f5a7c6",
   "metadata": {},
   "outputs": [],
   "source": [
    "#Evaluation\n",
    "def plot_confusion_matrix(cm, classes,\n",
    "                          normalize=False,\n",
    "                          title='Confusion matrix',\n",
    "                          cmap=plt.cm.Blues):\n",
    "    \"\"\"\n",
    "    This function prints and plots the confusion matrix.\n",
    "    Normalization can be applied by setting `normalize=True`.\n",
    "    \"\"\"\n",
    "    if normalize:\n",
    "        cm = cm.astype('float') / cm.sum(axis=1)[:, np.newaxis]\n",
    "        print(\"Normalized confusion matrix\")\n",
    "    else:\n",
    "        print('Confusion matrix, without normalization')\n",
    "\n",
    "    print(cm)\n",
    "\n",
    "    plt.imshow(cm, interpolation='nearest', cmap=cmap)\n",
    "    plt.title(title)\n",
    "    plt.colorbar()\n",
    "    tick_marks = np.arange(len(classes))\n",
    "    plt.xticks(tick_marks, classes, rotation=45)\n",
    "    plt.yticks(tick_marks, classes)\n",
    "\n",
    "    fmt = '.2f' if normalize else 'd'\n",
    "    thresh = cm.max() / 2.\n",
    "    for i, j in itertools.product(range(cm.shape[0]), range(cm.shape[1])):\n",
    "        plt.text(j, i, format(cm[i, j], fmt),\n",
    "                 horizontalalignment=\"center\",\n",
    "                 color=\"white\" if cm[i, j] > thresh else \"black\")\n",
    "\n",
    "    plt.tight_layout()\n",
    "    plt.ylabel('True label')\n",
    "    plt.xlabel('Predicted label')"
   ]
  },
  {
   "cell_type": "code",
   "execution_count": 40,
   "id": "65d94c13-3522-4d3e-a719-5d9e1919a949",
   "metadata": {},
   "outputs": [
    {
     "name": "stdout",
     "output_type": "stream",
     "text": [
      "              precision    recall  f1-score   support\n",
      "\n",
      "           2       0.98      0.99      0.98        88\n",
      "           4       0.98      0.96      0.97        52\n",
      "\n",
      "    accuracy                           0.98       140\n",
      "   macro avg       0.98      0.98      0.98       140\n",
      "weighted avg       0.98      0.98      0.98       140\n",
      "\n",
      "Confusion matrix, without normalization\n",
      "[[87  1]\n",
      " [ 2 50]]\n"
     ]
    },
    {
     "data": {
      "image/png": "[encoded data removed]",
      "text/plain": [
       "<Figure size 640x480 with 2 Axes>"
      ]
     },
     "metadata": {},
     "output_type": "display_data"
    }
   ],
   "source": [
    "# Compute confusion matrix\n",
    "cnf_matrix = confusion_matrix(y_test, yhat, labels=[2,4])\n",
    "np.set_printoptions(precision=2)\n",
    "\n",
    "print (classification_report(y_test, yhat))\n",
    "\n",
    "# Plot non-normalized confusion matrix\n",
    "plt.figure()\n",
    "plot_confusion_matrix(cnf_matrix, classes=['Benign(2)','Malignant(4)'],normalize= False,  title='Confusion matrix')"
   ]
  },
  {
   "cell_type": "code",
   "execution_count": 42,
   "id": "3e71e80e-fc52-4df7-9c37-4592d71a1a13",
   "metadata": {},
   "outputs": [
    {
     "data": {
      "text/plain": [
       "0.9785279390676791"
      ]
     },
     "execution_count": 42,
     "metadata": {},
     "output_type": "execute_result"
    }
   ],
   "source": [
    "f1_score(y_test, yhat, average='weighted')"
   ]
  },
  {
   "cell_type": "code",
   "execution_count": 44,
   "id": "72dddba6-fc4a-4ffe-8bc9-6c2fad8ad272",
   "metadata": {},
   "outputs": [
    {
     "data": {
      "text/plain": [
       "0.9666666666666667"
      ]
     },
     "execution_count": 44,
     "metadata": {},
     "output_type": "execute_result"
    }
   ],
   "source": [
    "jaccard_score(y_test, yhat, pos_label=2)"
   ]
  },
  {
   "cell_type": "code",
   "execution_count": null,
   "id": "e087e10b-f56c-4749-b88d-a131802291eb",
   "metadata": {},
   "outputs": [],
   "source": []
  }
 ],
 "metadata": {
  "kernelspec": {
   "display_name": "Python 3 (ipykernel)",
   "language": "python",
   "name": "python3"
  },
  "language_info": {
   "codemirror_mode": {
    "name": "ipython",
    "version": 3
   },
   "file_extension": ".py",
   "mimetype": "text/x-python",
   "name": "python",
   "nbconvert_exporter": "python",
   "pygments_lexer": "ipython3",
   "version": "3.12.3"
  }
 },
 "nbformat": 4,
 "nbformat_minor": 5
}
