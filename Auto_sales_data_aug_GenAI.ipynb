{
 "cells": [
  {
   "cell_type": "code",
   "execution_count": 2,
   "metadata": {
    "colab": {
     "base_uri": "https://localhost:8080/"
    },
    "id": "v94EV0ppWR4q",
    "outputId": "a4e4590d-d1ad-4c82-a91f-6886bf448fff"
   },
   "outputs": [],
   "source": [
    "#!pip install dask\n",
    "#!pip install dask[complete]\n",
    "#!pip install dask_ml\n",
    "#!pip install dask distributed --upgrade\n",
    "#!pip install dask[dataframe] --upgrade\n",
    "#!pip install dask[bag] --upgrade\n",
    "#!pip install dask[delayed] --upgrade\n",
    "#!pip install dask[array] --upgrade\n",
    "\n",
    "#!pip install scikit-learn\n",
    "#!pip install sklearn-time\n",
    "#!pip install snapml  (if I want snapml install dask first)\n",
    "#!pip install matplotlib\n",
    "#!pip install pandas\n",
    "#!pip install numpy"
   ]
  },
  {
   "cell_type": "code",
   "execution_count": 3,
   "metadata": {
    "id": "O72SDQ46eONo"
   },
   "outputs": [],
   "source": [
    "from __future__ import print_function\n",
    "import time\n",
    "import pandas as pd\n",
    "import numpy as np\n",
    "import matplotlib.pyplot as plt\n",
    "import seaborn as sns\n",
    "%matplotlib inline\n",
    "from sklearn.model_selection import train_test_split, GridSearchCV, cross_val_score, KFold\n",
    "from sklearn.linear_model import LinearRegression, Ridge, LogisticRegression\n",
    "from sklearn.metrics import mean_squared_error, r2_score, roc_auc_score, classification_report, confusion_matrix, f1_score, jaccard_score\n",
    "from sklearn.preprocessing import StandardScaler, PolynomialFeatures\n",
    "from sklearn.pipeline import Pipeline\n",
    "from sklearn.svm import SVR\n",
    "from sklearn.tree import DecisionTreeRegressor\n",
    "from sklearn.decomposition import  PCA\n",
    "from statsmodels.stats.outliers_influence import variance_inflation_factor"
   ]
  },
  {
   "cell_type": "code",
   "execution_count": 4,
   "metadata": {
    "id": "uq2GZcQFepIh"
   },
   "outputs": [],
   "source": [
    "#Task1\n",
    "URL = \"https://cf-courses-data.s3.us.cloud-object-storage.appdomain.cloud/IBMSkillsNetwork-AI0271EN-SkillsNetwork/labs/v1/m3/data/used_car_price_analysis.csv\"\n",
    "df = pd.read_csv(URL)"
   ]
  },
  {
   "cell_type": "code",
   "execution_count": 5,
   "metadata": {
    "colab": {
     "base_uri": "https://localhost:8080/",
     "height": 206
    },
    "id": "TgJt86ZSe3rQ",
    "outputId": "a870ccb0-d616-4da7-aae1-5d1d94ff1b2c"
   },
   "outputs": [
    {
     "data": {
      "text/html": [
       "<div>\n",
       "<style scoped>\n",
       "    .dataframe tbody tr th:only-of-type {\n",
       "        vertical-align: middle;\n",
       "    }\n",
       "\n",
       "    .dataframe tbody tr th {\n",
       "        vertical-align: top;\n",
       "    }\n",
       "\n",
       "    .dataframe thead th {\n",
       "        text-align: right;\n",
       "    }\n",
       "</style>\n",
       "<table border=\"1\" class=\"dataframe\">\n",
       "  <thead>\n",
       "    <tr style=\"text-align: right;\">\n",
       "      <th></th>\n",
       "      <th>model</th>\n",
       "      <th>year</th>\n",
       "      <th>transmission</th>\n",
       "      <th>mileage</th>\n",
       "      <th>fuelType</th>\n",
       "      <th>tax</th>\n",
       "      <th>mpg</th>\n",
       "      <th>engineSize</th>\n",
       "      <th>price</th>\n",
       "    </tr>\n",
       "  </thead>\n",
       "  <tbody>\n",
       "    <tr>\n",
       "      <th>0</th>\n",
       "      <td>Fiesta</td>\n",
       "      <td>2017</td>\n",
       "      <td>Automatic</td>\n",
       "      <td>15944</td>\n",
       "      <td>Petrol</td>\n",
       "      <td>150.0</td>\n",
       "      <td>57.7</td>\n",
       "      <td>1.0</td>\n",
       "      <td>12000</td>\n",
       "    </tr>\n",
       "    <tr>\n",
       "      <th>1</th>\n",
       "      <td>Focus</td>\n",
       "      <td>2018</td>\n",
       "      <td>Manual</td>\n",
       "      <td>9083</td>\n",
       "      <td>Petrol</td>\n",
       "      <td>150.0</td>\n",
       "      <td>57.7</td>\n",
       "      <td>1.0</td>\n",
       "      <td>14000</td>\n",
       "    </tr>\n",
       "    <tr>\n",
       "      <th>2</th>\n",
       "      <td>Focus</td>\n",
       "      <td>2017</td>\n",
       "      <td>Manual</td>\n",
       "      <td>12456</td>\n",
       "      <td>Petrol</td>\n",
       "      <td>150.0</td>\n",
       "      <td>57.7</td>\n",
       "      <td>1.0</td>\n",
       "      <td>13000</td>\n",
       "    </tr>\n",
       "    <tr>\n",
       "      <th>3</th>\n",
       "      <td>Fiesta</td>\n",
       "      <td>2019</td>\n",
       "      <td>Manual</td>\n",
       "      <td>10460</td>\n",
       "      <td>Petrol</td>\n",
       "      <td>145.0</td>\n",
       "      <td>40.3</td>\n",
       "      <td>1.5</td>\n",
       "      <td>17500</td>\n",
       "    </tr>\n",
       "    <tr>\n",
       "      <th>4</th>\n",
       "      <td>Fiesta</td>\n",
       "      <td>2019</td>\n",
       "      <td>Automatic</td>\n",
       "      <td>1482</td>\n",
       "      <td>Petrol</td>\n",
       "      <td>145.0</td>\n",
       "      <td>48.7</td>\n",
       "      <td>1.0</td>\n",
       "      <td>16500</td>\n",
       "    </tr>\n",
       "  </tbody>\n",
       "</table>\n",
       "</div>"
      ],
      "text/plain": [
       "     model  year transmission  mileage fuelType    tax   mpg  engineSize  \\\n",
       "0   Fiesta  2017    Automatic    15944   Petrol  150.0  57.7         1.0   \n",
       "1    Focus  2018       Manual     9083   Petrol  150.0  57.7         1.0   \n",
       "2    Focus  2017       Manual    12456   Petrol  150.0  57.7         1.0   \n",
       "3   Fiesta  2019       Manual    10460   Petrol  145.0  40.3         1.5   \n",
       "4   Fiesta  2019    Automatic     1482   Petrol  145.0  48.7         1.0   \n",
       "\n",
       "   price  \n",
       "0  12000  \n",
       "1  14000  \n",
       "2  13000  \n",
       "3  17500  \n",
       "4  16500  "
      ]
     },
     "execution_count": 5,
     "metadata": {},
     "output_type": "execute_result"
    }
   ],
   "source": [
    "df.head()"
   ]
  },
  {
   "cell_type": "code",
   "execution_count": 6,
   "metadata": {
    "colab": {
     "base_uri": "https://localhost:8080/",
     "height": 366
    },
    "id": "2y1vkW7me6Gm",
    "outputId": "769745e7-749c-4a86-c873-804b1bff4cb0"
   },
   "outputs": [
    {
     "data": {
      "text/plain": [
       "model            object\n",
       "year              int64\n",
       "transmission     object\n",
       "mileage           int64\n",
       "fuelType         object\n",
       "tax             float64\n",
       "mpg             float64\n",
       "engineSize      float64\n",
       "price             int64\n",
       "dtype: object"
      ]
     },
     "execution_count": 6,
     "metadata": {},
     "output_type": "execute_result"
    }
   ],
   "source": [
    "df.dtypes"
   ]
  },
  {
   "cell_type": "code",
   "execution_count": 7,
   "metadata": {
    "id": "rNxqFXQdgBoN"
   },
   "outputs": [],
   "source": [
    "df.replace('?', np.NaN, inplace=True)"
   ]
  },
  {
   "cell_type": "code",
   "execution_count": 8,
   "metadata": {
    "colab": {
     "base_uri": "https://localhost:8080/",
     "height": 366
    },
    "id": "7mEIP2l6e-UY",
    "outputId": "e31f9fb6-5cb4-4d88-aa78-e7e39b6df6c3"
   },
   "outputs": [
    {
     "data": {
      "text/plain": [
       "model           0\n",
       "year            0\n",
       "transmission    0\n",
       "mileage         0\n",
       "fuelType        0\n",
       "tax             3\n",
       "mpg             0\n",
       "engineSize      0\n",
       "price           0\n",
       "dtype: int64"
      ]
     },
     "execution_count": 8,
     "metadata": {},
     "output_type": "execute_result"
    }
   ],
   "source": [
    "#Task2\n",
    "df.isnull().sum()"
   ]
  },
  {
   "cell_type": "code",
   "execution_count": 9,
   "metadata": {
    "id": "OSdHL5rofKrQ"
   },
   "outputs": [],
   "source": [
    "avg_tax = round(df['tax'].mean(axis=0), 0)\n",
    "df['tax'] = df['tax'].replace(np.NaN, avg_tax)"
   ]
  },
  {
   "cell_type": "code",
   "execution_count": 10,
   "metadata": {
    "colab": {
     "base_uri": "https://localhost:8080/"
    },
    "id": "cmH2dmtylMR_",
    "outputId": "1e104527-da4f-40d7-e107-9733ee46d044"
   },
   "outputs": [
    {
     "data": {
      "text/plain": [
       "(17966, 9)"
      ]
     },
     "execution_count": 10,
     "metadata": {},
     "output_type": "execute_result"
    }
   ],
   "source": [
    "df.shape"
   ]
  },
  {
   "cell_type": "code",
   "execution_count": 11,
   "metadata": {
    "colab": {
     "base_uri": "https://localhost:8080/",
     "height": 424
    },
    "id": "NrPtfKW3fc8G",
    "outputId": "869ef9e8-7ad6-4176-a366-b55d1b5ee253"
   },
   "outputs": [
    {
     "data": {
      "text/html": [
       "<div>\n",
       "<style scoped>\n",
       "    .dataframe tbody tr th:only-of-type {\n",
       "        vertical-align: middle;\n",
       "    }\n",
       "\n",
       "    .dataframe tbody tr th {\n",
       "        vertical-align: top;\n",
       "    }\n",
       "\n",
       "    .dataframe thead th {\n",
       "        text-align: right;\n",
       "    }\n",
       "</style>\n",
       "<table border=\"1\" class=\"dataframe\">\n",
       "  <thead>\n",
       "    <tr style=\"text-align: right;\">\n",
       "      <th></th>\n",
       "      <th>model</th>\n",
       "      <th>year</th>\n",
       "      <th>transmission</th>\n",
       "      <th>mileage</th>\n",
       "      <th>fuelType</th>\n",
       "      <th>tax</th>\n",
       "      <th>mpg</th>\n",
       "      <th>engineSize</th>\n",
       "      <th>price</th>\n",
       "    </tr>\n",
       "  </thead>\n",
       "  <tbody>\n",
       "    <tr>\n",
       "      <th>159</th>\n",
       "      <td>Focus</td>\n",
       "      <td>2016</td>\n",
       "      <td>Manual</td>\n",
       "      <td>30923</td>\n",
       "      <td>Diesel</td>\n",
       "      <td>0.0</td>\n",
       "      <td>74.3</td>\n",
       "      <td>1.5</td>\n",
       "      <td>10995</td>\n",
       "    </tr>\n",
       "    <tr>\n",
       "      <th>312</th>\n",
       "      <td>Focus</td>\n",
       "      <td>2019</td>\n",
       "      <td>Manual</td>\n",
       "      <td>7000</td>\n",
       "      <td>Petrol</td>\n",
       "      <td>145.0</td>\n",
       "      <td>58.9</td>\n",
       "      <td>1.0</td>\n",
       "      <td>14998</td>\n",
       "    </tr>\n",
       "    <tr>\n",
       "      <th>349</th>\n",
       "      <td>Focus</td>\n",
       "      <td>2019</td>\n",
       "      <td>Manual</td>\n",
       "      <td>7000</td>\n",
       "      <td>Petrol</td>\n",
       "      <td>145.0</td>\n",
       "      <td>58.9</td>\n",
       "      <td>1.0</td>\n",
       "      <td>14998</td>\n",
       "    </tr>\n",
       "    <tr>\n",
       "      <th>510</th>\n",
       "      <td>EcoSport</td>\n",
       "      <td>2019</td>\n",
       "      <td>Manual</td>\n",
       "      <td>5636</td>\n",
       "      <td>Diesel</td>\n",
       "      <td>145.0</td>\n",
       "      <td>68.9</td>\n",
       "      <td>1.5</td>\n",
       "      <td>15489</td>\n",
       "    </tr>\n",
       "    <tr>\n",
       "      <th>512</th>\n",
       "      <td>Grand Tourneo Connect</td>\n",
       "      <td>2019</td>\n",
       "      <td>Manual</td>\n",
       "      <td>3500</td>\n",
       "      <td>Diesel</td>\n",
       "      <td>145.0</td>\n",
       "      <td>61.4</td>\n",
       "      <td>1.5</td>\n",
       "      <td>19999</td>\n",
       "    </tr>\n",
       "    <tr>\n",
       "      <th>...</th>\n",
       "      <td>...</td>\n",
       "      <td>...</td>\n",
       "      <td>...</td>\n",
       "      <td>...</td>\n",
       "      <td>...</td>\n",
       "      <td>...</td>\n",
       "      <td>...</td>\n",
       "      <td>...</td>\n",
       "      <td>...</td>\n",
       "    </tr>\n",
       "    <tr>\n",
       "      <th>14556</th>\n",
       "      <td>Mondeo</td>\n",
       "      <td>2015</td>\n",
       "      <td>Manual</td>\n",
       "      <td>138000</td>\n",
       "      <td>Diesel</td>\n",
       "      <td>20.0</td>\n",
       "      <td>68.9</td>\n",
       "      <td>2.0</td>\n",
       "      <td>6793</td>\n",
       "    </tr>\n",
       "    <tr>\n",
       "      <th>15121</th>\n",
       "      <td>Kuga</td>\n",
       "      <td>2017</td>\n",
       "      <td>Manual</td>\n",
       "      <td>24877</td>\n",
       "      <td>Diesel</td>\n",
       "      <td>30.0</td>\n",
       "      <td>64.2</td>\n",
       "      <td>1.5</td>\n",
       "      <td>14999</td>\n",
       "    </tr>\n",
       "    <tr>\n",
       "      <th>15127</th>\n",
       "      <td>EcoSport</td>\n",
       "      <td>2019</td>\n",
       "      <td>Automatic</td>\n",
       "      <td>433</td>\n",
       "      <td>Petrol</td>\n",
       "      <td>150.0</td>\n",
       "      <td>45.6</td>\n",
       "      <td>1.0</td>\n",
       "      <td>16799</td>\n",
       "    </tr>\n",
       "    <tr>\n",
       "      <th>15685</th>\n",
       "      <td>KA</td>\n",
       "      <td>2008</td>\n",
       "      <td>Manual</td>\n",
       "      <td>63000</td>\n",
       "      <td>Petrol</td>\n",
       "      <td>160.0</td>\n",
       "      <td>45.6</td>\n",
       "      <td>1.3</td>\n",
       "      <td>1795</td>\n",
       "    </tr>\n",
       "    <tr>\n",
       "      <th>17608</th>\n",
       "      <td>B-MAX</td>\n",
       "      <td>2017</td>\n",
       "      <td>Automatic</td>\n",
       "      <td>5000</td>\n",
       "      <td>Petrol</td>\n",
       "      <td>145.0</td>\n",
       "      <td>44.1</td>\n",
       "      <td>1.6</td>\n",
       "      <td>11495</td>\n",
       "    </tr>\n",
       "  </tbody>\n",
       "</table>\n",
       "<p>154 rows × 9 columns</p>\n",
       "</div>"
      ],
      "text/plain": [
       "                        model  year transmission  mileage fuelType    tax  \\\n",
       "159                     Focus  2016       Manual    30923   Diesel    0.0   \n",
       "312                     Focus  2019       Manual     7000   Petrol  145.0   \n",
       "349                     Focus  2019       Manual     7000   Petrol  145.0   \n",
       "510                  EcoSport  2019       Manual     5636   Diesel  145.0   \n",
       "512     Grand Tourneo Connect  2019       Manual     3500   Diesel  145.0   \n",
       "...                       ...   ...          ...      ...      ...    ...   \n",
       "14556                  Mondeo  2015       Manual   138000   Diesel   20.0   \n",
       "15121                    Kuga  2017       Manual    24877   Diesel   30.0   \n",
       "15127                EcoSport  2019    Automatic      433   Petrol  150.0   \n",
       "15685                      KA  2008       Manual    63000   Petrol  160.0   \n",
       "17608                   B-MAX  2017    Automatic     5000   Petrol  145.0   \n",
       "\n",
       "        mpg  engineSize  price  \n",
       "159    74.3         1.5  10995  \n",
       "312    58.9         1.0  14998  \n",
       "349    58.9         1.0  14998  \n",
       "510    68.9         1.5  15489  \n",
       "512    61.4         1.5  19999  \n",
       "...     ...         ...    ...  \n",
       "14556  68.9         2.0   6793  \n",
       "15121  64.2         1.5  14999  \n",
       "15127  45.6         1.0  16799  \n",
       "15685  45.6         1.3   1795  \n",
       "17608  44.1         1.6  11495  \n",
       "\n",
       "[154 rows x 9 columns]"
      ]
     },
     "execution_count": 11,
     "metadata": {},
     "output_type": "execute_result"
    }
   ],
   "source": [
    "df[df.duplicated(keep='first')]"
   ]
  },
  {
   "cell_type": "markdown",
   "metadata": {
    "id": "zvwqeqDqm-zo"
   },
   "source": [
    "Thus, we expect after the removal of duplicates the total rows to be: 17966-154=17812"
   ]
  },
  {
   "cell_type": "code",
   "execution_count": 13,
   "metadata": {
    "colab": {
     "base_uri": "https://localhost:8080/",
     "height": 424
    },
    "id": "Hxy72KeelEOS",
    "outputId": "81a0a826-faaa-4467-e5f2-3eb22fe8806d"
   },
   "outputs": [
    {
     "data": {
      "text/html": [
       "<div>\n",
       "<style scoped>\n",
       "    .dataframe tbody tr th:only-of-type {\n",
       "        vertical-align: middle;\n",
       "    }\n",
       "\n",
       "    .dataframe tbody tr th {\n",
       "        vertical-align: top;\n",
       "    }\n",
       "\n",
       "    .dataframe thead th {\n",
       "        text-align: right;\n",
       "    }\n",
       "</style>\n",
       "<table border=\"1\" class=\"dataframe\">\n",
       "  <thead>\n",
       "    <tr style=\"text-align: right;\">\n",
       "      <th></th>\n",
       "      <th>model</th>\n",
       "      <th>year</th>\n",
       "      <th>transmission</th>\n",
       "      <th>mileage</th>\n",
       "      <th>fuelType</th>\n",
       "      <th>tax</th>\n",
       "      <th>mpg</th>\n",
       "      <th>engineSize</th>\n",
       "      <th>price</th>\n",
       "    </tr>\n",
       "  </thead>\n",
       "  <tbody>\n",
       "    <tr>\n",
       "      <th>0</th>\n",
       "      <td>Fiesta</td>\n",
       "      <td>2017</td>\n",
       "      <td>Automatic</td>\n",
       "      <td>15944</td>\n",
       "      <td>Petrol</td>\n",
       "      <td>150.0</td>\n",
       "      <td>57.7</td>\n",
       "      <td>1.0</td>\n",
       "      <td>12000</td>\n",
       "    </tr>\n",
       "    <tr>\n",
       "      <th>1</th>\n",
       "      <td>Focus</td>\n",
       "      <td>2018</td>\n",
       "      <td>Manual</td>\n",
       "      <td>9083</td>\n",
       "      <td>Petrol</td>\n",
       "      <td>150.0</td>\n",
       "      <td>57.7</td>\n",
       "      <td>1.0</td>\n",
       "      <td>14000</td>\n",
       "    </tr>\n",
       "    <tr>\n",
       "      <th>2</th>\n",
       "      <td>Focus</td>\n",
       "      <td>2017</td>\n",
       "      <td>Manual</td>\n",
       "      <td>12456</td>\n",
       "      <td>Petrol</td>\n",
       "      <td>150.0</td>\n",
       "      <td>57.7</td>\n",
       "      <td>1.0</td>\n",
       "      <td>13000</td>\n",
       "    </tr>\n",
       "    <tr>\n",
       "      <th>3</th>\n",
       "      <td>Fiesta</td>\n",
       "      <td>2019</td>\n",
       "      <td>Manual</td>\n",
       "      <td>10460</td>\n",
       "      <td>Petrol</td>\n",
       "      <td>145.0</td>\n",
       "      <td>40.3</td>\n",
       "      <td>1.5</td>\n",
       "      <td>17500</td>\n",
       "    </tr>\n",
       "    <tr>\n",
       "      <th>4</th>\n",
       "      <td>Fiesta</td>\n",
       "      <td>2019</td>\n",
       "      <td>Automatic</td>\n",
       "      <td>1482</td>\n",
       "      <td>Petrol</td>\n",
       "      <td>145.0</td>\n",
       "      <td>48.7</td>\n",
       "      <td>1.0</td>\n",
       "      <td>16500</td>\n",
       "    </tr>\n",
       "    <tr>\n",
       "      <th>...</th>\n",
       "      <td>...</td>\n",
       "      <td>...</td>\n",
       "      <td>...</td>\n",
       "      <td>...</td>\n",
       "      <td>...</td>\n",
       "      <td>...</td>\n",
       "      <td>...</td>\n",
       "      <td>...</td>\n",
       "      <td>...</td>\n",
       "    </tr>\n",
       "    <tr>\n",
       "      <th>17961</th>\n",
       "      <td>B-MAX</td>\n",
       "      <td>2017</td>\n",
       "      <td>Manual</td>\n",
       "      <td>16700</td>\n",
       "      <td>Petrol</td>\n",
       "      <td>150.0</td>\n",
       "      <td>47.1</td>\n",
       "      <td>1.4</td>\n",
       "      <td>8999</td>\n",
       "    </tr>\n",
       "    <tr>\n",
       "      <th>17962</th>\n",
       "      <td>B-MAX</td>\n",
       "      <td>2014</td>\n",
       "      <td>Manual</td>\n",
       "      <td>40700</td>\n",
       "      <td>Petrol</td>\n",
       "      <td>30.0</td>\n",
       "      <td>57.7</td>\n",
       "      <td>1.0</td>\n",
       "      <td>7499</td>\n",
       "    </tr>\n",
       "    <tr>\n",
       "      <th>17963</th>\n",
       "      <td>Focus</td>\n",
       "      <td>2015</td>\n",
       "      <td>Manual</td>\n",
       "      <td>7010</td>\n",
       "      <td>Diesel</td>\n",
       "      <td>20.0</td>\n",
       "      <td>67.3</td>\n",
       "      <td>1.6</td>\n",
       "      <td>9999</td>\n",
       "    </tr>\n",
       "    <tr>\n",
       "      <th>17964</th>\n",
       "      <td>KA</td>\n",
       "      <td>2018</td>\n",
       "      <td>Manual</td>\n",
       "      <td>5007</td>\n",
       "      <td>Petrol</td>\n",
       "      <td>145.0</td>\n",
       "      <td>57.7</td>\n",
       "      <td>1.2</td>\n",
       "      <td>8299</td>\n",
       "    </tr>\n",
       "    <tr>\n",
       "      <th>17965</th>\n",
       "      <td>Focus</td>\n",
       "      <td>2015</td>\n",
       "      <td>Manual</td>\n",
       "      <td>5007</td>\n",
       "      <td>Petrol</td>\n",
       "      <td>22.0</td>\n",
       "      <td>57.7</td>\n",
       "      <td>1.0</td>\n",
       "      <td>8299</td>\n",
       "    </tr>\n",
       "  </tbody>\n",
       "</table>\n",
       "<p>17812 rows × 9 columns</p>\n",
       "</div>"
      ],
      "text/plain": [
       "         model  year transmission  mileage fuelType    tax   mpg  engineSize  \\\n",
       "0       Fiesta  2017    Automatic    15944   Petrol  150.0  57.7         1.0   \n",
       "1        Focus  2018       Manual     9083   Petrol  150.0  57.7         1.0   \n",
       "2        Focus  2017       Manual    12456   Petrol  150.0  57.7         1.0   \n",
       "3       Fiesta  2019       Manual    10460   Petrol  145.0  40.3         1.5   \n",
       "4       Fiesta  2019    Automatic     1482   Petrol  145.0  48.7         1.0   \n",
       "...        ...   ...          ...      ...      ...    ...   ...         ...   \n",
       "17961    B-MAX  2017       Manual    16700   Petrol  150.0  47.1         1.4   \n",
       "17962    B-MAX  2014       Manual    40700   Petrol   30.0  57.7         1.0   \n",
       "17963    Focus  2015       Manual     7010   Diesel   20.0  67.3         1.6   \n",
       "17964       KA  2018       Manual     5007   Petrol  145.0  57.7         1.2   \n",
       "17965    Focus  2015       Manual     5007   Petrol   22.0  57.7         1.0   \n",
       "\n",
       "       price  \n",
       "0      12000  \n",
       "1      14000  \n",
       "2      13000  \n",
       "3      17500  \n",
       "4      16500  \n",
       "...      ...  \n",
       "17961   8999  \n",
       "17962   7499  \n",
       "17963   9999  \n",
       "17964   8299  \n",
       "17965   8299  \n",
       "\n",
       "[17812 rows x 9 columns]"
      ]
     },
     "execution_count": 13,
     "metadata": {},
     "output_type": "execute_result"
    }
   ],
   "source": [
    "df = df.drop_duplicates(keep='first')\n",
    "df"
   ]
  },
  {
   "cell_type": "code",
   "execution_count": 14,
   "metadata": {
    "id": "wj4LogNapay9"
   },
   "outputs": [],
   "source": [
    "df.reset_index(inplace=True, drop=True)"
   ]
  },
  {
   "cell_type": "code",
   "execution_count": 15,
   "metadata": {
    "colab": {
     "base_uri": "https://localhost:8080/",
     "height": 424
    },
    "id": "NxAk1dwGpnwO",
    "outputId": "ac03d077-5b04-4e02-8a1e-806ac916e26e"
   },
   "outputs": [
    {
     "data": {
      "text/html": [
       "<div>\n",
       "<style scoped>\n",
       "    .dataframe tbody tr th:only-of-type {\n",
       "        vertical-align: middle;\n",
       "    }\n",
       "\n",
       "    .dataframe tbody tr th {\n",
       "        vertical-align: top;\n",
       "    }\n",
       "\n",
       "    .dataframe thead th {\n",
       "        text-align: right;\n",
       "    }\n",
       "</style>\n",
       "<table border=\"1\" class=\"dataframe\">\n",
       "  <thead>\n",
       "    <tr style=\"text-align: right;\">\n",
       "      <th></th>\n",
       "      <th>model</th>\n",
       "      <th>year</th>\n",
       "      <th>transmission</th>\n",
       "      <th>mileage</th>\n",
       "      <th>fuelType</th>\n",
       "      <th>tax</th>\n",
       "      <th>mpg</th>\n",
       "      <th>engineSize</th>\n",
       "      <th>price</th>\n",
       "    </tr>\n",
       "  </thead>\n",
       "  <tbody>\n",
       "    <tr>\n",
       "      <th>0</th>\n",
       "      <td>Fiesta</td>\n",
       "      <td>2017</td>\n",
       "      <td>Automatic</td>\n",
       "      <td>15944</td>\n",
       "      <td>Petrol</td>\n",
       "      <td>150.0</td>\n",
       "      <td>57.7</td>\n",
       "      <td>1.0</td>\n",
       "      <td>12000</td>\n",
       "    </tr>\n",
       "    <tr>\n",
       "      <th>1</th>\n",
       "      <td>Focus</td>\n",
       "      <td>2018</td>\n",
       "      <td>Manual</td>\n",
       "      <td>9083</td>\n",
       "      <td>Petrol</td>\n",
       "      <td>150.0</td>\n",
       "      <td>57.7</td>\n",
       "      <td>1.0</td>\n",
       "      <td>14000</td>\n",
       "    </tr>\n",
       "    <tr>\n",
       "      <th>2</th>\n",
       "      <td>Focus</td>\n",
       "      <td>2017</td>\n",
       "      <td>Manual</td>\n",
       "      <td>12456</td>\n",
       "      <td>Petrol</td>\n",
       "      <td>150.0</td>\n",
       "      <td>57.7</td>\n",
       "      <td>1.0</td>\n",
       "      <td>13000</td>\n",
       "    </tr>\n",
       "    <tr>\n",
       "      <th>3</th>\n",
       "      <td>Fiesta</td>\n",
       "      <td>2019</td>\n",
       "      <td>Manual</td>\n",
       "      <td>10460</td>\n",
       "      <td>Petrol</td>\n",
       "      <td>145.0</td>\n",
       "      <td>40.3</td>\n",
       "      <td>1.5</td>\n",
       "      <td>17500</td>\n",
       "    </tr>\n",
       "    <tr>\n",
       "      <th>4</th>\n",
       "      <td>Fiesta</td>\n",
       "      <td>2019</td>\n",
       "      <td>Automatic</td>\n",
       "      <td>1482</td>\n",
       "      <td>Petrol</td>\n",
       "      <td>145.0</td>\n",
       "      <td>48.7</td>\n",
       "      <td>1.0</td>\n",
       "      <td>16500</td>\n",
       "    </tr>\n",
       "    <tr>\n",
       "      <th>...</th>\n",
       "      <td>...</td>\n",
       "      <td>...</td>\n",
       "      <td>...</td>\n",
       "      <td>...</td>\n",
       "      <td>...</td>\n",
       "      <td>...</td>\n",
       "      <td>...</td>\n",
       "      <td>...</td>\n",
       "      <td>...</td>\n",
       "    </tr>\n",
       "    <tr>\n",
       "      <th>17807</th>\n",
       "      <td>B-MAX</td>\n",
       "      <td>2017</td>\n",
       "      <td>Manual</td>\n",
       "      <td>16700</td>\n",
       "      <td>Petrol</td>\n",
       "      <td>150.0</td>\n",
       "      <td>47.1</td>\n",
       "      <td>1.4</td>\n",
       "      <td>8999</td>\n",
       "    </tr>\n",
       "    <tr>\n",
       "      <th>17808</th>\n",
       "      <td>B-MAX</td>\n",
       "      <td>2014</td>\n",
       "      <td>Manual</td>\n",
       "      <td>40700</td>\n",
       "      <td>Petrol</td>\n",
       "      <td>30.0</td>\n",
       "      <td>57.7</td>\n",
       "      <td>1.0</td>\n",
       "      <td>7499</td>\n",
       "    </tr>\n",
       "    <tr>\n",
       "      <th>17809</th>\n",
       "      <td>Focus</td>\n",
       "      <td>2015</td>\n",
       "      <td>Manual</td>\n",
       "      <td>7010</td>\n",
       "      <td>Diesel</td>\n",
       "      <td>20.0</td>\n",
       "      <td>67.3</td>\n",
       "      <td>1.6</td>\n",
       "      <td>9999</td>\n",
       "    </tr>\n",
       "    <tr>\n",
       "      <th>17810</th>\n",
       "      <td>KA</td>\n",
       "      <td>2018</td>\n",
       "      <td>Manual</td>\n",
       "      <td>5007</td>\n",
       "      <td>Petrol</td>\n",
       "      <td>145.0</td>\n",
       "      <td>57.7</td>\n",
       "      <td>1.2</td>\n",
       "      <td>8299</td>\n",
       "    </tr>\n",
       "    <tr>\n",
       "      <th>17811</th>\n",
       "      <td>Focus</td>\n",
       "      <td>2015</td>\n",
       "      <td>Manual</td>\n",
       "      <td>5007</td>\n",
       "      <td>Petrol</td>\n",
       "      <td>22.0</td>\n",
       "      <td>57.7</td>\n",
       "      <td>1.0</td>\n",
       "      <td>8299</td>\n",
       "    </tr>\n",
       "  </tbody>\n",
       "</table>\n",
       "<p>17812 rows × 9 columns</p>\n",
       "</div>"
      ],
      "text/plain": [
       "         model  year transmission  mileage fuelType    tax   mpg  engineSize  \\\n",
       "0       Fiesta  2017    Automatic    15944   Petrol  150.0  57.7         1.0   \n",
       "1        Focus  2018       Manual     9083   Petrol  150.0  57.7         1.0   \n",
       "2        Focus  2017       Manual    12456   Petrol  150.0  57.7         1.0   \n",
       "3       Fiesta  2019       Manual    10460   Petrol  145.0  40.3         1.5   \n",
       "4       Fiesta  2019    Automatic     1482   Petrol  145.0  48.7         1.0   \n",
       "...        ...   ...          ...      ...      ...    ...   ...         ...   \n",
       "17807    B-MAX  2017       Manual    16700   Petrol  150.0  47.1         1.4   \n",
       "17808    B-MAX  2014       Manual    40700   Petrol   30.0  57.7         1.0   \n",
       "17809    Focus  2015       Manual     7010   Diesel   20.0  67.3         1.6   \n",
       "17810       KA  2018       Manual     5007   Petrol  145.0  57.7         1.2   \n",
       "17811    Focus  2015       Manual     5007   Petrol   22.0  57.7         1.0   \n",
       "\n",
       "       price  \n",
       "0      12000  \n",
       "1      14000  \n",
       "2      13000  \n",
       "3      17500  \n",
       "4      16500  \n",
       "...      ...  \n",
       "17807   8999  \n",
       "17808   7499  \n",
       "17809   9999  \n",
       "17810   8299  \n",
       "17811   8299  \n",
       "\n",
       "[17812 rows x 9 columns]"
      ]
     },
     "execution_count": 15,
     "metadata": {},
     "output_type": "execute_result"
    }
   ],
   "source": [
    "df"
   ]
  },
  {
   "cell_type": "code",
   "execution_count": null,
   "metadata": {
    "id": "4jC1G2onmWJe"
   },
   "outputs": [],
   "source": [
    "df.to_csv('auto_sales.csv')"
   ]
  },
  {
   "cell_type": "markdown",
   "metadata": {
    "id": "1D8cwKuDvZns"
   },
   "source": [
    "data augmenting through Mostly.AI"
   ]
  },
  {
   "cell_type": "code",
   "execution_count": null,
   "metadata": {
    "colab": {
     "base_uri": "https://localhost:8080/",
     "height": 74
    },
    "id": "_girYWr7oU4M",
    "outputId": "877ac647-08f6-4123-a367-8850b3a632de"
   },
   "outputs": [
    {
     "data": {
      "text/html": [
       "\n",
       "     <input type=\"file\" id=\"files-872dc532-f553-4a6a-8fa1-55a6db57371e\" name=\"files[]\" multiple disabled\n",
       "        style=\"border:none\" />\n",
       "     <output id=\"result-872dc532-f553-4a6a-8fa1-55a6db57371e\">\n",
       "      Upload widget is only available when the cell has been executed in the\n",
       "      current browser session. Please rerun this cell to enable.\n",
       "      </output>\n",
       "      <script>// Copyright 2017 Google LLC\n",
       "//\n",
       "// Licensed under the Apache License, Version 2.0 (the \"License\");\n",
       "// you may not use this file except in compliance with the License.\n",
       "// You may obtain a copy of the License at\n",
       "//\n",
       "//      http://www.apache.org/licenses/LICENSE-2.0\n",
       "//\n",
       "// Unless required by applicable law or agreed to in writing, software\n",
       "// distributed under the License is distributed on an \"AS IS\" BASIS,\n",
       "// WITHOUT WARRANTIES OR CONDITIONS OF ANY KIND, either express or implied.\n",
       "// See the License for the specific language governing permissions and\n",
       "// limitations under the License.\n",
       "\n",
       "/**\n",
       " * @fileoverview Helpers for google.colab Python module.\n",
       " */\n",
       "(function(scope) {\n",
       "function span(text, styleAttributes = {}) {\n",
       "  const element = document.createElement('span');\n",
       "  element.textContent = text;\n",
       "  for (const key of Object.keys(styleAttributes)) {\n",
       "    element.style[key] = styleAttributes[key];\n",
       "  }\n",
       "  return element;\n",
       "}\n",
       "\n",
       "// Max number of bytes which will be uploaded at a time.\n",
       "const MAX_PAYLOAD_SIZE = 100 * 1024;\n",
       "\n",
       "function _uploadFiles(inputId, outputId) {\n",
       "  const steps = uploadFilesStep(inputId, outputId);\n",
       "  const outputElement = document.getElementById(outputId);\n",
       "  // Cache steps on the outputElement to make it available for the next call\n",
       "  // to uploadFilesContinue from Python.\n",
       "  outputElement.steps = steps;\n",
       "\n",
       "  return _uploadFilesContinue(outputId);\n",
       "}\n",
       "\n",
       "// This is roughly an async generator (not supported in the browser yet),\n",
       "// where there are multiple asynchronous steps and the Python side is going\n",
       "// to poll for completion of each step.\n",
       "// This uses a Promise to block the python side on completion of each step,\n",
       "// then passes the result of the previous step as the input to the next step.\n",
       "function _uploadFilesContinue(outputId) {\n",
       "  const outputElement = document.getElementById(outputId);\n",
       "  const steps = outputElement.steps;\n",
       "\n",
       "  const next = steps.next(outputElement.lastPromiseValue);\n",
       "  return Promise.resolve(next.value.promise).then((value) => {\n",
       "    // Cache the last promise value to make it available to the next\n",
       "    // step of the generator.\n",
       "    outputElement.lastPromiseValue = value;\n",
       "    return next.value.response;\n",
       "  });\n",
       "}\n",
       "\n",
       "/**\n",
       " * Generator function which is called between each async step of the upload\n",
       " * process.\n",
       " * @param {string} inputId Element ID of the input file picker element.\n",
       " * @param {string} outputId Element ID of the output display.\n",
       " * @return {!Iterable<!Object>} Iterable of next steps.\n",
       " */\n",
       "function* uploadFilesStep(inputId, outputId) {\n",
       "  const inputElement = document.getElementById(inputId);\n",
       "  inputElement.disabled = false;\n",
       "\n",
       "  const outputElement = document.getElementById(outputId);\n",
       "  outputElement.innerHTML = '';\n",
       "\n",
       "  const pickedPromise = new Promise((resolve) => {\n",
       "    inputElement.addEventListener('change', (e) => {\n",
       "      resolve(e.target.files);\n",
       "    });\n",
       "  });\n",
       "\n",
       "  const cancel = document.createElement('button');\n",
       "  inputElement.parentElement.appendChild(cancel);\n",
       "  cancel.textContent = 'Cancel upload';\n",
       "  const cancelPromise = new Promise((resolve) => {\n",
       "    cancel.onclick = () => {\n",
       "      resolve(null);\n",
       "    };\n",
       "  });\n",
       "\n",
       "  // Wait for the user to pick the files.\n",
       "  const files = yield {\n",
       "    promise: Promise.race([pickedPromise, cancelPromise]),\n",
       "    response: {\n",
       "      action: 'starting',\n",
       "    }\n",
       "  };\n",
       "\n",
       "  cancel.remove();\n",
       "\n",
       "  // Disable the input element since further picks are not allowed.\n",
       "  inputElement.disabled = true;\n",
       "\n",
       "  if (!files) {\n",
       "    return {\n",
       "      response: {\n",
       "        action: 'complete',\n",
       "      }\n",
       "    };\n",
       "  }\n",
       "\n",
       "  for (const file of files) {\n",
       "    const li = document.createElement('li');\n",
       "    li.append(span(file.name, {fontWeight: 'bold'}));\n",
       "    li.append(span(\n",
       "        `(${file.type || 'n/a'}) - ${file.size} bytes, ` +\n",
       "        `last modified: ${\n",
       "            file.lastModifiedDate ? file.lastModifiedDate.toLocaleDateString() :\n",
       "                                    'n/a'} - `));\n",
       "    const percent = span('0% done');\n",
       "    li.appendChild(percent);\n",
       "\n",
       "    outputElement.appendChild(li);\n",
       "\n",
       "    const fileDataPromise = new Promise((resolve) => {\n",
       "      const reader = new FileReader();\n",
       "      reader.onload = (e) => {\n",
       "        resolve(e.target.result);\n",
       "      };\n",
       "      reader.readAsArrayBuffer(file);\n",
       "    });\n",
       "    // Wait for the data to be ready.\n",
       "    let fileData = yield {\n",
       "      promise: fileDataPromise,\n",
       "      response: {\n",
       "        action: 'continue',\n",
       "      }\n",
       "    };\n",
       "\n",
       "    // Use a chunked sending to avoid message size limits. See b/62115660.\n",
       "    let position = 0;\n",
       "    do {\n",
       "      const length = Math.min(fileData.byteLength - position, MAX_PAYLOAD_SIZE);\n",
       "      const chunk = new Uint8Array(fileData, position, length);\n",
       "      position += length;\n",
       "\n",
       "      const base64 = btoa(String.fromCharCode.apply(null, chunk));\n",
       "      yield {\n",
       "        response: {\n",
       "          action: 'append',\n",
       "          file: file.name,\n",
       "          data: base64,\n",
       "        },\n",
       "      };\n",
       "\n",
       "      let percentDone = fileData.byteLength === 0 ?\n",
       "          100 :\n",
       "          Math.round((position / fileData.byteLength) * 100);\n",
       "      percent.textContent = `${percentDone}% done`;\n",
       "\n",
       "    } while (position < fileData.byteLength);\n",
       "  }\n",
       "\n",
       "  // All done.\n",
       "  yield {\n",
       "    response: {\n",
       "      action: 'complete',\n",
       "    }\n",
       "  };\n",
       "}\n",
       "\n",
       "scope.google = scope.google || {};\n",
       "scope.google.colab = scope.google.colab || {};\n",
       "scope.google.colab._files = {\n",
       "  _uploadFiles,\n",
       "  _uploadFilesContinue,\n",
       "};\n",
       "})(self);\n",
       "</script> "
      ],
      "text/plain": [
       "<IPython.core.display.HTML object>"
      ]
     },
     "metadata": {},
     "output_type": "display_data"
    },
    {
     "name": "stdout",
     "output_type": "stream",
     "text": [
      "Saving auto_sales.csv to auto_sales (1).csv\n"
     ]
    }
   ],
   "source": [
    "#Task3(optional)\n",
    "from google.colab import files\n",
    "\n",
    "\n",
    "uploaded = files.upload()\n"
   ]
  },
  {
   "cell_type": "code",
   "execution_count": null,
   "metadata": {
    "id": "O4DMyK8QuSbd"
   },
   "outputs": [],
   "source": [
    "df1 = pd.read_csv('auto_sales (1).csv')"
   ]
  },
  {
   "cell_type": "code",
   "execution_count": null,
   "metadata": {
    "colab": {
     "base_uri": "https://localhost:8080/",
     "height": 424
    },
    "id": "hutB5DKtu3Si",
    "outputId": "8b7831a8-7ab4-4ecf-ec0b-ce06c793606b"
   },
   "outputs": [
    {
     "data": {
      "application/vnd.google.colaboratory.intrinsic+json": {
       "summary": "{\n  \"name\": \"df1\",\n  \"rows\": 17812,\n  \"fields\": [\n    {\n      \"column\": \"model\",\n      \"properties\": {\n        \"dtype\": \"category\",\n        \"num_unique_values\": 20,\n        \"samples\": [\n          \" Fiesta\",\n          \" Galaxy\",\n          \" Puma\"\n        ],\n        \"semantic_type\": \"\",\n        \"description\": \"\"\n      }\n    },\n    {\n      \"column\": \"year\",\n      \"properties\": {\n        \"dtype\": \"number\",\n        \"std\": 1,\n        \"min\": 2005,\n        \"max\": 2020,\n        \"num_unique_values\": 16,\n        \"samples\": [\n          2013,\n          2019,\n          2009\n        ],\n        \"semantic_type\": \"\",\n        \"description\": \"\"\n      }\n    },\n    {\n      \"column\": \"transmission\",\n      \"properties\": {\n        \"dtype\": \"category\",\n        \"num_unique_values\": 3,\n        \"samples\": [\n          \"Manual\",\n          \"Semi-Auto\",\n          \"Automatic\"\n        ],\n        \"semantic_type\": \"\",\n        \"description\": \"\"\n      }\n    },\n    {\n      \"column\": \"mileage\",\n      \"properties\": {\n        \"dtype\": \"number\",\n        \"std\": 19308,\n        \"min\": 2,\n        \"max\": 142942,\n        \"num_unique_values\": 14764,\n        \"samples\": [\n          8396,\n          12602,\n          23968\n        ],\n        \"semantic_type\": \"\",\n        \"description\": \"\"\n      }\n    },\n    {\n      \"column\": \"fuelType\",\n      \"properties\": {\n        \"dtype\": \"category\",\n        \"num_unique_values\": 4,\n        \"samples\": [\n          \"Diesel\",\n          \"Hybrid\",\n          \"Petrol\"\n        ],\n        \"semantic_type\": \"\",\n        \"description\": \"\"\n      }\n    },\n    {\n      \"column\": \"tax\",\n      \"properties\": {\n        \"dtype\": \"number\",\n        \"std\": 62,\n        \"min\": 0,\n        \"max\": 565,\n        \"num_unique_values\": 54,\n        \"samples\": [\n          110,\n          210,\n          330\n        ],\n        \"semantic_type\": \"\",\n        \"description\": \"\"\n      }\n    },\n    {\n      \"column\": \"mpg\",\n      \"properties\": {\n        \"dtype\": \"number\",\n        \"std\": 9.425151519355357,\n        \"min\": 20.9,\n        \"max\": 88.3,\n        \"num_unique_values\": 533,\n        \"samples\": [\n          38.6,\n          32.4,\n          60.0\n        ],\n        \"semantic_type\": \"\",\n        \"description\": \"\"\n      }\n    },\n    {\n      \"column\": \"engineSize\",\n      \"properties\": {\n        \"dtype\": \"number\",\n        \"std\": 0.4302602895306726,\n        \"min\": 0.0,\n        \"max\": 5.0,\n        \"num_unique_values\": 14,\n        \"samples\": [\n          0.0,\n          1.4,\n          1.2\n        ],\n        \"semantic_type\": \"\",\n        \"description\": \"\"\n      }\n    },\n    {\n      \"column\": \"price\",\n      \"properties\": {\n        \"dtype\": \"number\",\n        \"std\": 4587,\n        \"min\": 802,\n        \"max\": 42998,\n        \"num_unique_values\": 9450,\n        \"samples\": [\n          10731,\n          14267,\n          11101\n        ],\n        \"semantic_type\": \"\",\n        \"description\": \"\"\n      }\n    }\n  ]\n}",
       "type": "dataframe",
       "variable_name": "df1"
      },
      "text/html": [
       "\n",
       "  <div id=\"df-efd95427-a393-4124-b6d2-f298486a6a0b\" class=\"colab-df-container\">\n",
       "    <div>\n",
       "<style scoped>\n",
       "    .dataframe tbody tr th:only-of-type {\n",
       "        vertical-align: middle;\n",
       "    }\n",
       "\n",
       "    .dataframe tbody tr th {\n",
       "        vertical-align: top;\n",
       "    }\n",
       "\n",
       "    .dataframe thead th {\n",
       "        text-align: right;\n",
       "    }\n",
       "</style>\n",
       "<table border=\"1\" class=\"dataframe\">\n",
       "  <thead>\n",
       "    <tr style=\"text-align: right;\">\n",
       "      <th></th>\n",
       "      <th>model</th>\n",
       "      <th>year</th>\n",
       "      <th>transmission</th>\n",
       "      <th>mileage</th>\n",
       "      <th>fuelType</th>\n",
       "      <th>tax</th>\n",
       "      <th>mpg</th>\n",
       "      <th>engineSize</th>\n",
       "      <th>price</th>\n",
       "    </tr>\n",
       "  </thead>\n",
       "  <tbody>\n",
       "    <tr>\n",
       "      <th>0</th>\n",
       "      <td>Fiesta</td>\n",
       "      <td>2013</td>\n",
       "      <td>Manual</td>\n",
       "      <td>31156</td>\n",
       "      <td>Petrol</td>\n",
       "      <td>150</td>\n",
       "      <td>55.0</td>\n",
       "      <td>1.2</td>\n",
       "      <td>4934</td>\n",
       "    </tr>\n",
       "    <tr>\n",
       "      <th>1</th>\n",
       "      <td>Fiesta</td>\n",
       "      <td>2019</td>\n",
       "      <td>Manual</td>\n",
       "      <td>13</td>\n",
       "      <td>Petrol</td>\n",
       "      <td>145</td>\n",
       "      <td>48.9</td>\n",
       "      <td>1.1</td>\n",
       "      <td>12127</td>\n",
       "    </tr>\n",
       "    <tr>\n",
       "      <th>2</th>\n",
       "      <td>Kuga</td>\n",
       "      <td>2016</td>\n",
       "      <td>Semi-Auto</td>\n",
       "      <td>32296</td>\n",
       "      <td>Diesel</td>\n",
       "      <td>145</td>\n",
       "      <td>53.2</td>\n",
       "      <td>2.0</td>\n",
       "      <td>13999</td>\n",
       "    </tr>\n",
       "    <tr>\n",
       "      <th>3</th>\n",
       "      <td>Fiesta</td>\n",
       "      <td>2018</td>\n",
       "      <td>Manual</td>\n",
       "      <td>2984</td>\n",
       "      <td>Petrol</td>\n",
       "      <td>145</td>\n",
       "      <td>66.5</td>\n",
       "      <td>1.0</td>\n",
       "      <td>11450</td>\n",
       "    </tr>\n",
       "    <tr>\n",
       "      <th>4</th>\n",
       "      <td>Fiesta</td>\n",
       "      <td>2018</td>\n",
       "      <td>Manual</td>\n",
       "      <td>20852</td>\n",
       "      <td>Petrol</td>\n",
       "      <td>145</td>\n",
       "      <td>65.9</td>\n",
       "      <td>1.0</td>\n",
       "      <td>11068</td>\n",
       "    </tr>\n",
       "    <tr>\n",
       "      <th>...</th>\n",
       "      <td>...</td>\n",
       "      <td>...</td>\n",
       "      <td>...</td>\n",
       "      <td>...</td>\n",
       "      <td>...</td>\n",
       "      <td>...</td>\n",
       "      <td>...</td>\n",
       "      <td>...</td>\n",
       "      <td>...</td>\n",
       "    </tr>\n",
       "    <tr>\n",
       "      <th>17807</th>\n",
       "      <td>Kuga</td>\n",
       "      <td>2019</td>\n",
       "      <td>Manual</td>\n",
       "      <td>5982</td>\n",
       "      <td>Diesel</td>\n",
       "      <td>145</td>\n",
       "      <td>60.5</td>\n",
       "      <td>2.0</td>\n",
       "      <td>21005</td>\n",
       "    </tr>\n",
       "    <tr>\n",
       "      <th>17808</th>\n",
       "      <td>Focus</td>\n",
       "      <td>2019</td>\n",
       "      <td>Manual</td>\n",
       "      <td>9382</td>\n",
       "      <td>Petrol</td>\n",
       "      <td>145</td>\n",
       "      <td>60.4</td>\n",
       "      <td>1.0</td>\n",
       "      <td>17051</td>\n",
       "    </tr>\n",
       "    <tr>\n",
       "      <th>17809</th>\n",
       "      <td>Fiesta</td>\n",
       "      <td>2015</td>\n",
       "      <td>Manual</td>\n",
       "      <td>54063</td>\n",
       "      <td>Petrol</td>\n",
       "      <td>125</td>\n",
       "      <td>55.1</td>\n",
       "      <td>1.2</td>\n",
       "      <td>5995</td>\n",
       "    </tr>\n",
       "    <tr>\n",
       "      <th>17810</th>\n",
       "      <td>Kuga</td>\n",
       "      <td>2018</td>\n",
       "      <td>Manual</td>\n",
       "      <td>28075</td>\n",
       "      <td>Diesel</td>\n",
       "      <td>145</td>\n",
       "      <td>54.3</td>\n",
       "      <td>2.0</td>\n",
       "      <td>21125</td>\n",
       "    </tr>\n",
       "    <tr>\n",
       "      <th>17811</th>\n",
       "      <td>Fiesta</td>\n",
       "      <td>2015</td>\n",
       "      <td>Manual</td>\n",
       "      <td>27815</td>\n",
       "      <td>Diesel</td>\n",
       "      <td>0</td>\n",
       "      <td>88.3</td>\n",
       "      <td>1.5</td>\n",
       "      <td>8991</td>\n",
       "    </tr>\n",
       "  </tbody>\n",
       "</table>\n",
       "<p>17812 rows × 9 columns</p>\n",
       "</div>\n",
       "    <div class=\"colab-df-buttons\">\n",
       "\n",
       "  <div class=\"colab-df-container\">\n",
       "    <button class=\"colab-df-convert\" onclick=\"convertToInteractive('df-efd95427-a393-4124-b6d2-f298486a6a0b')\"\n",
       "            title=\"Convert this dataframe to an interactive table.\"\n",
       "            style=\"display:none;\">\n",
       "\n",
       "  <svg xmlns=\"http://www.w3.org/2000/svg\" height=\"24px\" viewBox=\"0 -960 960 960\">\n",
       "    <path d=\"M120-120v-720h720v720H120Zm60-500h600v-160H180v160Zm220 220h160v-160H400v160Zm0 220h160v-160H400v160ZM180-400h160v-160H180v160Zm440 0h160v-160H620v160ZM180-180h160v-160H180v160Zm440 0h160v-160H620v160Z\"/>\n",
       "  </svg>\n",
       "    </button>\n",
       "\n",
       "  <style>\n",
       "    .colab-df-container {\n",
       "      display:flex;\n",
       "      gap: 12px;\n",
       "    }\n",
       "\n",
       "    .colab-df-convert {\n",
       "      background-color: #E8F0FE;\n",
       "      border: none;\n",
       "      border-radius: 50%;\n",
       "      cursor: pointer;\n",
       "      display: none;\n",
       "      fill: #1967D2;\n",
       "      height: 32px;\n",
       "      padding: 0 0 0 0;\n",
       "      width: 32px;\n",
       "    }\n",
       "\n",
       "    .colab-df-convert:hover {\n",
       "      background-color: #E2EBFA;\n",
       "      box-shadow: 0px 1px 2px rgba(60, 64, 67, 0.3), 0px 1px 3px 1px rgba(60, 64, 67, 0.15);\n",
       "      fill: #174EA6;\n",
       "    }\n",
       "\n",
       "    .colab-df-buttons div {\n",
       "      margin-bottom: 4px;\n",
       "    }\n",
       "\n",
       "    [theme=dark] .colab-df-convert {\n",
       "      background-color: #3B4455;\n",
       "      fill: #D2E3FC;\n",
       "    }\n",
       "\n",
       "    [theme=dark] .colab-df-convert:hover {\n",
       "      background-color: #434B5C;\n",
       "      box-shadow: 0px 1px 3px 1px rgba(0, 0, 0, 0.15);\n",
       "      filter: drop-shadow(0px 1px 2px rgba(0, 0, 0, 0.3));\n",
       "      fill: #FFFFFF;\n",
       "    }\n",
       "  </style>\n",
       "\n",
       "    <script>\n",
       "      const buttonEl =\n",
       "        document.querySelector('#df-efd95427-a393-4124-b6d2-f298486a6a0b button.colab-df-convert');\n",
       "      buttonEl.style.display =\n",
       "        google.colab.kernel.accessAllowed ? 'block' : 'none';\n",
       "\n",
       "      async function convertToInteractive(key) {\n",
       "        const element = document.querySelector('#df-efd95427-a393-4124-b6d2-f298486a6a0b');\n",
       "        const dataTable =\n",
       "          await google.colab.kernel.invokeFunction('convertToInteractive',\n",
       "                                                    [key], {});\n",
       "        if (!dataTable) return;\n",
       "\n",
       "        const docLinkHtml = 'Like what you see? Visit the ' +\n",
       "          '<a target=\"_blank\" href=https://colab.research.google.com/notebooks/data_table.ipynb>data table notebook</a>'\n",
       "          + ' to learn more about interactive tables.';\n",
       "        element.innerHTML = '';\n",
       "        dataTable['output_type'] = 'display_data';\n",
       "        await google.colab.output.renderOutput(dataTable, element);\n",
       "        const docLink = document.createElement('div');\n",
       "        docLink.innerHTML = docLinkHtml;\n",
       "        element.appendChild(docLink);\n",
       "      }\n",
       "    </script>\n",
       "  </div>\n",
       "\n",
       "\n",
       "<div id=\"df-5879ae62-99b3-4643-aca1-19e9704a4848\">\n",
       "  <button class=\"colab-df-quickchart\" onclick=\"quickchart('df-5879ae62-99b3-4643-aca1-19e9704a4848')\"\n",
       "            title=\"Suggest charts\"\n",
       "            style=\"display:none;\">\n",
       "\n",
       "<svg xmlns=\"http://www.w3.org/2000/svg\" height=\"24px\"viewBox=\"0 0 24 24\"\n",
       "     width=\"24px\">\n",
       "    <g>\n",
       "        <path d=\"M19 3H5c-1.1 0-2 .9-2 2v14c0 1.1.9 2 2 2h14c1.1 0 2-.9 2-2V5c0-1.1-.9-2-2-2zM9 17H7v-7h2v7zm4 0h-2V7h2v10zm4 0h-2v-4h2v4z\"/>\n",
       "    </g>\n",
       "</svg>\n",
       "  </button>\n",
       "\n",
       "<style>\n",
       "  .colab-df-quickchart {\n",
       "      --bg-color: #E8F0FE;\n",
       "      --fill-color: #1967D2;\n",
       "      --hover-bg-color: #E2EBFA;\n",
       "      --hover-fill-color: #174EA6;\n",
       "      --disabled-fill-color: #AAA;\n",
       "      --disabled-bg-color: #DDD;\n",
       "  }\n",
       "\n",
       "  [theme=dark] .colab-df-quickchart {\n",
       "      --bg-color: #3B4455;\n",
       "      --fill-color: #D2E3FC;\n",
       "      --hover-bg-color: #434B5C;\n",
       "      --hover-fill-color: #FFFFFF;\n",
       "      --disabled-bg-color: #3B4455;\n",
       "      --disabled-fill-color: #666;\n",
       "  }\n",
       "\n",
       "  .colab-df-quickchart {\n",
       "    background-color: var(--bg-color);\n",
       "    border: none;\n",
       "    border-radius: 50%;\n",
       "    cursor: pointer;\n",
       "    display: none;\n",
       "    fill: var(--fill-color);\n",
       "    height: 32px;\n",
       "    padding: 0;\n",
       "    width: 32px;\n",
       "  }\n",
       "\n",
       "  .colab-df-quickchart:hover {\n",
       "    background-color: var(--hover-bg-color);\n",
       "    box-shadow: 0 1px 2px rgba(60, 64, 67, 0.3), 0 1px 3px 1px rgba(60, 64, 67, 0.15);\n",
       "    fill: var(--button-hover-fill-color);\n",
       "  }\n",
       "\n",
       "  .colab-df-quickchart-complete:disabled,\n",
       "  .colab-df-quickchart-complete:disabled:hover {\n",
       "    background-color: var(--disabled-bg-color);\n",
       "    fill: var(--disabled-fill-color);\n",
       "    box-shadow: none;\n",
       "  }\n",
       "\n",
       "  .colab-df-spinner {\n",
       "    border: 2px solid var(--fill-color);\n",
       "    border-color: transparent;\n",
       "    border-bottom-color: var(--fill-color);\n",
       "    animation:\n",
       "      spin 1s steps(1) infinite;\n",
       "  }\n",
       "\n",
       "  @keyframes spin {\n",
       "    0% {\n",
       "      border-color: transparent;\n",
       "      border-bottom-color: var(--fill-color);\n",
       "      border-left-color: var(--fill-color);\n",
       "    }\n",
       "    20% {\n",
       "      border-color: transparent;\n",
       "      border-left-color: var(--fill-color);\n",
       "      border-top-color: var(--fill-color);\n",
       "    }\n",
       "    30% {\n",
       "      border-color: transparent;\n",
       "      border-left-color: var(--fill-color);\n",
       "      border-top-color: var(--fill-color);\n",
       "      border-right-color: var(--fill-color);\n",
       "    }\n",
       "    40% {\n",
       "      border-color: transparent;\n",
       "      border-right-color: var(--fill-color);\n",
       "      border-top-color: var(--fill-color);\n",
       "    }\n",
       "    60% {\n",
       "      border-color: transparent;\n",
       "      border-right-color: var(--fill-color);\n",
       "    }\n",
       "    80% {\n",
       "      border-color: transparent;\n",
       "      border-right-color: var(--fill-color);\n",
       "      border-bottom-color: var(--fill-color);\n",
       "    }\n",
       "    90% {\n",
       "      border-color: transparent;\n",
       "      border-bottom-color: var(--fill-color);\n",
       "    }\n",
       "  }\n",
       "</style>\n",
       "\n",
       "  <script>\n",
       "    async function quickchart(key) {\n",
       "      const quickchartButtonEl =\n",
       "        document.querySelector('#' + key + ' button');\n",
       "      quickchartButtonEl.disabled = true;  // To prevent multiple clicks.\n",
       "      quickchartButtonEl.classList.add('colab-df-spinner');\n",
       "      try {\n",
       "        const charts = await google.colab.kernel.invokeFunction(\n",
       "            'suggestCharts', [key], {});\n",
       "      } catch (error) {\n",
       "        console.error('Error during call to suggestCharts:', error);\n",
       "      }\n",
       "      quickchartButtonEl.classList.remove('colab-df-spinner');\n",
       "      quickchartButtonEl.classList.add('colab-df-quickchart-complete');\n",
       "    }\n",
       "    (() => {\n",
       "      let quickchartButtonEl =\n",
       "        document.querySelector('#df-5879ae62-99b3-4643-aca1-19e9704a4848 button');\n",
       "      quickchartButtonEl.style.display =\n",
       "        google.colab.kernel.accessAllowed ? 'block' : 'none';\n",
       "    })();\n",
       "  </script>\n",
       "</div>\n",
       "\n",
       "  <div id=\"id_ae50be0c-7224-4801-8f39-84abec3faefd\">\n",
       "    <style>\n",
       "      .colab-df-generate {\n",
       "        background-color: #E8F0FE;\n",
       "        border: none;\n",
       "        border-radius: 50%;\n",
       "        cursor: pointer;\n",
       "        display: none;\n",
       "        fill: #1967D2;\n",
       "        height: 32px;\n",
       "        padding: 0 0 0 0;\n",
       "        width: 32px;\n",
       "      }\n",
       "\n",
       "      .colab-df-generate:hover {\n",
       "        background-color: #E2EBFA;\n",
       "        box-shadow: 0px 1px 2px rgba(60, 64, 67, 0.3), 0px 1px 3px 1px rgba(60, 64, 67, 0.15);\n",
       "        fill: #174EA6;\n",
       "      }\n",
       "\n",
       "      [theme=dark] .colab-df-generate {\n",
       "        background-color: #3B4455;\n",
       "        fill: #D2E3FC;\n",
       "      }\n",
       "\n",
       "      [theme=dark] .colab-df-generate:hover {\n",
       "        background-color: #434B5C;\n",
       "        box-shadow: 0px 1px 3px 1px rgba(0, 0, 0, 0.15);\n",
       "        filter: drop-shadow(0px 1px 2px rgba(0, 0, 0, 0.3));\n",
       "        fill: #FFFFFF;\n",
       "      }\n",
       "    </style>\n",
       "    <button class=\"colab-df-generate\" onclick=\"generateWithVariable('df1')\"\n",
       "            title=\"Generate code using this dataframe.\"\n",
       "            style=\"display:none;\">\n",
       "\n",
       "  <svg xmlns=\"http://www.w3.org/2000/svg\" height=\"24px\"viewBox=\"0 0 24 24\"\n",
       "       width=\"24px\">\n",
       "    <path d=\"M7,19H8.4L18.45,9,17,7.55,7,17.6ZM5,21V16.75L18.45,3.32a2,2,0,0,1,2.83,0l1.4,1.43a1.91,1.91,0,0,1,.58,1.4,1.91,1.91,0,0,1-.58,1.4L9.25,21ZM18.45,9,17,7.55Zm-12,3A5.31,5.31,0,0,0,4.9,8.1,5.31,5.31,0,0,0,1,6.5,5.31,5.31,0,0,0,4.9,4.9,5.31,5.31,0,0,0,6.5,1,5.31,5.31,0,0,0,8.1,4.9,5.31,5.31,0,0,0,12,6.5,5.46,5.46,0,0,0,6.5,12Z\"/>\n",
       "  </svg>\n",
       "    </button>\n",
       "    <script>\n",
       "      (() => {\n",
       "      const buttonEl =\n",
       "        document.querySelector('#id_ae50be0c-7224-4801-8f39-84abec3faefd button.colab-df-generate');\n",
       "      buttonEl.style.display =\n",
       "        google.colab.kernel.accessAllowed ? 'block' : 'none';\n",
       "\n",
       "      buttonEl.onclick = () => {\n",
       "        google.colab.notebook.generateWithVariable('df1');\n",
       "      }\n",
       "      })();\n",
       "    </script>\n",
       "  </div>\n",
       "\n",
       "    </div>\n",
       "  </div>\n"
      ],
      "text/plain": [
       "         model  year transmission  mileage fuelType  tax   mpg  engineSize  \\\n",
       "0       Fiesta  2013       Manual    31156   Petrol  150  55.0         1.2   \n",
       "1       Fiesta  2019       Manual       13   Petrol  145  48.9         1.1   \n",
       "2         Kuga  2016    Semi-Auto    32296   Diesel  145  53.2         2.0   \n",
       "3       Fiesta  2018       Manual     2984   Petrol  145  66.5         1.0   \n",
       "4       Fiesta  2018       Manual    20852   Petrol  145  65.9         1.0   \n",
       "...        ...   ...          ...      ...      ...  ...   ...         ...   \n",
       "17807     Kuga  2019       Manual     5982   Diesel  145  60.5         2.0   \n",
       "17808    Focus  2019       Manual     9382   Petrol  145  60.4         1.0   \n",
       "17809   Fiesta  2015       Manual    54063   Petrol  125  55.1         1.2   \n",
       "17810     Kuga  2018       Manual    28075   Diesel  145  54.3         2.0   \n",
       "17811   Fiesta  2015       Manual    27815   Diesel    0  88.3         1.5   \n",
       "\n",
       "       price  \n",
       "0       4934  \n",
       "1      12127  \n",
       "2      13999  \n",
       "3      11450  \n",
       "4      11068  \n",
       "...      ...  \n",
       "17807  21005  \n",
       "17808  17051  \n",
       "17809   5995  \n",
       "17810  21125  \n",
       "17811   8991  \n",
       "\n",
       "[17812 rows x 9 columns]"
      ]
     },
     "execution_count": 16,
     "metadata": {},
     "output_type": "execute_result"
    }
   ],
   "source": [
    "df1"
   ]
  },
  {
   "cell_type": "code",
   "execution_count": null,
   "metadata": {
    "id": "NGz6h3QUu5Ea"
   },
   "outputs": [],
   "source": [
    "df = pd.concat([df, df1], axis=0)"
   ]
  },
  {
   "cell_type": "code",
   "execution_count": null,
   "metadata": {
    "id": "bRHm3bD3vTUa"
   },
   "outputs": [],
   "source": [
    "df.to_csv('auto_data_augm.csv')"
   ]
  },
  {
   "cell_type": "code",
   "execution_count": null,
   "metadata": {
    "colab": {
     "base_uri": "https://localhost:8080/",
     "height": 366
    },
    "id": "calLLXgivVOc",
    "outputId": "8e899633-65e7-4e9b-bee5-6926a3b3740d"
   },
   "outputs": [
    {
     "data": {
      "text/html": [
       "<div>\n",
       "<style scoped>\n",
       "    .dataframe tbody tr th:only-of-type {\n",
       "        vertical-align: middle;\n",
       "    }\n",
       "\n",
       "    .dataframe tbody tr th {\n",
       "        vertical-align: top;\n",
       "    }\n",
       "\n",
       "    .dataframe thead th {\n",
       "        text-align: right;\n",
       "    }\n",
       "</style>\n",
       "<table border=\"1\" class=\"dataframe\">\n",
       "  <thead>\n",
       "    <tr style=\"text-align: right;\">\n",
       "      <th></th>\n",
       "      <th>0</th>\n",
       "    </tr>\n",
       "  </thead>\n",
       "  <tbody>\n",
       "    <tr>\n",
       "      <th>model</th>\n",
       "      <td>0</td>\n",
       "    </tr>\n",
       "    <tr>\n",
       "      <th>year</th>\n",
       "      <td>0</td>\n",
       "    </tr>\n",
       "    <tr>\n",
       "      <th>transmission</th>\n",
       "      <td>0</td>\n",
       "    </tr>\n",
       "    <tr>\n",
       "      <th>mileage</th>\n",
       "      <td>0</td>\n",
       "    </tr>\n",
       "    <tr>\n",
       "      <th>fuelType</th>\n",
       "      <td>0</td>\n",
       "    </tr>\n",
       "    <tr>\n",
       "      <th>tax</th>\n",
       "      <td>0</td>\n",
       "    </tr>\n",
       "    <tr>\n",
       "      <th>mpg</th>\n",
       "      <td>0</td>\n",
       "    </tr>\n",
       "    <tr>\n",
       "      <th>engineSize</th>\n",
       "      <td>0</td>\n",
       "    </tr>\n",
       "    <tr>\n",
       "      <th>price</th>\n",
       "      <td>0</td>\n",
       "    </tr>\n",
       "  </tbody>\n",
       "</table>\n",
       "</div><br><label><b>dtype:</b> int64</label>"
      ],
      "text/plain": [
       "model           0\n",
       "year            0\n",
       "transmission    0\n",
       "mileage         0\n",
       "fuelType        0\n",
       "tax             0\n",
       "mpg             0\n",
       "engineSize      0\n",
       "price           0\n",
       "dtype: int64"
      ]
     },
     "execution_count": 19,
     "metadata": {},
     "output_type": "execute_result"
    }
   ],
   "source": [
    "df.isnull().sum()"
   ]
  },
  {
   "cell_type": "code",
   "execution_count": null,
   "metadata": {
    "colab": {
     "base_uri": "https://localhost:8080/",
     "height": 53
    },
    "id": "9QzAvPOcv3u-",
    "outputId": "123e1b9d-73de-48e8-df43-4c235e54e310"
   },
   "outputs": [
    {
     "data": {
      "application/vnd.google.colaboratory.intrinsic+json": {
       "repr_error": "Out of range float values are not JSON compliant: nan",
       "type": "dataframe"
      },
      "text/html": [
       "\n",
       "  <div id=\"df-b3a8c190-60a0-44f7-b2de-6eb46e8e10b6\" class=\"colab-df-container\">\n",
       "    <div>\n",
       "<style scoped>\n",
       "    .dataframe tbody tr th:only-of-type {\n",
       "        vertical-align: middle;\n",
       "    }\n",
       "\n",
       "    .dataframe tbody tr th {\n",
       "        vertical-align: top;\n",
       "    }\n",
       "\n",
       "    .dataframe thead th {\n",
       "        text-align: right;\n",
       "    }\n",
       "</style>\n",
       "<table border=\"1\" class=\"dataframe\">\n",
       "  <thead>\n",
       "    <tr style=\"text-align: right;\">\n",
       "      <th></th>\n",
       "      <th>model</th>\n",
       "      <th>year</th>\n",
       "      <th>transmission</th>\n",
       "      <th>mileage</th>\n",
       "      <th>fuelType</th>\n",
       "      <th>tax</th>\n",
       "      <th>mpg</th>\n",
       "      <th>engineSize</th>\n",
       "      <th>price</th>\n",
       "    </tr>\n",
       "  </thead>\n",
       "  <tbody>\n",
       "  </tbody>\n",
       "</table>\n",
       "</div>\n",
       "    <div class=\"colab-df-buttons\">\n",
       "\n",
       "  <div class=\"colab-df-container\">\n",
       "    <button class=\"colab-df-convert\" onclick=\"convertToInteractive('df-b3a8c190-60a0-44f7-b2de-6eb46e8e10b6')\"\n",
       "            title=\"Convert this dataframe to an interactive table.\"\n",
       "            style=\"display:none;\">\n",
       "\n",
       "  <svg xmlns=\"http://www.w3.org/2000/svg\" height=\"24px\" viewBox=\"0 -960 960 960\">\n",
       "    <path d=\"M120-120v-720h720v720H120Zm60-500h600v-160H180v160Zm220 220h160v-160H400v160Zm0 220h160v-160H400v160ZM180-400h160v-160H180v160Zm440 0h160v-160H620v160ZM180-180h160v-160H180v160Zm440 0h160v-160H620v160Z\"/>\n",
       "  </svg>\n",
       "    </button>\n",
       "\n",
       "  <style>\n",
       "    .colab-df-container {\n",
       "      display:flex;\n",
       "      gap: 12px;\n",
       "    }\n",
       "\n",
       "    .colab-df-convert {\n",
       "      background-color: #E8F0FE;\n",
       "      border: none;\n",
       "      border-radius: 50%;\n",
       "      cursor: pointer;\n",
       "      display: none;\n",
       "      fill: #1967D2;\n",
       "      height: 32px;\n",
       "      padding: 0 0 0 0;\n",
       "      width: 32px;\n",
       "    }\n",
       "\n",
       "    .colab-df-convert:hover {\n",
       "      background-color: #E2EBFA;\n",
       "      box-shadow: 0px 1px 2px rgba(60, 64, 67, 0.3), 0px 1px 3px 1px rgba(60, 64, 67, 0.15);\n",
       "      fill: #174EA6;\n",
       "    }\n",
       "\n",
       "    .colab-df-buttons div {\n",
       "      margin-bottom: 4px;\n",
       "    }\n",
       "\n",
       "    [theme=dark] .colab-df-convert {\n",
       "      background-color: #3B4455;\n",
       "      fill: #D2E3FC;\n",
       "    }\n",
       "\n",
       "    [theme=dark] .colab-df-convert:hover {\n",
       "      background-color: #434B5C;\n",
       "      box-shadow: 0px 1px 3px 1px rgba(0, 0, 0, 0.15);\n",
       "      filter: drop-shadow(0px 1px 2px rgba(0, 0, 0, 0.3));\n",
       "      fill: #FFFFFF;\n",
       "    }\n",
       "  </style>\n",
       "\n",
       "    <script>\n",
       "      const buttonEl =\n",
       "        document.querySelector('#df-b3a8c190-60a0-44f7-b2de-6eb46e8e10b6 button.colab-df-convert');\n",
       "      buttonEl.style.display =\n",
       "        google.colab.kernel.accessAllowed ? 'block' : 'none';\n",
       "\n",
       "      async function convertToInteractive(key) {\n",
       "        const element = document.querySelector('#df-b3a8c190-60a0-44f7-b2de-6eb46e8e10b6');\n",
       "        const dataTable =\n",
       "          await google.colab.kernel.invokeFunction('convertToInteractive',\n",
       "                                                    [key], {});\n",
       "        if (!dataTable) return;\n",
       "\n",
       "        const docLinkHtml = 'Like what you see? Visit the ' +\n",
       "          '<a target=\"_blank\" href=https://colab.research.google.com/notebooks/data_table.ipynb>data table notebook</a>'\n",
       "          + ' to learn more about interactive tables.';\n",
       "        element.innerHTML = '';\n",
       "        dataTable['output_type'] = 'display_data';\n",
       "        await google.colab.output.renderOutput(dataTable, element);\n",
       "        const docLink = document.createElement('div');\n",
       "        docLink.innerHTML = docLinkHtml;\n",
       "        element.appendChild(docLink);\n",
       "      }\n",
       "    </script>\n",
       "  </div>\n",
       "\n",
       "\n",
       "    </div>\n",
       "  </div>\n"
      ],
      "text/plain": [
       "Empty DataFrame\n",
       "Columns: [model, year, transmission, mileage, fuelType, tax, mpg, engineSize, price]\n",
       "Index: []"
      ]
     },
     "execution_count": 20,
     "metadata": {},
     "output_type": "execute_result"
    }
   ],
   "source": [
    "df[df.duplicated(keep='first')]"
   ]
  },
  {
   "cell_type": "code",
   "execution_count": null,
   "metadata": {
    "colab": {
     "base_uri": "https://localhost:8080/",
     "height": 545
    },
    "id": "86KRXC-a_Vum",
    "outputId": "74c4fe4b-0d1c-4c8b-e7de-40c65c8168e3"
   },
   "outputs": [
    {
     "data": {
      "image/png": "[encoded data removed]",
      "text/plain": [
       "<Figure size 800x600 with 2 Axes>"
      ]
     },
     "metadata": {},
     "output_type": "display_data"
    }
   ],
   "source": [
    "corr_matrix = df.select_dtypes(include=np.number).corr()\n",
    "plt.figure(figsize=(8,6))\n",
    "sns.heatmap(corr_matrix, annot=True, cmap='coolwarm', fmt=\".2f\")\n",
    "plt.title(\"Correlation Matrix\")\n",
    "plt.show()"
   ]
  },
  {
   "cell_type": "code",
   "execution_count": 29,
   "metadata": {
    "id": "qy9fntBrB4Tg"
   },
   "outputs": [],
   "source": [
    "df_dummies = pd.get_dummies(df, drop_first=True, dtype=int)"
   ]
  },
  {
   "cell_type": "code",
   "execution_count": 30,
   "metadata": {
    "colab": {
     "base_uri": "https://localhost:8080/",
     "height": 719
    },
    "id": "sukN4pNWE7fX",
    "outputId": "7b1727c3-d4d0-4811-9d30-cf7d82c512ea"
   },
   "outputs": [
    {
     "data": {
      "image/png": "[encoded data removed]",
      "text/plain": [
       "<Figure size 1800x1200 with 2 Axes>"
      ]
     },
     "metadata": {},
     "output_type": "display_data"
    }
   ],
   "source": [
    "corr_matrix = df_dummies.corr()\n",
    "plt.figure(figsize=(18,12))\n",
    "sns.heatmap(corr_matrix, cmap='coolwarm')\n",
    "plt.title(\"Correlation Matrix\")\n",
    "plt.show()"
   ]
  },
  {
   "cell_type": "code",
   "execution_count": 24,
   "metadata": {
    "colab": {
     "base_uri": "https://localhost:8080/",
     "height": 241
    },
    "id": "83AR2sO1Riqx",
    "outputId": "9ad34556-c051-4894-c7ef-3a5215f586bb"
   },
   "outputs": [
    {
     "data": {
      "text/html": [
       "<div>\n",
       "<style scoped>\n",
       "    .dataframe tbody tr th:only-of-type {\n",
       "        vertical-align: middle;\n",
       "    }\n",
       "\n",
       "    .dataframe tbody tr th {\n",
       "        vertical-align: top;\n",
       "    }\n",
       "\n",
       "    .dataframe thead th {\n",
       "        text-align: right;\n",
       "    }\n",
       "</style>\n",
       "<table border=\"1\" class=\"dataframe\">\n",
       "  <thead>\n",
       "    <tr style=\"text-align: right;\">\n",
       "      <th></th>\n",
       "      <th>price</th>\n",
       "    </tr>\n",
       "  </thead>\n",
       "  <tbody>\n",
       "    <tr>\n",
       "      <th>year</th>\n",
       "      <td>0.635715</td>\n",
       "    </tr>\n",
       "    <tr>\n",
       "      <th>mileage</th>\n",
       "      <td>-0.530483</td>\n",
       "    </tr>\n",
       "    <tr>\n",
       "      <th>engineSize</th>\n",
       "      <td>0.411451</td>\n",
       "    </tr>\n",
       "    <tr>\n",
       "      <th>tax</th>\n",
       "      <td>0.405970</td>\n",
       "    </tr>\n",
       "    <tr>\n",
       "      <th>mpg</th>\n",
       "      <td>-0.346263</td>\n",
       "    </tr>\n",
       "  </tbody>\n",
       "</table>\n",
       "</div><br><label><b>dtype:</b> float64</label>"
      ],
      "text/plain": [
       "year          0.635715\n",
       "mileage      -0.530483\n",
       "engineSize    0.411451\n",
       "tax           0.405970\n",
       "mpg          -0.346263\n",
       "Name: price, dtype: float64"
      ]
     },
     "execution_count": 24,
     "metadata": {},
     "output_type": "execute_result"
    }
   ],
   "source": [
    "#Task4\n",
    "corr_matrix['price'].drop('price').sort_values(ascending=False, key=abs).head(5)"
   ]
  },
  {
   "cell_type": "code",
   "execution_count": 25,
   "metadata": {
    "colab": {
     "base_uri": "https://localhost:8080/",
     "height": 272
    },
    "id": "7K-O6Pgncnmy",
    "outputId": "00462b6a-0a54-4095-8c63-e0394646af78"
   },
   "outputs": [
    {
     "data": {
      "text/html": [
       "<div>\n",
       "<style scoped>\n",
       "    .dataframe tbody tr th:only-of-type {\n",
       "        vertical-align: middle;\n",
       "    }\n",
       "\n",
       "    .dataframe tbody tr th {\n",
       "        vertical-align: top;\n",
       "    }\n",
       "\n",
       "    .dataframe thead th {\n",
       "        text-align: right;\n",
       "    }\n",
       "</style>\n",
       "<table border=\"1\" class=\"dataframe\">\n",
       "  <thead>\n",
       "    <tr style=\"text-align: right;\">\n",
       "      <th></th>\n",
       "      <th>count</th>\n",
       "    </tr>\n",
       "    <tr>\n",
       "      <th>fuelType</th>\n",
       "      <th></th>\n",
       "    </tr>\n",
       "  </thead>\n",
       "  <tbody>\n",
       "    <tr>\n",
       "      <th>Petrol</th>\n",
       "      <td>12081</td>\n",
       "    </tr>\n",
       "    <tr>\n",
       "      <th>Diesel</th>\n",
       "      <td>5706</td>\n",
       "    </tr>\n",
       "    <tr>\n",
       "      <th>Hybrid</th>\n",
       "      <td>22</td>\n",
       "    </tr>\n",
       "    <tr>\n",
       "      <th>Electric</th>\n",
       "      <td>2</td>\n",
       "    </tr>\n",
       "    <tr>\n",
       "      <th>Other</th>\n",
       "      <td>1</td>\n",
       "    </tr>\n",
       "  </tbody>\n",
       "</table>\n",
       "</div><br><label><b>dtype:</b> int64</label>"
      ],
      "text/plain": [
       "fuelType\n",
       "Petrol      12081\n",
       "Diesel       5706\n",
       "Hybrid         22\n",
       "Electric        2\n",
       "Other           1\n",
       "Name: count, dtype: int64"
      ]
     },
     "execution_count": 25,
     "metadata": {},
     "output_type": "execute_result"
    }
   ],
   "source": [
    "#Task5\n",
    "df['fuelType'].value_counts()"
   ]
  },
  {
   "cell_type": "code",
   "execution_count": 26,
   "metadata": {
    "colab": {
     "base_uri": "https://localhost:8080/",
     "height": 564
    },
    "id": "TL5XWDuxgYph",
    "outputId": "10d206a1-bf1c-4eee-c181-bd143b031111"
   },
   "outputs": [
    {
     "data": {
      "image/png": "[encoded data removed]",
      "text/plain": [
       "<Figure size 800x600 with 1 Axes>"
      ]
     },
     "metadata": {},
     "output_type": "display_data"
    }
   ],
   "source": [
    "#Task6\n",
    "plt.figure(figsize=(8, 6))\n",
    "sns.boxplot(x='transmission', y='price', data=df)\n",
    "plt.title('Boxplot of Transmission type and Price')\n",
    "plt.xlabel('Transmission')\n",
    "plt.ylabel('Price')\n",
    "plt.show()"
   ]
  },
  {
   "cell_type": "code",
   "execution_count": 22,
   "metadata": {
    "colab": {
     "base_uri": "https://localhost:8080/",
     "height": 564
    },
    "id": "h7BTa8UKbYK5",
    "outputId": "a59c0fe1-7cf5-4045-f8a8-6681fa849a72"
   },
   "outputs": [
    {
     "data": {
      "image/png": "[encoded data removed]",
      "text/plain": [
       "<Figure size 800x600 with 1 Axes>"
      ]
     },
     "metadata": {},
     "output_type": "display_data"
    }
   ],
   "source": [
    "plt.figure(figsize=(8,6))\n",
    "sns.boxplot(x='fuelType', y='price', data=df)\n",
    "plt.title('Boxplot of Fuel type and Price')\n",
    "plt.xlabel('Fuel type')\n",
    "plt.ylabel('Price')\n",
    "plt.show()"
   ]
  },
  {
   "cell_type": "code",
   "execution_count": 27,
   "metadata": {
    "colab": {
     "base_uri": "https://localhost:8080/",
     "height": 564
    },
    "id": "2QGa71eGizs2",
    "outputId": "32d1cb11-fd47-40fb-910d-536f17b02588"
   },
   "outputs": [
    {
     "data": {
      "image/png": "[encoded data removed]",
      "text/plain": [
       "<Figure size 800x600 with 1 Axes>"
      ]
     },
     "metadata": {},
     "output_type": "display_data"
    }
   ],
   "source": [
    "#Task7\n",
    "plt.figure(figsize=(8, 6))\n",
    "sns.regplot(x='mpg', y='price', data=df)\n",
    "plt.title('Regression plot of MPG and Price')\n",
    "plt.xlabel('MPG')\n",
    "plt.ylabel('Price')\n",
    "plt.show()"
   ]
  },
  {
   "cell_type": "code",
   "execution_count": null,
   "metadata": {
    "colab": {
     "base_uri": "https://localhost:8080/"
    },
    "id": "I1d0iquMlbvF",
    "outputId": "f8795180-9904-4a77-ba1d-542e2f8f177f"
   },
   "outputs": [
    {
     "name": "stdout",
     "output_type": "stream",
     "text": [
      "MSE = 19049855.14 \n",
      "R^2 = 0.15\n"
     ]
    }
   ],
   "source": [
    "#Linear Regression\n",
    "X = df[['mpg']]\n",
    "y = df['price']\n",
    "X_train, X_test, y_train, y_test = train_test_split(X, y, test_size=0.2, random_state=42)\n",
    "lr = LinearRegression()\n",
    "lr.fit(X_train, y_train)\n",
    "yhat = lr.predict(X_test)\n",
    "mse = mean_squared_error(y_test, yhat)\n",
    "r2 = r2_score(y_test, yhat)\n",
    "print(f'MSE = {mse:.2f} \\nR^2 = {r2:.2f}')"
   ]
  },
  {
   "cell_type": "code",
   "execution_count": null,
   "metadata": {
    "colab": {
     "base_uri": "https://localhost:8080/"
    },
    "id": "yJL-v3-Vogfb",
    "outputId": "a061b99a-9b3e-435a-ebc1-407e27e98600"
   },
   "outputs": [
    {
     "name": "stdout",
     "output_type": "stream",
     "text": [
      "MSE = 6912744.93 \n",
      "R^2 = 0.69\n"
     ]
    }
   ],
   "source": [
    "#Multi-Linear Regression (5 features)\n",
    "X = df[['year','mileage','tax','engineSize' ,'mpg']]\n",
    "y = df['price']\n",
    "X_train, X_test, y_train, y_test = train_test_split(X, y, test_size=0.2, random_state=42)\n",
    "lr = LinearRegression()\n",
    "lr.fit(X_train, y_train)\n",
    "yhat = lr.predict(X_test)\n",
    "mse = mean_squared_error(y_test, yhat)\n",
    "r2 = r2_score(y_test, yhat)\n",
    "print(f'MSE = {mse:.2f} \\nR^2 = {r2:.2f}')"
   ]
  },
  {
   "cell_type": "code",
   "execution_count": null,
   "metadata": {
    "colab": {
     "base_uri": "https://localhost:8080/"
    },
    "id": "TKe_9Q3fpYmP",
    "outputId": "a418227f-3a69-42fa-b87d-d9b238df665c"
   },
   "outputs": [
    {
     "name": "stdout",
     "output_type": "stream",
     "text": [
      "MSE = 5234037.30 \n",
      "R^2 = 0.77\n"
     ]
    }
   ],
   "source": [
    "#Task8\n",
    "##Multi-Linear Regression (5 features) + Polynomial Features + Scaling (no train_test_spit)\n",
    "X = df[['year','mileage','tax','engineSize' ,'mpg']]\n",
    "y = df['price']\n",
    "\n",
    "Input = [('scaler', StandardScaler()), ('polynomial', PolynomialFeatures(degree=2, include_bias=False)), ('model', LinearRegression())]\n",
    "pipe = Pipeline(Input)\n",
    "X = X.astype(float)\n",
    "pipe.fit(X, y)\n",
    "yhat = pipe.predict(X)\n",
    "mse = mean_squared_error(y, yhat)\n",
    "r2 = r2_score(y, yhat)\n",
    "print(f'MSE = {mse:.2f} \\nR^2 = {r2:.2f}')"
   ]
  },
  {
   "cell_type": "code",
   "execution_count": null,
   "metadata": {
    "colab": {
     "base_uri": "https://localhost:8080/"
    },
    "id": "sGBF2FWOLOMU",
    "outputId": "029021d5-aea7-49fd-cadc-6f05dac200b2"
   },
   "outputs": [
    {
     "name": "stdout",
     "output_type": "stream",
     "text": [
      "Mean Squared Error (MSE): 0.4667434955712589\n",
      "Coefficient of Determination (R^2): 0.5332565044287412\n"
     ]
    }
   ],
   "source": [
    "#Multi-Linear Regression (5 features) train_test_spit + Polynomial Features + Scaling\n",
    "#This is wrong!\n",
    "#The same as before but using train and test split.\n",
    "#The scaling and polynomials before the split\n",
    "#Worse!\n",
    "\n",
    "# Create Scaler\n",
    "X = StandardScaler().fit_transform(df[['year','mileage','tax','engineSize' ,'mpg']])\n",
    "y = StandardScaler().fit_transform(df[['price']])\n",
    "\n",
    "# Create polynomial features\n",
    "polynomial_features = PolynomialFeatures(degree=2)\n",
    "\n",
    "# Transform the source variables into polynomial features\n",
    "X_poly = polynomial_features.fit_transform(X)\n",
    "\n",
    "#Split training and testing data\n",
    "X_train, X_test, y_train, y_test = train_test_split(X_poly, y, test_size=0.2, random_state=42)\n",
    "\n",
    "# Create Scaler, beacause the penalty depends on the magnitude of the coefficients\n",
    "X_train_scaled = StandardScaler().fit_transform(X_train)\n",
    "X_test_scaled = StandardScaler().fit_transform(X_test)\n",
    "y_train_scaled = StandardScaler().fit_transform(y_train)\n",
    "y_test_scaled = StandardScaler().fit_transform(y_test)\n",
    "\n",
    "# Initialize a Linear regression model\n",
    "model = LinearRegression()\n",
    "\n",
    "\n",
    "# Train the model using the polynomial features and target variable\n",
    "model.fit(X_train_scaled, y_train_scaled)\n",
    "\n",
    "\n",
    "#Make predictions:\n",
    "y_pred = model.predict(X_test_scaled)\n",
    "\n",
    "\n",
    "# Calculate the mean squared error (MSE)\n",
    "mse = mean_squared_error(y_test_scaled, y_pred)\n",
    "\n",
    "# Calculate the coefficient of determination (R^2)\n",
    "r2 = r2_score(y_test_scaled, y_pred)\n",
    "\n",
    "# Display the MSE and R^2 values\n",
    "print(\"Mean Squared Error (MSE):\", mse)\n",
    "print(\"Coefficient of Determination (R^2):\", r2)"
   ]
  },
  {
   "cell_type": "code",
   "execution_count": null,
   "metadata": {
    "colab": {
     "base_uri": "https://localhost:8080/"
    },
    "id": "G3XpDdw-Yyrb",
    "outputId": "c943caed-ccb6-46c5-a045-c4abcdefeaeb"
   },
   "outputs": [
    {
     "name": "stdout",
     "output_type": "stream",
     "text": [
      "Mean Squared Error (MSE): 19704762.40969775\n",
      "Coefficient of Determination (R^2): 0.12122750086353073\n"
     ]
    }
   ],
   "source": [
    "#Multi-Linear Regression (5 features) train_test_spit + Polynomial Features + Scaling (degree=2)\n",
    "#The same as before but correct order split->polynomials->scale->model\n",
    "#Worse!\n",
    "# Create Scaler\n",
    "X = df[['year','mileage','tax','engineSize' ,'mpg']]\n",
    "y = df[['price']]\n",
    "\n",
    "#Split training and testing data\n",
    "X_train, X_test, y_train, y_test = train_test_split(X, y, test_size=0.2, random_state=42)\n",
    "\n",
    "\n",
    "# Create polynomial features\n",
    "poly_features = PolynomialFeatures(degree=2)\n",
    "# Transform the source variables into polynomial features\n",
    "X_train_poly = poly_features.fit_transform(X_train)\n",
    "X_test_poly = poly_features.transform(X_test)\n",
    "\n",
    "# Create Scaler, beacause the penalty depends on the magnitude of the coefficients\n",
    "scaler = StandardScaler()\n",
    "X_train_scaled = scaler.fit_transform(X_train_poly)\n",
    "X_test_scaled = scaler.transform(X_test_poly)\n",
    "\n",
    "# Initialize a Linear regression model\n",
    "model = LinearRegression()\n",
    "\n",
    "\n",
    "# Train the model using the polynomial features and target variable\n",
    "model.fit(X_train_scaled, y_train)\n",
    "\n",
    "\n",
    "#Make predictions:\n",
    "y_pred = model.predict(X_test_scaled)\n",
    "\n",
    "\n",
    "# Calculate the mean squared error (MSE)\n",
    "mse = mean_squared_error(y_test, y_pred)\n",
    "\n",
    "# Calculate the coefficient of determination (R^2)\n",
    "r2 = r2_score(y_test, y_pred)\n",
    "\n",
    "# Display the MSE and R^2 values\n",
    "print(\"Mean Squared Error (MSE):\", mse)\n",
    "print(\"Coefficient of Determination (R^2):\", r2)"
   ]
  },
  {
   "cell_type": "code",
   "execution_count": null,
   "metadata": {
    "colab": {
     "base_uri": "https://localhost:8080/"
    },
    "id": "Wxa9__IIb81v",
    "outputId": "6c1a7ac4-b3fc-4556-923a-6b32398ca0d2"
   },
   "outputs": [
    {
     "name": "stdout",
     "output_type": "stream",
     "text": [
      "Mean Squared Error (MSE): 55520119.084947385\n",
      "Coefficient of Determination (R^2): -1.4760285247906206\n"
     ]
    }
   ],
   "source": [
    "#Multi-Linear Regression (5 features) train_test_spit + Polynomial Features + Scaling (degree=3)\n",
    "#The same as before but degree=3\n",
    "#Worse!\n",
    "# Create Scaler\n",
    "X = df[['year','mileage','tax','engineSize' ,'mpg']]\n",
    "y = df[['price']]\n",
    "\n",
    "#Split training and testing data\n",
    "X_train, X_test, y_train, y_test = train_test_split(X, y, test_size=0.2, random_state=42)\n",
    "\n",
    "\n",
    "# Create polynomial features\n",
    "poly_features = PolynomialFeatures(degree=3)\n",
    "# Transform the source variables into polynomial features\n",
    "X_train_poly = poly_features.fit_transform(X_train)\n",
    "X_test_poly = poly_features.transform(X_test)\n",
    "\n",
    "# Create Scaler, beacause the penalty depends on the magnitude of the coefficients\n",
    "scaler = StandardScaler()\n",
    "X_train_scaled = scaler.fit_transform(X_train_poly)\n",
    "X_test_scaled = scaler.transform(X_test_poly)\n",
    "\n",
    "# Initialize a Linear regression model\n",
    "model = LinearRegression()\n",
    "\n",
    "\n",
    "# Train the model using the polynomial features and target variable\n",
    "model.fit(X_train_scaled, y_train)\n",
    "\n",
    "\n",
    "#Make predictions:\n",
    "y_pred = model.predict(X_test_scaled)\n",
    "\n",
    "\n",
    "# Calculate the mean squared error (MSE)\n",
    "mse = mean_squared_error(y_test, y_pred)\n",
    "\n",
    "# Calculate the coefficient of determination (R^2)\n",
    "r2 = r2_score(y_test, y_pred)\n",
    "\n",
    "# Display the MSE and R^2 values\n",
    "print(\"Mean Squared Error (MSE):\", mse)\n",
    "print(\"Coefficient of Determination (R^2):\", r2)"
   ]
  },
  {
   "cell_type": "code",
   "execution_count": null,
   "metadata": {
    "colab": {
     "base_uri": "https://localhost:8080/"
    },
    "id": "3rkpIfZoXmbQ",
    "outputId": "2baae718-24a7-4ed1-a5f9-0c56d87dd7f1"
   },
   "outputs": [
    {
     "name": "stdout",
     "output_type": "stream",
     "text": [
      "Mean Squared Error (MSE): 0.8212231682181089\n",
      "Coefficient of Determination (R^2): 0.17877683178189108\n"
     ]
    }
   ],
   "source": [
    "#Multi-Linear Regression (5 features) train_test_spit + Polynomial Features + Scaling (degree=2)\n",
    "#The same as before but using polynomial features after train and test split.\n",
    "#Better\n",
    "#This is Wrong!\n",
    "\n",
    "# Create Scaler\n",
    "X = StandardScaler().fit_transform(df[['year','mileage','tax','engineSize' ,'mpg']])\n",
    "y = StandardScaler().fit_transform(df[['price']])\n",
    "\n",
    "\n",
    "\n",
    "#Split training and testing data\n",
    "X_train, X_test, y_train, y_test = train_test_split(X, y, test_size=0.2, random_state=42)\n",
    "\n",
    "# Create Scaler, beacause the penalty depends on the magnitude of the coefficients\n",
    "X_train_scaled = StandardScaler().fit_transform(X_train)\n",
    "X_test_scaled = StandardScaler().fit_transform(X_test)\n",
    "y_train_scaled = StandardScaler().fit_transform(y_train)\n",
    "y_test_scaled = StandardScaler().fit_transform(y_test)\n",
    "\n",
    "#polynomial features\n",
    "poly_features = PolynomialFeatures(degree=2)\n",
    "X_train_poly = poly_features.fit_transform(X_train_scaled)\n",
    "X_test_poly = poly_features.fit_transform(X_test_scaled)\n",
    "\n",
    "# Initialize a Linear regression model\n",
    "model = LinearRegression()\n",
    "\n",
    "\n",
    "# Train the model using the polynomial features and target variable\n",
    "model.fit(X_train_poly, y_train_scaled)\n",
    "\n",
    "\n",
    "#Make predictions:\n",
    "y_pred = model.predict(X_test_poly)\n",
    "\n",
    "\n",
    "# Calculate the mean squared error (MSE)\n",
    "mse = mean_squared_error(y_test_scaled, y_pred)\n",
    "\n",
    "# Calculate the coefficient of determination (R^2)\n",
    "r2 = r2_score(y_test_scaled, y_pred)\n",
    "\n",
    "# Display the MSE and R^2 values\n",
    "print(\"Mean Squared Error (MSE):\", mse)\n",
    "print(\"Coefficient of Determination (R^2):\", r2)"
   ]
  },
  {
   "cell_type": "code",
   "execution_count": 17,
   "metadata": {
    "id": "iNajapqbymE7"
   },
   "outputs": [],
   "source": [
    "def calculate_vif(df):\n",
    "    \"\"\"Calculate Variance Inflation Factor (VIF) for each feature in the DataFrame.\"\"\"\n",
    "    # Ensure no missing values\n",
    "    df = df.dropna()\n",
    "\n",
    "    # Standardizing (not necessary for VIF, but can help interpretability)\n",
    "    scaler = StandardScaler()\n",
    "    df_scaled = pd.DataFrame(scaler.fit_transform(df), columns=df.columns)\n",
    "\n",
    "    # Compute VIF for each feature\n",
    "    vif_data = pd.DataFrame()\n",
    "    vif_data[\"Feature\"] = df_scaled.columns\n",
    "    vif_data[\"VIF\"] = [variance_inflation_factor(df_scaled.values, i) for i in range(df_scaled.shape[1])]\n",
    "\n",
    "    return vif_data"
   ]
  },
  {
   "cell_type": "code",
   "execution_count": 18,
   "metadata": {
    "colab": {
     "base_uri": "https://localhost:8080/"
    },
    "id": "FqsKBWM5y3XN",
    "outputId": "7b4bc951-a769-4a63-ddf3-c7a939284cd6"
   },
   "outputs": [
    {
     "name": "stdout",
     "output_type": "stream",
     "text": [
      "                         Feature        VIF\n",
      "0                           year   2.417586\n",
      "1                        mileage   2.301856\n",
      "2                            tax   1.621004\n",
      "3                            mpg   3.752105\n",
      "4                     engineSize   5.198151\n",
      "5                   model_ C-MAX   2.529780\n",
      "6                model_ EcoSport   4.111358\n",
      "7                    model_ Edge   1.771918\n",
      "8                  model_ Escort   1.014290\n",
      "9                  model_ Fiesta  12.925800\n",
      "10                  model_ Focus  10.739573\n",
      "11                 model_ Fusion   1.067249\n",
      "12                 model_ Galaxy   1.764857\n",
      "13            model_ Grand C-MAX   1.737252\n",
      "14  model_ Grand Tourneo Connect   1.194574\n",
      "15                     model_ KA   1.569233\n",
      "16                    model_ Ka+   2.500383\n",
      "17                   model_ Kuga   7.402796\n",
      "18                 model_ Mondeo   2.645807\n",
      "19                model_ Mustang   1.853548\n",
      "20                   model_ Puma   1.251679\n",
      "21                 model_ Ranger   1.006888\n",
      "22                  model_ S-MAX   1.980757\n",
      "23               model_ Streetka   1.012006\n",
      "24        model_ Tourneo Connect   1.108955\n",
      "25         model_ Tourneo Custom   1.317169\n",
      "26        model_ Transit Tourneo   1.004638\n",
      "27                   model_Focus   1.003230\n",
      "28           transmission_Manual   1.978591\n",
      "29        transmission_Semi-Auto   1.730657\n",
      "30             fuelType_Electric   1.006419\n",
      "31               fuelType_Hybrid   1.085844\n",
      "32                fuelType_Other   1.003277\n",
      "33               fuelType_Petrol   6.250890\n",
      "Mean Squared Error (MSE): 973864017267.5753\n",
      "Coefficient of Determination (R^2): -43430.37453167779\n"
     ]
    }
   ],
   "source": [
    "#df_dummies\n",
    "#Multi-Linear Regression (all features) VIF + train_test_spit + Polynomial Features + Scaling (degree=3)\n",
    "#The same as before but with VIF for multicolinearity reduction\n",
    "#Much Worse!\n",
    "\n",
    "\n",
    "X = df_dummies.drop('price',axis=1)\n",
    "y = df_dummies['price']\n",
    "# Example Usage:\n",
    "# Assuming `X` is your feature matrix (excluding the target variable)\n",
    "#Step 1: Calculate VIF\n",
    "vif_df = calculate_vif(X)  # Replace X with your feature DataFrame\n",
    "print(vif_df) #Check VIF values\n",
    "\n",
    "#Step 2: Drop high VIF features (Example: Drop features with VIF > 10)\n",
    "high_vif_features = vif_df[vif_df[\"VIF\"] > 10][\"Feature\"].tolist()\n",
    "X_selected = X.drop(columns=high_vif_features) #Keep only low VIF features\n",
    "\n",
    "#Step 3:Split training and testing data\n",
    "X_train, X_test, y_train, y_test = train_test_split(X_selected, y, test_size=0.2, random_state=42)\n",
    "\n",
    "#Step 4: Scaling & modelling\n",
    "# Create polynomial features\n",
    "poly_features = PolynomialFeatures(degree=3)\n",
    "# Transform the source variables into polynomial features\n",
    "X_train_poly = poly_features.fit_transform(X_train)\n",
    "X_test_poly = poly_features.transform(X_test)\n",
    "\n",
    "# Create Scaler, beacause the penalty depends on the magnitude of the coefficients\n",
    "scaler = StandardScaler()\n",
    "X_train_scaled = scaler.fit_transform(X_train_poly)\n",
    "X_test_scaled = scaler.transform(X_test_poly)\n",
    "\n",
    "# Initialize a Linear regression model\n",
    "model = LinearRegression()\n",
    "\n",
    "\n",
    "# Train the model using the polynomial features and target variable\n",
    "model.fit(X_train_scaled, y_train)\n",
    "\n",
    "\n",
    "#Make predictions:\n",
    "y_pred = model.predict(X_test_scaled)\n",
    "\n",
    "\n",
    "# Calculate the mean squared error (MSE)\n",
    "mse = mean_squared_error(y_test, y_pred)\n",
    "\n",
    "# Calculate the coefficient of determination (R^2)\n",
    "r2 = r2_score(y_test, y_pred)\n",
    "\n",
    "# Display the MSE and R^2 values\n",
    "print(\"Mean Squared Error (MSE):\", mse)\n",
    "print(\"Coefficient of Determination (R^2):\", r2)"
   ]
  },
  {
   "cell_type": "code",
   "execution_count": 35,
   "metadata": {
    "colab": {
     "base_uri": "https://localhost:8080/"
    },
    "id": "bbJM8hxVV5s_",
    "outputId": "9f9c3135-68c9-43c0-cb98-e79c23b175ce"
   },
   "outputs": [
    {
     "name": "stdout",
     "output_type": "stream",
     "text": [
      "Mean Squared Error (MSE): 6556047.748958903\n",
      "Coefficient of Determination (R^2): 0.7076202013998802\n"
     ]
    }
   ],
   "source": [
    "#df_dummies\n",
    "#Multi-Linear Regression (5 features) train_test_spit + Polynomial Features + Scaling (degree=2) + PCA\n",
    "# Much Better than plain or VIF\n",
    "\n",
    "X = df_dummies.drop('price',axis=1)\n",
    "y = df_dummies['price']\n",
    "#Split training and testing data\n",
    "X_train, X_test, y_train, y_test = train_test_split(X, y, test_size=0.2, random_state=42)\n",
    "poly_features = PolynomialFeatures(degree=3)\n",
    "# Transform the source variables into polynomial features\n",
    "X_train_poly = poly_features.fit_transform(X_train)\n",
    "X_test_poly = poly_features.transform(X_test)\n",
    "# Create Scaler, beacause the penalty depends on the magnitude of the coefficients\n",
    "scaler = StandardScaler()\n",
    "X_train_scaled = scaler.fit_transform(X_train_poly)\n",
    "X_test_scaled = scaler.transform(X_test_poly)\n",
    "#PCA (Dimensionality Reduction)\n",
    "#Apply PCA after scaling!\n",
    "pca = PCA(n_components=31)\n",
    "X_train_pca = pca.fit_transform(X_train_scaled)\n",
    "X_test_pca = pca.transform(X_test_scaled)\n",
    "# Initialize a Linear regression model\n",
    "model = LinearRegression()\n",
    "# Train the model using the polynomial features and target variable\n",
    "model.fit(X_train_pca, y_train)\n",
    "#Make predictions:\n",
    "y_pred = model.predict(X_test_pca)\n",
    "# Calculate the mean squared error (MSE)\n",
    "mse = mean_squared_error(y_test, y_pred)\n",
    "# Calculate the coefficient of determination (R^2)\n",
    "r2 = r2_score(y_test, y_pred)\n",
    "# Display the MSE and R^2 values\n",
    "print(\"Mean Squared Error (MSE):\", mse)\n",
    "print(\"Coefficient of Determination (R^2):\", r2)"
   ]
  },
  {
   "cell_type": "code",
   "execution_count": 32,
   "metadata": {
    "colab": {
     "base_uri": "https://localhost:8080/"
    },
    "id": "r4Kki2ULcUi3",
    "outputId": "b9bc0017-8ba9-45de-8aae-06f36ce50a88"
   },
   "outputs": [
    {
     "name": "stdout",
     "output_type": "stream",
     "text": [
      "R^2 scores for each fold: [0.71929505 0.70309741 0.70887509 0.67794097 0.04031952]\n",
      "Mean R^2 Score: 0.57\n",
      "Standard Deviation of R^2 σ: 0.27\n"
     ]
    }
   ],
   "source": [
    "#df_dummies\n",
    "#Multi-Linear Regression + Polynomial Features(degree=3) + Scaling  + PCA + cross_val_score\n",
    "# Much Better than plain or VIF, but still worse than with the 5-features dataset\n",
    "#The problem here is that one fold performs poorly, lowering the overall mean R^2.\n",
    "#That is probably because of imbalanced distributions (many badget and few luxury cars),\n",
    "#so some folds mighr contain none luxury cars.\n",
    "#To fix this I will shuffle the data using KFold and shuffle=True in the next cell.\n",
    "#Also, PCA might reduce dimentinality differently in each fold, so istead of fixing the n_components to 31,\n",
    "#I'll keep components that explain 95% of the variance\n",
    "X = df_dummies.drop('price',axis=1)\n",
    "y = df_dummies['price']\n",
    "X = X.astype(float)\n",
    "Input = [('polynomial', PolynomialFeatures(degree=3, include_bias=False)), ('scaler', StandardScaler()),\n",
    "         ('pca', PCA(n_components=31)), ('model', LinearRegression())]\n",
    "pipe = Pipeline(Input)\n",
    "cv_scores = cross_val_score(pipe, X, y, cv=5, scoring='r2')\n",
    "print(f'R^2 scores for each fold: {cv_scores}')\n",
    "print(f'Mean R^2 Score: {np.mean(cv_scores):.2f}')\n",
    "print(f'Standard Deviation of R^2 σ: {np.std(cv_scores):.2f}')"
   ]
  },
  {
   "cell_type": "code",
   "execution_count": 34,
   "metadata": {},
   "outputs": [
    {
     "name": "stdout",
     "output_type": "stream",
     "text": [
      "R^2 scores for each fold: [0.79868436 0.81919801 0.82330906 0.80556101 0.86194754]\n",
      "Mean R^2 Score: 0.82\n",
      "Standard Deviation of R^2 σ: 0.02\n"
     ]
    }
   ],
   "source": [
    "#Correct Version\n",
    "#df_dummies\n",
    "#Multi-Linear Regression + Polynomial Features(degree=3) + Scaling  + PCA + cross_val_score + KFold\n",
    "# Much Better than plain or VIF and the previous without kfold\n",
    "X = df_dummies.drop('price',axis=1)\n",
    "y = df_dummies['price']\n",
    "X = X.astype('float32')\n",
    "Input = [('polynomial', PolynomialFeatures(degree=2, include_bias=False)), ('scaler', StandardScaler()),\n",
    "         ('pca', PCA(n_components=0.95)), ('model', LinearRegression())]\n",
    "pipe = Pipeline(Input)\n",
    "kf = KFold(n_splits=5, shuffle=True, random_state=42)\n",
    "cv_scores = cross_val_score(pipe, X, y, cv=kf, scoring='r2', n_jobs=-1)\n",
    "print(f'R^2 scores for each fold: {cv_scores}')\n",
    "print(f'Mean R^2 Score: {np.mean(cv_scores):.2f}')\n",
    "print(f'Standard Deviation of R^2 σ: {np.std(cv_scores):.2f}')"
   ]
  },
  {
   "cell_type": "code",
   "execution_count": 86,
   "metadata": {},
   "outputs": [
    {
     "name": "stdout",
     "output_type": "stream",
     "text": [
      "Best parameters: {'pca__n_components': 0.9500000000000001}\n",
      "Best score: 0.7631475478410721\n",
      "R^2 scores for each fold: [0.79868436 0.81919801 0.82330906 0.80556101 0.86194754]\n",
      "Mean R^2 Score: 0.82\n",
      "Standard Deviation of R^2 σ: 0.02\n"
     ]
    }
   ],
   "source": [
    "#Correct Version\n",
    "#df_dummies\n",
    "#Linear Regression + Polynomial Features(degree=2) + Scaling  + PCA + cross_val_score+ GridSearchCV + KFold\n",
    "# No change, GridsearchCV doesn't change anything,\n",
    "#because in the previous I have already found the optimal hyperparameter 'n_components=0.95'\n",
    "X = df_dummies.drop('price',axis=1)\n",
    "y = df_dummies['price']\n",
    "X = X.astype('float32')\n",
    "Input = [('polynomial', PolynomialFeatures(degree=2, include_bias=False)), ('scaler', StandardScaler()),\n",
    "         ('pca', PCA()), ('model', LinearRegression())]\n",
    "pipe = Pipeline(Input)\n",
    "param_grid = {'pca__n_components': np.arange(0.05, 1.00, 0.05)\n",
    "              }\n",
    "\n",
    "grid_search = GridSearchCV(pipe, param_grid=param_grid, cv=4, scoring='r2', n_jobs=-1)\n",
    "grid_search.fit(X, y)\n",
    "\n",
    "print(f\"Best parameters: {grid_search.best_params_}\")\n",
    "print(f\"Best score: {grid_search.best_score_}\")\n",
    "\n",
    "best_pipe = grid_search.best_estimator_\n",
    "kf = KFold(n_splits=5, shuffle=True, random_state=42)\n",
    "cv_scores = cross_val_score(best_pipe, X, y, cv=kf, scoring='r2', n_jobs=-1)\n",
    "print(f'R^2 scores for each fold: {cv_scores}')\n",
    "print(f'Mean R^2 Score: {np.mean(cv_scores):.2f}')\n",
    "print(f'Standard Deviation of R^2 σ: {np.std(cv_scores):.2f}')"
   ]
  },
  {
   "cell_type": "code",
   "execution_count": 38,
   "metadata": {
    "colab": {
     "base_uri": "https://localhost:8080/"
    },
    "id": "Vs4zZhMriM8x",
    "outputId": "d9920495-3846-4bb1-d795-89119a745efc"
   },
   "outputs": [
    {
     "name": "stdout",
     "output_type": "stream",
     "text": [
      "Best parameters: {'pca__n_components': 34}\n",
      "Best score: 0.7404493689537048\n",
      "R^2 scores for each fold: [0.77499902 0.75923419 0.76904565 0.74746323 0.65150476]\n",
      "Mean R^2 Score: 0.74\n",
      "Standard Deviation of R^2 σ: 0.05\n"
     ]
    }
   ],
   "source": [
    "#df_dummies\n",
    "#Multi-Linear Regression + Polynomial Features(degree=3) + Scaling  + PCA + cross_val_score + GridSearchCV\n",
    "# Worse, needs n_components dynamic ->95%\n",
    "X = df_dummies.drop('price',axis=1)\n",
    "y = df_dummies['price']\n",
    "X = X.astype('float32')\n",
    "Input = [('polynomial', PolynomialFeatures(degree=2, include_bias=False)), ('scaler', StandardScaler()),\n",
    "         ('pca', PCA()), ('model', LinearRegression())]\n",
    "pipe = Pipeline(Input)\n",
    "param_grid = {'pca__n_components': range(1, X.shape[1] + 1)}\n",
    "grid_search = GridSearchCV(pipe, param_grid=param_grid, cv=5, scoring='r2', n_jobs=-1)\n",
    "grid_search.fit(X, y)\n",
    "print(f\"Best parameters: {grid_search.best_params_}\")\n",
    "print(f\"Best score: {grid_search.best_score_}\")\n",
    "best_pipe = grid_search.best_estimator_\n",
    "cv_scores = cross_val_score(best_pipe, X, y, cv=5, scoring='r2', n_jobs=-1)\n",
    "print(f'R^2 scores for each fold: {cv_scores}')\n",
    "print(f'Mean R^2 Score: {np.mean(cv_scores):.2f}')\n",
    "print(f'Standard Deviation of R^2 σ: {np.std(cv_scores):.2f}')"
   ]
  },
  {
   "cell_type": "code",
   "execution_count": null,
   "metadata": {
    "colab": {
     "base_uri": "https://localhost:8080/"
    },
    "id": "SRLgcX0kWZGY",
    "outputId": "eb996f4a-4078-4d04-d29c-95efb9df548f"
   },
   "outputs": [
    {
     "name": "stdout",
     "output_type": "stream",
     "text": [
      "MSE = 19694302.26 \n",
      "R^2 = 0.12\n"
     ]
    }
   ],
   "source": [
    "#Task9\n",
    "#Ridge + train_test_split\n",
    "#Worse\n",
    "X = df[['year','mileage','tax','engineSize' ,'mpg']]\n",
    "y = df['price']\n",
    "\n",
    "X_train, X_test, y_train, y_test = train_test_split(X_poly, y, test_size=0.2, random_state=42)\n",
    "\n",
    "model = Ridge(alpha=1)\n",
    "model.fit(X_train, y_train)\n",
    "yhat = model.predict(X_test)\n",
    "\n",
    "mse = mean_squared_error(y_test, yhat)\n",
    "r2 = r2_score(y_test, yhat)\n",
    "print(f'MSE = {mse:.2f} \\nR^2 = {r2:.2f}')"
   ]
  },
  {
   "cell_type": "code",
   "execution_count": null,
   "metadata": {
    "colab": {
     "base_uri": "https://localhost:8080/"
    },
    "id": "HBLlNRy0QjCH",
    "outputId": "d436e35c-b733-45bc-cd13-c7c0043aff90"
   },
   "outputs": [
    {
     "name": "stdout",
     "output_type": "stream",
     "text": [
      "MSE = 6243527.41 \n",
      "R^2 = 0.72\n"
     ]
    },
    {
     "name": "stderr",
     "output_type": "stream",
     "text": [
      "/usr/local/lib/python3.11/dist-packages/sklearn/linear_model/_ridge.py:215: LinAlgWarning: Ill-conditioned matrix (rcond=2.17676e-23): result may not be accurate.\n",
      "  return linalg.solve(A, Xy, assume_a=\"pos\", overwrite_a=True).T\n"
     ]
    }
   ],
   "source": [
    "#Task10\n",
    "#Ridge + train_test_split + PolynomialFeatures\n",
    "#The same as before but using polynomial features after train and test split.\n",
    "#Much better\n",
    "X = df[['year','mileage','tax','engineSize' ,'mpg']]\n",
    "y = df['price']\n",
    "\n",
    "X_train, X_test, y_train, y_test = train_test_split(X, y, test_size=0.2, random_state=42)\n",
    "\n",
    "poly_features = PolynomialFeatures(degree=2)\n",
    "X_train_poly = poly_features.fit_transform(X_train)\n",
    "X_test_poly = poly_features.transform(X_test)\n",
    "\n",
    "model = Ridge(alpha=1)\n",
    "model.fit(X_train_poly, y_train)\n",
    "yhat = model.predict(X_test_poly)\n",
    "\n",
    "mse = mean_squared_error(y_test, yhat)\n",
    "r2 = r2_score(y_test, yhat)\n",
    "print(f'MSE = {mse:.2f} \\nR^2 = {r2:.2f}')"
   ]
  },
  {
   "cell_type": "code",
   "execution_count": null,
   "metadata": {
    "colab": {
     "base_uri": "https://localhost:8080/"
    },
    "id": "HLUKysjMXbbh",
    "outputId": "43650d07-e0a4-4840-d51a-c79fcc801595"
   },
   "outputs": [
    {
     "name": "stdout",
     "output_type": "stream",
     "text": [
      "MSE = 0.82 \n",
      "R^2 = 0.18\n"
     ]
    }
   ],
   "source": [
    "#Ridge + train_test_split + PolynomialFeatures + Scale\n",
    "#The same as before, but with scaling after spit\n",
    "#Worse\n",
    "#Wrong\n",
    "X = df[['year','mileage','tax','engineSize' ,'mpg']]\n",
    "y = df[['price']]\n",
    "\n",
    "X_train, X_test, y_train, y_test = train_test_split(X, y, test_size=0.2, random_state=42)\n",
    "\n",
    "# Create Scaler, beacause the penalty depends on the magnitude of the coefficients\n",
    "X_train_scaled = StandardScaler().fit_transform(X_train)\n",
    "X_test_scaled = StandardScaler().fit_transform(X_test)\n",
    "y_train_scaled = StandardScaler().fit_transform(y_train)\n",
    "y_test_scaled = StandardScaler().fit_transform(y_test)\n",
    "\n",
    "poly_features = PolynomialFeatures(degree=2)\n",
    "X_train_poly = poly_features.fit_transform(X_train_scaled)\n",
    "X_test_poly = poly_features.fit_transform(X_test_scaled)\n",
    "\n",
    "model = Ridge(alpha=1)\n",
    "model.fit(X_train_poly, y_train_scaled)\n",
    "yhat = model.predict(X_test_poly)\n",
    "\n",
    "mse = mean_squared_error(y_test_scaled, yhat)\n",
    "r2 = r2_score(y_test_scaled, yhat)\n",
    "print(f'MSE = {mse:.2f} \\nR^2 = {r2:.2f}')"
   ]
  },
  {
   "cell_type": "code",
   "execution_count": null,
   "metadata": {
    "colab": {
     "base_uri": "https://localhost:8080/"
    },
    "id": "9968frc2Zi9H",
    "outputId": "507dd483-fc54-4fe7-8b86-b78c829a57e9"
   },
   "outputs": [
    {
     "name": "stdout",
     "output_type": "stream",
     "text": [
      "MSE = 0.88 \n",
      "R^2 = 0.12\n"
     ]
    }
   ],
   "source": [
    "#Ridge + train_test_split + PolynomialFeatures + Scale\n",
    "#The same as before, but with scaling before spit\n",
    "#Worse\n",
    "#Wrong\n",
    "X = StandardScaler().fit_transform(df[['year','mileage','tax','engineSize' ,'mpg']])\n",
    "y = StandardScaler().fit_transform(df[['price']])\n",
    "\n",
    "X_train, X_test, y_train, y_test = train_test_split(X, y, test_size=0.2, random_state=42)\n",
    "\n",
    "\n",
    "poly_features = PolynomialFeatures(degree=2)\n",
    "X_train_poly = poly_features.fit_transform(X_train)\n",
    "X_test_poly = poly_features.fit_transform(X_test)\n",
    "\n",
    "model = Ridge(alpha=1)\n",
    "model.fit(X_train_poly, y_train)\n",
    "yhat = model.predict(X_test_poly)\n",
    "\n",
    "mse = mean_squared_error(y_test, yhat)\n",
    "r2 = r2_score(y_test, yhat)\n",
    "print(f'MSE = {mse:.2f} \\nR^2 = {r2:.2f}')"
   ]
  },
  {
   "cell_type": "code",
   "execution_count": null,
   "metadata": {
    "colab": {
     "base_uri": "https://localhost:8080/"
    },
    "id": "hu41KzLwaV50",
    "outputId": "b88765db-48f3-4c0b-a353-0f62283a6696"
   },
   "outputs": [
    {
     "name": "stdout",
     "output_type": "stream",
     "text": [
      "MSE = 0.30 \n",
      "R^2 = 0.70\n"
     ]
    }
   ],
   "source": [
    "#Ridge + train_test_split + PolynomialFeatures + Scale\n",
    "#The same as before, but with scaling after polynomials\n",
    "#Correct order split->polynomials->scale->model\n",
    "#Better, much better\n",
    "#Wrong:fit_transform only on the train!Also y don't need scale\n",
    "X = df[['year','mileage','tax','engineSize' ,'mpg']]\n",
    "y = df[['price']]\n",
    "\n",
    "X_train, X_test, y_train, y_test = train_test_split(X, y, test_size=0.2, random_state=42)\n",
    "\n",
    "\n",
    "poly_features = PolynomialFeatures(degree=2)\n",
    "X_train_poly = poly_features.fit_transform(X_train)\n",
    "X_test_poly = poly_features.fit_transform(X_test)\n",
    "\n",
    "# Create Scaler, beacause the penalty depends on the magnitude of the coefficients\n",
    "X_train_scaled = StandardScaler().fit_transform(X_train_poly)\n",
    "X_test_scaled = StandardScaler().fit_transform(X_test_poly)\n",
    "y_train_scaled = StandardScaler().fit_transform(y_train)\n",
    "y_test_scaled = StandardScaler().fit_transform(y_test)\n",
    "\n",
    "model = Ridge(alpha=1)\n",
    "model.fit(X_train_scaled, y_train_scaled)\n",
    "yhat = model.predict(X_test_scaled)\n",
    "\n",
    "mse = mean_squared_error(y_test_scaled, yhat)\n",
    "r2 = r2_score(y_test_scaled, yhat)\n",
    "print(f'MSE = {mse:.2f} \\nR^2 = {r2:.2f}')"
   ]
  },
  {
   "cell_type": "code",
   "execution_count": null,
   "metadata": {
    "colab": {
     "base_uri": "https://localhost:8080/"
    },
    "id": "0v92LfR5fGrr",
    "outputId": "55fb7278-3ace-4d5a-de96-c68e336ba5da"
   },
   "outputs": [
    {
     "name": "stdout",
     "output_type": "stream",
     "text": [
      "MSE = 6691619.68 \n",
      "R^2 = 0.70\n"
     ]
    }
   ],
   "source": [
    "#Ridge + train_test_split + PolynomialFeatures(degree=2) + Scale\n",
    "#The same as before, but with correct (no fit_transform on test)\n",
    "#Correct order split->polynomials->scale->model\n",
    "#No change\n",
    "\n",
    "X = df[['year','mileage','tax','engineSize' ,'mpg']]\n",
    "y = df[['price']]\n",
    "\n",
    "X_train, X_test, y_train, y_test = train_test_split(X, y, test_size=0.2, random_state=42)\n",
    "\n",
    "\n",
    "poly_features = PolynomialFeatures(degree=2)\n",
    "\n",
    "X_train_poly = poly_features.fit_transform(X_train)\n",
    "X_test_poly = poly_features.transform(X_test)\n",
    "\n",
    "scaler = StandardScaler()\n",
    "X_train_scaled = scaler.fit_transform(X_train_poly)\n",
    "X_test_scaled = scaler.transform(X_test_poly)\n",
    "\n",
    "\n",
    "model = Ridge(alpha=1)\n",
    "model.fit(X_train_scaled, y_train)\n",
    "yhat = model.predict(X_test_scaled)\n",
    "\n",
    "mse = mean_squared_error(y_test, yhat)\n",
    "r2 = r2_score(y_test, yhat)\n",
    "print(f'MSE = {mse:.2f} \\nR^2 = {r2:.2f}')"
   ]
  },
  {
   "cell_type": "code",
   "execution_count": null,
   "metadata": {
    "colab": {
     "base_uri": "https://localhost:8080/"
    },
    "id": "7jUFUTmujCUb",
    "outputId": "39df95a1-46b3-4ca0-870c-1e109cb78158"
   },
   "outputs": [
    {
     "name": "stdout",
     "output_type": "stream",
     "text": [
      "MSE = 6031721.74 \n",
      "R^2 = 0.73\n"
     ]
    }
   ],
   "source": [
    "#Ridge + train_test_split + PolynomialFeatures(degree=3) + Scale\n",
    "#The same as before, but with correct (no fit_transform on test)\n",
    "#Correct order split->polynomials->scale->model\n",
    "#Minimal change for degree\n",
    "\n",
    "X = df[['year','mileage','tax','engineSize' ,'mpg']]\n",
    "y = df[['price']]\n",
    "\n",
    "X_train, X_test, y_train, y_test = train_test_split(X, y, test_size=0.2, random_state=42)\n",
    "\n",
    "\n",
    "poly_features = PolynomialFeatures(degree=3)\n",
    "\n",
    "X_train_poly = poly_features.fit_transform(X_train)\n",
    "X_test_poly = poly_features.transform(X_test)\n",
    "\n",
    "scaler = StandardScaler()\n",
    "X_train_scaled = scaler.fit_transform(X_train_poly)\n",
    "X_test_scaled = scaler.transform(X_test_poly)\n",
    "\n",
    "\n",
    "model = Ridge(alpha=1)\n",
    "model.fit(X_train_scaled, y_train)\n",
    "yhat = model.predict(X_test_scaled)\n",
    "\n",
    "mse = mean_squared_error(y_test, yhat)\n",
    "r2 = r2_score(y_test, yhat)\n",
    "print(f'MSE = {mse:.2f} \\nR^2 = {r2:.2f}')"
   ]
  },
  {
   "cell_type": "code",
   "execution_count": null,
   "metadata": {
    "colab": {
     "base_uri": "https://localhost:8080/"
    },
    "id": "dh9doc5rbCCy",
    "outputId": "ce87c6a4-6440-48d1-f007-f00d31ac881c"
   },
   "outputs": [
    {
     "name": "stderr",
     "output_type": "stream",
     "text": [
      "/usr/local/lib/python3.11/dist-packages/sklearn/linear_model/_ridge.py:215: LinAlgWarning: Ill-conditioned matrix (rcond=2.93807e-25): result may not be accurate.\n",
      "  return linalg.solve(A, Xy, assume_a=\"pos\", overwrite_a=True).T\n",
      "/usr/local/lib/python3.11/dist-packages/sklearn/linear_model/_ridge.py:215: LinAlgWarning: Ill-conditioned matrix (rcond=2.88233e-25): result may not be accurate.\n",
      "  return linalg.solve(A, Xy, assume_a=\"pos\", overwrite_a=True).T\n",
      "/usr/local/lib/python3.11/dist-packages/sklearn/linear_model/_ridge.py:215: LinAlgWarning: Ill-conditioned matrix (rcond=3.01744e-25): result may not be accurate.\n",
      "  return linalg.solve(A, Xy, assume_a=\"pos\", overwrite_a=True).T\n",
      "/usr/local/lib/python3.11/dist-packages/sklearn/linear_model/_ridge.py:215: LinAlgWarning: Ill-conditioned matrix (rcond=2.78199e-25): result may not be accurate.\n",
      "  return linalg.solve(A, Xy, assume_a=\"pos\", overwrite_a=True).T\n",
      "/usr/local/lib/python3.11/dist-packages/sklearn/linear_model/_ridge.py:215: LinAlgWarning: Ill-conditioned matrix (rcond=2.93807e-24): result may not be accurate.\n",
      "  return linalg.solve(A, Xy, assume_a=\"pos\", overwrite_a=True).T\n",
      "/usr/local/lib/python3.11/dist-packages/sklearn/linear_model/_ridge.py:215: LinAlgWarning: Ill-conditioned matrix (rcond=2.88233e-24): result may not be accurate.\n",
      "  return linalg.solve(A, Xy, assume_a=\"pos\", overwrite_a=True).T\n",
      "/usr/local/lib/python3.11/dist-packages/sklearn/linear_model/_ridge.py:215: LinAlgWarning: Ill-conditioned matrix (rcond=3.01744e-24): result may not be accurate.\n",
      "  return linalg.solve(A, Xy, assume_a=\"pos\", overwrite_a=True).T\n",
      "/usr/local/lib/python3.11/dist-packages/sklearn/linear_model/_ridge.py:215: LinAlgWarning: Ill-conditioned matrix (rcond=2.78199e-24): result may not be accurate.\n",
      "  return linalg.solve(A, Xy, assume_a=\"pos\", overwrite_a=True).T\n",
      "/usr/local/lib/python3.11/dist-packages/sklearn/linear_model/_ridge.py:215: LinAlgWarning: Ill-conditioned matrix (rcond=2.93807e-23): result may not be accurate.\n",
      "  return linalg.solve(A, Xy, assume_a=\"pos\", overwrite_a=True).T\n",
      "/usr/local/lib/python3.11/dist-packages/sklearn/linear_model/_ridge.py:215: LinAlgWarning: Ill-conditioned matrix (rcond=2.88233e-23): result may not be accurate.\n",
      "  return linalg.solve(A, Xy, assume_a=\"pos\", overwrite_a=True).T\n",
      "/usr/local/lib/python3.11/dist-packages/sklearn/linear_model/_ridge.py:215: LinAlgWarning: Ill-conditioned matrix (rcond=3.01744e-23): result may not be accurate.\n",
      "  return linalg.solve(A, Xy, assume_a=\"pos\", overwrite_a=True).T\n",
      "/usr/local/lib/python3.11/dist-packages/sklearn/linear_model/_ridge.py:215: LinAlgWarning: Ill-conditioned matrix (rcond=2.78199e-23): result may not be accurate.\n",
      "  return linalg.solve(A, Xy, assume_a=\"pos\", overwrite_a=True).T\n",
      "/usr/local/lib/python3.11/dist-packages/sklearn/linear_model/_ridge.py:215: LinAlgWarning: Ill-conditioned matrix (rcond=2.79036e-22): result may not be accurate.\n",
      "  return linalg.solve(A, Xy, assume_a=\"pos\", overwrite_a=True).T\n",
      "/usr/local/lib/python3.11/dist-packages/sklearn/linear_model/_ridge.py:215: LinAlgWarning: Ill-conditioned matrix (rcond=2.73946e-22): result may not be accurate.\n",
      "  return linalg.solve(A, Xy, assume_a=\"pos\", overwrite_a=True).T\n",
      "/usr/local/lib/python3.11/dist-packages/sklearn/linear_model/_ridge.py:215: LinAlgWarning: Ill-conditioned matrix (rcond=2.87056e-22): result may not be accurate.\n",
      "  return linalg.solve(A, Xy, assume_a=\"pos\", overwrite_a=True).T\n"
     ]
    },
    {
     "name": "stdout",
     "output_type": "stream",
     "text": [
      "The best parameter is: {'alpha': 0.01}\n",
      "The best estimator is: Ridge(alpha=0.01)\n",
      "MSE = 13840988.50 \n",
      "R^2 = 0.38\n"
     ]
    },
    {
     "name": "stderr",
     "output_type": "stream",
     "text": [
      "/usr/local/lib/python3.11/dist-packages/sklearn/linear_model/_ridge.py:215: LinAlgWarning: Ill-conditioned matrix (rcond=2.64735e-22): result may not be accurate.\n",
      "  return linalg.solve(A, Xy, assume_a=\"pos\", overwrite_a=True).T\n",
      "/usr/local/lib/python3.11/dist-packages/sklearn/linear_model/_ridge.py:215: LinAlgWarning: Ill-conditioned matrix (rcond=2.17676e-25): result may not be accurate.\n",
      "  return linalg.solve(A, Xy, assume_a=\"pos\", overwrite_a=True).T\n"
     ]
    }
   ],
   "source": [
    "#Task11\n",
    "#Ridge + train_test_split + PolynomialFeatures + GridSearchCV\n",
    "#Much Very Worse-> no Scale which is very importan in Ridge, i.e all features are reularized equally\n",
    "X = df[['year','mileage','tax','engineSize' ,'mpg']]\n",
    "y = df['price']\n",
    "\n",
    "X_train, X_test, y_train, y_test = train_test_split(X, y, test_size=0.2, random_state=42)\n",
    "\n",
    "poly_features = PolynomialFeatures(degree=2)\n",
    "X_train_poly = poly_features.fit_transform(X_train)\n",
    "X_test_poly = poly_features.transform(X_test)\n",
    "\n",
    "regressor = Ridge()\n",
    "\n",
    "# Define the hyperparameter values for the grid search\n",
    "param_grid = {'alpha': [0.01, 0.1, 1.0, 10.0]}\n",
    "\n",
    "model = GridSearchCV(regressor, param_grid, cv=4)\n",
    "\n",
    "model.fit(X_train_poly, y_train)\n",
    "\n",
    "print(\"The best parameter is:\", model.best_params_)\n",
    "print(\"The best estimator is:\", model.best_estimator_)\n",
    "\n",
    "yhat = model.best_estimator_.predict(X_test_poly)\n",
    "\n",
    "mse = mean_squared_error(y_test, yhat)\n",
    "r2 = r2_score(y_test, yhat)\n",
    "print(f'MSE = {mse:.2f} \\nR^2 = {r2:.2f}')"
   ]
  },
  {
   "cell_type": "code",
   "execution_count": null,
   "metadata": {
    "colab": {
     "base_uri": "https://localhost:8080/"
    },
    "id": "PM4oEFQYc68m",
    "outputId": "c4e40bac-db91-433b-b90f-da76142f7c2b"
   },
   "outputs": [
    {
     "name": "stdout",
     "output_type": "stream",
     "text": [
      "The best parameter is: {'alpha': 10.0}\n",
      "The best estimator is: Ridge(alpha=10.0)\n",
      "MSE = 0.87 \n",
      "R^2 = 0.13\n"
     ]
    }
   ],
   "source": [
    "#Ridge + train_test_split + PolynomialFeatures + StandardScaler + GridSearchCV\n",
    "#The same as before but with scaling before split\n",
    "#no diferrence.\n",
    "#Wrong order\n",
    "X = StandardScaler().fit_transform(df[['year','mileage','tax','engineSize' ,'mpg']])\n",
    "y = StandardScaler().fit_transform(df[['price']])\n",
    "\n",
    "X_train, X_test, y_train, y_test = train_test_split(X, y, test_size=0.2, random_state=42)\n",
    "\n",
    "poly_features = PolynomialFeatures(degree=2)\n",
    "X_train_poly = poly_features.fit_transform(X_train)\n",
    "X_test_poly = poly_features.transform(X_test)\n",
    "\n",
    "regressor = Ridge()\n",
    "\n",
    "# Define the hyperparameter values for the grid search\n",
    "param_grid = {'alpha': [0.01, 0.1, 1.0, 10.0]}\n",
    "\n",
    "model = GridSearchCV(regressor, param_grid, cv=4)\n",
    "\n",
    "model.fit(X_train_poly, y_train)\n",
    "\n",
    "print(\"The best parameter is:\", model.best_params_)\n",
    "print(\"The best estimator is:\", model.best_estimator_)\n",
    "\n",
    "yhat = model.best_estimator_.predict(X_test_poly)\n",
    "\n",
    "mse = mean_squared_error(y_test, yhat)\n",
    "r2 = r2_score(y_test, yhat)\n",
    "print(f'MSE = {mse:.2f} \\nR^2 = {r2:.2f}')"
   ]
  },
  {
   "cell_type": "code",
   "execution_count": null,
   "metadata": {
    "colab": {
     "base_uri": "https://localhost:8080/"
    },
    "id": "iVYX_XYkhNXT",
    "outputId": "317c2e05-21d4-41d0-f4b6-27be66c6c1f6"
   },
   "outputs": [
    {
     "name": "stderr",
     "output_type": "stream",
     "text": [
      "/usr/local/lib/python3.11/dist-packages/sklearn/linear_model/_ridge.py:215: LinAlgWarning: Ill-conditioned matrix (rcond=2.93807e-25): result may not be accurate.\n",
      "  return linalg.solve(A, Xy, assume_a=\"pos\", overwrite_a=True).T\n",
      "/usr/local/lib/python3.11/dist-packages/sklearn/linear_model/_ridge.py:215: LinAlgWarning: Ill-conditioned matrix (rcond=2.88233e-25): result may not be accurate.\n",
      "  return linalg.solve(A, Xy, assume_a=\"pos\", overwrite_a=True).T\n",
      "/usr/local/lib/python3.11/dist-packages/sklearn/linear_model/_ridge.py:215: LinAlgWarning: Ill-conditioned matrix (rcond=3.01744e-25): result may not be accurate.\n",
      "  return linalg.solve(A, Xy, assume_a=\"pos\", overwrite_a=True).T\n",
      "/usr/local/lib/python3.11/dist-packages/sklearn/linear_model/_ridge.py:215: LinAlgWarning: Ill-conditioned matrix (rcond=2.78199e-25): result may not be accurate.\n",
      "  return linalg.solve(A, Xy, assume_a=\"pos\", overwrite_a=True).T\n",
      "/usr/local/lib/python3.11/dist-packages/sklearn/linear_model/_ridge.py:215: LinAlgWarning: Ill-conditioned matrix (rcond=2.93807e-24): result may not be accurate.\n",
      "  return linalg.solve(A, Xy, assume_a=\"pos\", overwrite_a=True).T\n",
      "/usr/local/lib/python3.11/dist-packages/sklearn/linear_model/_ridge.py:215: LinAlgWarning: Ill-conditioned matrix (rcond=2.88233e-24): result may not be accurate.\n",
      "  return linalg.solve(A, Xy, assume_a=\"pos\", overwrite_a=True).T\n",
      "/usr/local/lib/python3.11/dist-packages/sklearn/linear_model/_ridge.py:215: LinAlgWarning: Ill-conditioned matrix (rcond=3.01744e-24): result may not be accurate.\n",
      "  return linalg.solve(A, Xy, assume_a=\"pos\", overwrite_a=True).T\n",
      "/usr/local/lib/python3.11/dist-packages/sklearn/linear_model/_ridge.py:215: LinAlgWarning: Ill-conditioned matrix (rcond=2.78199e-24): result may not be accurate.\n",
      "  return linalg.solve(A, Xy, assume_a=\"pos\", overwrite_a=True).T\n",
      "/usr/local/lib/python3.11/dist-packages/sklearn/linear_model/_ridge.py:215: LinAlgWarning: Ill-conditioned matrix (rcond=2.93807e-23): result may not be accurate.\n",
      "  return linalg.solve(A, Xy, assume_a=\"pos\", overwrite_a=True).T\n",
      "/usr/local/lib/python3.11/dist-packages/sklearn/linear_model/_ridge.py:215: LinAlgWarning: Ill-conditioned matrix (rcond=2.88233e-23): result may not be accurate.\n",
      "  return linalg.solve(A, Xy, assume_a=\"pos\", overwrite_a=True).T\n",
      "/usr/local/lib/python3.11/dist-packages/sklearn/linear_model/_ridge.py:215: LinAlgWarning: Ill-conditioned matrix (rcond=3.01744e-23): result may not be accurate.\n",
      "  return linalg.solve(A, Xy, assume_a=\"pos\", overwrite_a=True).T\n",
      "/usr/local/lib/python3.11/dist-packages/sklearn/linear_model/_ridge.py:215: LinAlgWarning: Ill-conditioned matrix (rcond=2.78199e-23): result may not be accurate.\n",
      "  return linalg.solve(A, Xy, assume_a=\"pos\", overwrite_a=True).T\n"
     ]
    },
    {
     "name": "stdout",
     "output_type": "stream",
     "text": [
      "The best parameter is: {'alpha': 0.01}\n",
      "The best estimator is: Ridge(alpha=0.01)\n",
      "MSE = 13840988.50 \n",
      "R^2 = 0.38\n"
     ]
    },
    {
     "name": "stderr",
     "output_type": "stream",
     "text": [
      "/usr/local/lib/python3.11/dist-packages/sklearn/linear_model/_ridge.py:215: LinAlgWarning: Ill-conditioned matrix (rcond=2.79036e-22): result may not be accurate.\n",
      "  return linalg.solve(A, Xy, assume_a=\"pos\", overwrite_a=True).T\n",
      "/usr/local/lib/python3.11/dist-packages/sklearn/linear_model/_ridge.py:215: LinAlgWarning: Ill-conditioned matrix (rcond=2.73946e-22): result may not be accurate.\n",
      "  return linalg.solve(A, Xy, assume_a=\"pos\", overwrite_a=True).T\n",
      "/usr/local/lib/python3.11/dist-packages/sklearn/linear_model/_ridge.py:215: LinAlgWarning: Ill-conditioned matrix (rcond=2.87056e-22): result may not be accurate.\n",
      "  return linalg.solve(A, Xy, assume_a=\"pos\", overwrite_a=True).T\n",
      "/usr/local/lib/python3.11/dist-packages/sklearn/linear_model/_ridge.py:215: LinAlgWarning: Ill-conditioned matrix (rcond=2.64735e-22): result may not be accurate.\n",
      "  return linalg.solve(A, Xy, assume_a=\"pos\", overwrite_a=True).T\n",
      "/usr/local/lib/python3.11/dist-packages/sklearn/linear_model/_ridge.py:215: LinAlgWarning: Ill-conditioned matrix (rcond=2.17676e-25): result may not be accurate.\n",
      "  return linalg.solve(A, Xy, assume_a=\"pos\", overwrite_a=True).T\n"
     ]
    }
   ],
   "source": [
    "#Ridge + train_test_split + PolynomialFeatures(degree=2) + StandardScaler + GridSearchCV\n",
    "#no diferrence.\n",
    "#Correct order\n",
    "X = df[['year','mileage','tax','engineSize' ,'mpg']]\n",
    "y = df[['price']]\n",
    "\n",
    "X_train, X_test, y_train, y_test = train_test_split(X, y, test_size=0.2, random_state=42)\n",
    "\n",
    "poly_features = PolynomialFeatures(degree=2)\n",
    "\n",
    "X_train_poly = poly_features.fit_transform(X_train)\n",
    "X_test_poly = poly_features.transform(X_test)\n",
    "\n",
    "scaler = StandardScaler()\n",
    "X_train_scaled = scaler.fit_transform(X_train_poly)\n",
    "X_test_scaled = scaler.transform(X_test_poly)\n",
    "\n",
    "regressor = Ridge()\n",
    "\n",
    "# Define the hyperparameter values for the grid search\n",
    "param_grid = {'alpha': [0.01, 0.1, 1.0, 10.0]}\n",
    "\n",
    "model = GridSearchCV(regressor, param_grid, cv=4)\n",
    "\n",
    "model.fit(X_train_poly, y_train)\n",
    "\n",
    "print(\"The best parameter is:\", model.best_params_)\n",
    "print(\"The best estimator is:\", model.best_estimator_)\n",
    "\n",
    "yhat = model.best_estimator_.predict(X_test_poly)\n",
    "\n",
    "mse = mean_squared_error(y_test, yhat)\n",
    "r2 = r2_score(y_test, yhat)\n",
    "print(f'MSE = {mse:.2f} \\nR^2 = {r2:.2f}')"
   ]
  },
  {
   "cell_type": "code",
   "execution_count": null,
   "metadata": {
    "colab": {
     "base_uri": "https://localhost:8080/"
    },
    "id": "nW2Vk3rAh-ib",
    "outputId": "588c922f-36f5-4a81-e880-3a9d4a9c5267"
   },
   "outputs": [
    {
     "name": "stderr",
     "output_type": "stream",
     "text": [
      "/usr/local/lib/python3.11/dist-packages/sklearn/linear_model/_ridge.py:215: LinAlgWarning: Ill-conditioned matrix (rcond=2.60338e-35): result may not be accurate.\n",
      "  return linalg.solve(A, Xy, assume_a=\"pos\", overwrite_a=True).T\n",
      "/usr/local/lib/python3.11/dist-packages/sklearn/linear_model/_ridge.py:215: LinAlgWarning: Ill-conditioned matrix (rcond=2.38903e-35): result may not be accurate.\n",
      "  return linalg.solve(A, Xy, assume_a=\"pos\", overwrite_a=True).T\n",
      "/usr/local/lib/python3.11/dist-packages/sklearn/linear_model/_ridge.py:215: LinAlgWarning: Ill-conditioned matrix (rcond=2.5875e-35): result may not be accurate.\n",
      "  return linalg.solve(A, Xy, assume_a=\"pos\", overwrite_a=True).T\n",
      "/usr/local/lib/python3.11/dist-packages/sklearn/linear_model/_ridge.py:215: LinAlgWarning: Ill-conditioned matrix (rcond=2.36704e-35): result may not be accurate.\n",
      "  return linalg.solve(A, Xy, assume_a=\"pos\", overwrite_a=True).T\n",
      "/usr/local/lib/python3.11/dist-packages/sklearn/linear_model/_ridge.py:215: LinAlgWarning: Ill-conditioned matrix (rcond=2.64776e-34): result may not be accurate.\n",
      "  return linalg.solve(A, Xy, assume_a=\"pos\", overwrite_a=True).T\n",
      "/usr/local/lib/python3.11/dist-packages/sklearn/linear_model/_ridge.py:215: LinAlgWarning: Ill-conditioned matrix (rcond=2.4388e-34): result may not be accurate.\n",
      "  return linalg.solve(A, Xy, assume_a=\"pos\", overwrite_a=True).T\n",
      "/usr/local/lib/python3.11/dist-packages/sklearn/linear_model/_ridge.py:215: LinAlgWarning: Ill-conditioned matrix (rcond=2.63852e-34): result may not be accurate.\n",
      "  return linalg.solve(A, Xy, assume_a=\"pos\", overwrite_a=True).T\n",
      "/usr/local/lib/python3.11/dist-packages/sklearn/linear_model/_ridge.py:215: LinAlgWarning: Ill-conditioned matrix (rcond=2.36952e-34): result may not be accurate.\n",
      "  return linalg.solve(A, Xy, assume_a=\"pos\", overwrite_a=True).T\n",
      "/usr/local/lib/python3.11/dist-packages/sklearn/linear_model/_ridge.py:215: LinAlgWarning: Ill-conditioned matrix (rcond=2.55511e-33): result may not be accurate.\n",
      "  return linalg.solve(A, Xy, assume_a=\"pos\", overwrite_a=True).T\n",
      "/usr/local/lib/python3.11/dist-packages/sklearn/linear_model/_ridge.py:215: LinAlgWarning: Ill-conditioned matrix (rcond=2.34733e-33): result may not be accurate.\n",
      "  return linalg.solve(A, Xy, assume_a=\"pos\", overwrite_a=True).T\n",
      "/usr/local/lib/python3.11/dist-packages/sklearn/linear_model/_ridge.py:215: LinAlgWarning: Ill-conditioned matrix (rcond=2.55828e-33): result may not be accurate.\n",
      "  return linalg.solve(A, Xy, assume_a=\"pos\", overwrite_a=True).T\n",
      "/usr/local/lib/python3.11/dist-packages/sklearn/linear_model/_ridge.py:215: LinAlgWarning: Ill-conditioned matrix (rcond=2.23145e-33): result may not be accurate.\n",
      "  return linalg.solve(A, Xy, assume_a=\"pos\", overwrite_a=True).T\n",
      "/usr/local/lib/python3.11/dist-packages/sklearn/linear_model/_ridge.py:215: LinAlgWarning: Ill-conditioned matrix (rcond=2.59658e-32): result may not be accurate.\n",
      "  return linalg.solve(A, Xy, assume_a=\"pos\", overwrite_a=True).T\n"
     ]
    },
    {
     "name": "stdout",
     "output_type": "stream",
     "text": [
      "The best parameter is: {'alpha': 1.0}\n",
      "The best estimator is: Ridge()\n",
      "MSE = 13826782.67 \n",
      "R^2 = 0.38\n"
     ]
    },
    {
     "name": "stderr",
     "output_type": "stream",
     "text": [
      "/usr/local/lib/python3.11/dist-packages/sklearn/linear_model/_ridge.py:215: LinAlgWarning: Ill-conditioned matrix (rcond=2.38989e-32): result may not be accurate.\n",
      "  return linalg.solve(A, Xy, assume_a=\"pos\", overwrite_a=True).T\n",
      "/usr/local/lib/python3.11/dist-packages/sklearn/linear_model/_ridge.py:215: LinAlgWarning: Ill-conditioned matrix (rcond=2.59476e-32): result may not be accurate.\n",
      "  return linalg.solve(A, Xy, assume_a=\"pos\", overwrite_a=True).T\n",
      "/usr/local/lib/python3.11/dist-packages/sklearn/linear_model/_ridge.py:215: LinAlgWarning: Ill-conditioned matrix (rcond=2.29867e-32): result may not be accurate.\n",
      "  return linalg.solve(A, Xy, assume_a=\"pos\", overwrite_a=True).T\n",
      "/usr/local/lib/python3.11/dist-packages/sklearn/linear_model/_ridge.py:215: LinAlgWarning: Ill-conditioned matrix (rcond=1.81898e-33): result may not be accurate.\n",
      "  return linalg.solve(A, Xy, assume_a=\"pos\", overwrite_a=True).T\n"
     ]
    }
   ],
   "source": [
    "#Ridge + train_test_split + PolynomialFeatures(degree=3) + StandardScaler + GridSearchCV\n",
    "#no diferrence.\n",
    "#Correct order\n",
    "#Better->degree=3\n",
    "X = df[['year','mileage','tax','engineSize' ,'mpg']]\n",
    "y = df[['price']]\n",
    "\n",
    "X_train, X_test, y_train, y_test = train_test_split(X, y, test_size=0.2, random_state=42)\n",
    "\n",
    "poly_features = PolynomialFeatures(degree=3)\n",
    "\n",
    "X_train_poly = poly_features.fit_transform(X_train)\n",
    "X_test_poly = poly_features.transform(X_test)\n",
    "\n",
    "scaler = StandardScaler()\n",
    "X_train_scaled = scaler.fit_transform(X_train_poly)\n",
    "X_test_scaled = scaler.transform(X_test_poly)\n",
    "\n",
    "regressor = Ridge()\n",
    "\n",
    "# Define the hyperparameter values for the grid search\n",
    "param_grid = {'alpha': [0.01, 0.1, 1.0, 10.0]}\n",
    "\n",
    "model = GridSearchCV(regressor, param_grid, cv=4)\n",
    "\n",
    "model.fit(X_train_poly, y_train)\n",
    "\n",
    "print(\"The best parameter is:\", model.best_params_)\n",
    "print(\"The best estimator is:\", model.best_estimator_)\n",
    "\n",
    "yhat = model.best_estimator_.predict(X_test_poly)\n",
    "\n",
    "mse = mean_squared_error(y_test, yhat)\n",
    "r2 = r2_score(y_test, yhat)\n",
    "print(f'MSE = {mse:.2f} \\nR^2 = {r2:.2f}')"
   ]
  },
  {
   "cell_type": "code",
   "execution_count": null,
   "metadata": {
    "colab": {
     "base_uri": "https://localhost:8080/"
    },
    "id": "VTrNQyZBemgg",
    "outputId": "c24d3612-fb0c-41bd-ebdd-d63ee1522c13"
   },
   "outputs": [
    {
     "name": "stdout",
     "output_type": "stream",
     "text": [
      "The best parameter is: {'alpha': 100.0}\n",
      "The best estimator is: Ridge(alpha=100.0)\n",
      "MSE = 0.41 \n",
      "R^2 = 0.59\n"
     ]
    }
   ],
   "source": [
    "#Ridge + train_test_split + PolynomialFeatures(degree=3) + StandardScaler + GridSearchCV\n",
    "#The same as before but with all the dataset (df_dummies)\n",
    "#Better.\n",
    "# In general scaling must be performed after split beacuse otherwise the scaler learns on the\n",
    "#entire dataset. Hence, the test data are influenced by the train data making them dependent\n",
    "#Wrong order\n",
    "X = StandardScaler().fit_transform(df_dummies.drop('price', axis=1))\n",
    "y = StandardScaler().fit_transform(df_dummies[['price']])\n",
    "\n",
    "X_train, X_test, y_train, y_test = train_test_split(X, y, test_size=0.2, random_state=42)\n",
    "\n",
    "poly_features = PolynomialFeatures(degree=2)\n",
    "X_train_poly = poly_features.fit_transform(X_train)\n",
    "X_test_poly = poly_features.fit_transform(X_test)\n",
    "\n",
    "regressor = Ridge()\n",
    "\n",
    "# Define the hyperparameter values for the grid search\n",
    "param_grid = {'alpha': [0.0001, 0.001,0.01, 0.1, 1.0, 10.0, 100.0, 1000.0]}\n",
    "\n",
    "model = GridSearchCV(regressor, param_grid, cv=4, n_jobs=-1)\n",
    "\n",
    "model.fit(X_train_poly, y_train)\n",
    "\n",
    "print(\"The best parameter is:\", model.best_params_)\n",
    "print(\"The best estimator is:\", model.best_estimator_)\n",
    "\n",
    "yhat = model.best_estimator_.predict(X_test_poly)\n",
    "\n",
    "mse = mean_squared_error(y_test, yhat)\n",
    "r2 = r2_score(y_test, yhat)\n",
    "print(f'MSE = {mse:.2f} \\nR^2 = {r2:.2f}')"
   ]
  },
  {
   "cell_type": "code",
   "execution_count": 74,
   "metadata": {
    "colab": {
     "base_uri": "https://localhost:8080/"
    },
    "id": "4HtdDKo5SRhE",
    "outputId": "be64e08f-68d7-4c54-a960-7eb9bc28c4fb"
   },
   "outputs": [
    {
     "name": "stdout",
     "output_type": "stream",
     "text": [
      "The best parameter is: {'alpha': 10.0}\n",
      "The best estimator is: Ridge(alpha=10.0)\n",
      "MSE = 2897996.23 \n",
      "R^2 = 0.87\n"
     ]
    }
   ],
   "source": [
    "#with df_dummies!\n",
    "#Ridge + train_test_split +polynomials(degree=2) + StandardScaler + GridSearchCV\n",
    "#The same as before GridSearchCV\n",
    "#the correct order of transformations split->polynomials->scale->GridSearchCV\n",
    "#Big diferrence! -> df_dummies\n",
    "# In general scaling must be performed after split beacuse otherwise the scaler learns on the\n",
    "#entire dataset. Hence, the test data are influenced by the train data making them dependent and have \"data leakage\"\n",
    "\n",
    "X = df_dummies.drop('price', axis=1)\n",
    "y = df_dummies['price']\n",
    "\n",
    "X_train, X_test, y_train, y_test = train_test_split(X, y, test_size=0.2, random_state=42)\n",
    "\n",
    "poly_features = PolynomialFeatures(degree=2)\n",
    "X_train_poly = poly_features.fit_transform(X_train)\n",
    "X_test_poly = poly_features.transform(X_test)\n",
    "\n",
    "scaler = StandardScaler()\n",
    "X_train_scaled = scaler.fit_transform(X_train_poly)\n",
    "X_test_scaled = scaler.transform(X_test_poly)\n",
    "\n",
    "\n",
    "regressor = Ridge()\n",
    "\n",
    "# Define the hyperparameter values for the grid search\n",
    "param_grid = {'alpha': [0.0001, 0.001,0.01, 0.1, 1.0, 10.0, 100.0]}\n",
    "\n",
    "model = GridSearchCV(regressor, param_grid, cv=4, n_jobs=-1)\n",
    "\n",
    "model.fit(X_train_scaled, y_train)\n",
    "\n",
    "print(\"The best parameter is:\", model.best_params_)\n",
    "print(\"The best estimator is:\", model.best_estimator_)\n",
    "\n",
    "yhat = model.best_estimator_.predict(X_test_scaled)\n",
    "\n",
    "mse = mean_squared_error(y_test, yhat)\n",
    "r2 = r2_score(y_test, yhat)\n",
    "print(f'MSE = {mse:.2f} \\nR^2 = {r2:.2f}')"
   ]
  },
  {
   "cell_type": "code",
   "execution_count": 70,
   "metadata": {
    "id": "pKA3fOyfrKJU"
   },
   "outputs": [
    {
     "name": "stdout",
     "output_type": "stream",
     "text": [
      "Best parameters: {'pca__n_components': 0.9500000000000001, 'ridge__alpha': 1000.0}\n",
      "Best score: 0.7694662809371948\n",
      "R^2 scores for each fold: [0.8083021  0.81175488 0.77279502 0.68501312]\n",
      "Mean R^2 Score: 0.77\n",
      "Standard Deviation of R^2 σ: 0.05\n"
     ]
    }
   ],
   "source": [
    "#df_dummies\n",
    "#Ridge Regression + Polynomial Features(degree=2) + Scaling  + PCA + cross_val_score + GridSearchCV\n",
    "# No change\n",
    "\n",
    "X = df_dummies.drop('price',axis=1)\n",
    "y = df_dummies['price']\n",
    "X = X.astype('float32')\n",
    "\n",
    "Input = [('polynomial', PolynomialFeatures(degree=2, include_bias=False)), ('scaler', StandardScaler()),\n",
    "         ('pca', PCA()), ('ridge', Ridge())]\n",
    "pipe = Pipeline(Input)\n",
    "\n",
    "param_grid = {'pca__n_components': np.arange(0.05, 1.00, 0.05),\n",
    "              'ridge__alpha': [0.1, 1.0, 10.0, 100.0, 1000.0]}\n",
    "\n",
    "grid_search = GridSearchCV(pipe, param_grid=param_grid, cv=4, scoring='r2', n_jobs=-1)\n",
    "grid_search.fit(X, y)\n",
    "\n",
    "print(f\"Best parameters: {grid_search.best_params_}\")\n",
    "print(f\"Best score: {grid_search.best_score_}\")\n",
    "\n",
    "best_pipe = grid_search.best_estimator_\n",
    "cv_scores = cross_val_score(best_pipe, X, y, cv=4, scoring='r2', n_jobs=-1)\n",
    "\n",
    "print(f'R^2 scores for each fold: {cv_scores}')\n",
    "print(f'Mean R^2 Score: {np.mean(cv_scores):.2f}')\n",
    "print(f'Standard Deviation of R^2 σ: {np.std(cv_scores):.2f}')\n"
   ]
  },
  {
   "cell_type": "code",
   "execution_count": 78,
   "metadata": {},
   "outputs": [
    {
     "name": "stdout",
     "output_type": "stream",
     "text": [
      "R^2 scores for each fold: [0.80272853 0.81178749 0.8005904  0.86190951]\n",
      "Mean R^2 Score: 0.82\n",
      "Standard Deviation of R^2 σ: 0.02\n"
     ]
    }
   ],
   "source": [
    "#Correct Version\n",
    "#df_dummies\n",
    "#Ridge Regression + Polynomial Features(degree=2) + Scaling  + PCA + cross_val_score + KFold\n",
    "# Much Better \n",
    "X = df_dummies.drop('price',axis=1)\n",
    "y = df_dummies['price']\n",
    "X = X.astype('float32')\n",
    "Input = [('polynomial', PolynomialFeatures(degree=2, include_bias=False)), ('scaler', StandardScaler()),\n",
    "         ('pca', PCA(n_components=0.95)), ('model', Ridge())]\n",
    "pipe = Pipeline(Input)\n",
    "\n",
    "kf = KFold(n_splits=4, shuffle=True, random_state=42)\n",
    "cv_scores = cross_val_score(pipe, X, y, cv=kf, scoring='r2', n_jobs=-1)\n",
    "print(f'R^2 scores for each fold: {cv_scores}')\n",
    "print(f'Mean R^2 Score: {np.mean(cv_scores):.2f}')\n",
    "print(f'Standard Deviation of R^2 σ: {np.std(cv_scores):.2f}')"
   ]
  },
  {
   "cell_type": "code",
   "execution_count": 88,
   "metadata": {},
   "outputs": [
    {
     "name": "stdout",
     "output_type": "stream",
     "text": [
      "Best parameters: {'model__alpha': 1000.0, 'pca__n_components': 0.9500000000000001}\n",
      "Best score: 0.7694662809371948\n",
      "R^2 scores for each fold: [0.80470723 0.8109538  0.79843372 0.8612355 ]\n",
      "Mean R^2 Score: 0.82\n",
      "Standard Deviation of R^2 σ: 0.02\n"
     ]
    }
   ],
   "source": [
    "#Correct Version\n",
    "#df_dummies\n",
    "#Ridge Regression + Polynomial Features(degree=2) + Scaling  + PCA + cross_val_score+ GridSearchCV + KFold\n",
    "# No change, GridsearchCV doesn't change anything,\n",
    "#because in the previous I have already found the optimal hyperparameter 'n_components=0.95'\n",
    "X = df_dummies.drop('price',axis=1)\n",
    "y = df_dummies['price']\n",
    "X = X.astype('float32')\n",
    "Input = [('polynomial', PolynomialFeatures(degree=2, include_bias=False)), ('scaler', StandardScaler()),\n",
    "         ('pca', PCA()), ('model', Ridge())]\n",
    "pipe = Pipeline(Input)\n",
    "param_grid = {'pca__n_components': np.arange(0.05, 1.00, 0.05),\n",
    "              'model__alpha': [0.1, 1.0, 10.0, 100.0, 1000.0]}\n",
    "\n",
    "grid_search = GridSearchCV(pipe, param_grid=param_grid, cv=4, scoring='r2', n_jobs=-1)\n",
    "grid_search.fit(X, y)\n",
    "\n",
    "print(f\"Best parameters: {grid_search.best_params_}\")\n",
    "print(f\"Best score: {grid_search.best_score_}\")\n",
    "\n",
    "best_pipe = grid_search.best_estimator_\n",
    "kf = KFold(n_splits=4, shuffle=True, random_state=42)\n",
    "cv_scores = cross_val_score(best_pipe, X, y, cv=kf, scoring='r2', n_jobs=-1)\n",
    "print(f'R^2 scores for each fold: {cv_scores}')\n",
    "print(f'Mean R^2 Score: {np.mean(cv_scores):.2f}')\n",
    "print(f'Standard Deviation of R^2 σ: {np.std(cv_scores):.2f}')"
   ]
  },
  {
   "cell_type": "code",
   "execution_count": null,
   "metadata": {
    "colab": {
     "base_uri": "https://localhost:8080/"
    },
    "id": "qWNfFQJUlKrQ",
    "outputId": "5b6ab198-d1df-4e0a-92fa-48d4286b0441"
   },
   "outputs": [
    {
     "name": "stdout",
     "output_type": "stream",
     "text": [
      "MSE = 2265107.73 \n",
      "R^2 = 0.90\n"
     ]
    }
   ],
   "source": [
    "#SVR + train_test_split + StandardScaler\n",
    "#Huge difference!\n",
    "# In general scaling must be performed after split beacuse otherwise the scaler learns on the\n",
    "#entire dataset. Hence, the test data are influenced by the train data making them dependent and have \"data leakage\"\n",
    "X = df_dummies.drop('price', axis=1)\n",
    "y = df_dummies['price']\n",
    "\n",
    "X_train, X_test, y_train, y_test = train_test_split(X, y, test_size=0.2, random_state=42)\n",
    "\n",
    "scaler = StandardScaler()\n",
    "\n",
    "\n",
    "X_train_scaled = scaler.fit_transform(X_train)\n",
    "X_test_scaled = scaler.transform(X_test)\n",
    "\n",
    "model = SVR(C=1000, gamma=0.01)\n",
    "\n",
    "# Define the hyperparameter values for the grid search\n",
    "#param_grid = {'kernel':('linear', 'rbf', 'sigmoid'),\n",
    "#              'C': [0.01, 0.1, 1, 10],\n",
    "#              'gamma':[0.01, 0.1, 1]}\n",
    "\n",
    "model.fit(X_train_scaled, y_train)\n",
    "\n",
    "\n",
    "yhat = model.predict(X_test_scaled)\n",
    "\n",
    "mse = mean_squared_error(y_test, yhat)\n",
    "r2 = r2_score(y_test, yhat)\n",
    "print(f'MSE = {mse:.2f} \\nR^2 = {r2:.2f}')"
   ]
  },
  {
   "cell_type": "code",
   "execution_count": null,
   "metadata": {
    "colab": {
     "base_uri": "https://localhost:8080/"
    },
    "id": "tpANZIoloRkA",
    "outputId": "179cb520-b294-41ee-b869-1948d457362e"
   },
   "outputs": [
    {
     "name": "stdout",
     "output_type": "stream",
     "text": [
      "MSE = 2265107.73 \n",
      "R^2 = 0.90\n"
     ]
    }
   ],
   "source": [
    "#SVR + train_test_split + +polynomials + StandardScaler\n",
    "#No difference\n",
    "# In general scaling must be performed after split beacuse otherwise the scaler learns on the\n",
    "#entire dataset. Hence, the test data are influenced by the train data making them dependent and have \"data leakage\"\n",
    "X = df_dummies.drop('price', axis=1)\n",
    "y = df_dummies['price']\n",
    "\n",
    "X_train, X_test, y_train, y_test = train_test_split(X, y, test_size=0.2, random_state=42)\n",
    "\n",
    "\n",
    "poly_features = PolynomialFeatures(degree=2)\n",
    "X_train_poly = poly_features.fit_transform(X_train)\n",
    "X_test_poly = poly_features.transform(X_test)\n",
    "\n",
    "scaler = StandardScaler()\n",
    "X_train_scaled = scaler.fit_transform(X_train)\n",
    "X_test_scaled = scaler.transform(X_test)\n",
    "\n",
    "model = SVR(C=1000, gamma=0.01)\n",
    "\n",
    "# Define the hyperparameter values for the grid search\n",
    "#param_grid = {'kernel':('linear', 'rbf', 'sigmoid'),\n",
    "#              'C': [0.01, 0.1, 1, 10],\n",
    "#              'gamma':[0.01, 0.1, 1]}\n",
    "\n",
    "model.fit(X_train_scaled, y_train)\n",
    "\n",
    "\n",
    "yhat = model.predict(X_test_scaled)\n",
    "\n",
    "mse = mean_squared_error(y_test, yhat)\n",
    "r2 = r2_score(y_test, yhat)\n",
    "print(f'MSE = {mse:.2f} \\nR^2 = {r2:.2f}')"
   ]
  },
  {
   "cell_type": "code",
   "execution_count": null,
   "metadata": {
    "colab": {
     "background_save": true
    },
    "id": "8CUALLDUm8bA",
    "outputId": "cf19587d-9042-4530-ae7a-a63f80aed005"
   },
   "outputs": [
    {
     "name": "stdout",
     "output_type": "stream",
     "text": [
      "The best parameter is: {'C': 1000, 'gamma': 0.01, 'kernel': 'rbf'}\n",
      "The best estimator is: SVR(C=1000, gamma=0.01)\n",
      "MSE = 2265107.73 \n",
      "R^2 = 0.90\n"
     ]
    }
   ],
   "source": [
    "#SVR + train_test_split + StandardScaler + GridSearchCV\n",
    "#Significant improvement. The best one!\n",
    "# In general scaling must be performed after split beacuse otherwise the scaler learns on the\n",
    "#entire dataset. Hence, the test data are influenced by the train data making them dependent and have \"data leakage\"\n",
    "\n",
    "X = df_dummies.drop('price', axis=1)\n",
    "y = df_dummies['price']\n",
    "\n",
    "X_train, X_test, y_train, y_test = train_test_split(X, y, test_size=0.2, random_state=42)\n",
    "\n",
    "scaler = StandardScaler()\n",
    "\n",
    "X_train_scaled = scaler.fit_transform(X_train)\n",
    "X_test_scaled = scaler.transform(X_test)\n",
    "\n",
    "regressor = SVR()\n",
    "\n",
    "# Define the hyperparameter values for the grid search\n",
    "param_grid = {'kernel':('linear', 'rbf' ),\n",
    "              'C': [0.01, 0.1, 1, 10, 100, 1000],\n",
    "              'gamma':[0.01, 0.1, 1]}\n",
    "\n",
    "model = GridSearchCV(regressor, param_grid, cv=4, n_jobs=-1)\n",
    "\n",
    "model.fit(X_train_scaled, y_train)\n",
    "\n",
    "print(\"The best parameter is:\", model.best_params_)\n",
    "print(\"The best estimator is:\", model.best_estimator_)\n",
    "\n",
    "yhat = model.best_estimator_.predict(X_test_scaled)\n",
    "\n",
    "mse = mean_squared_error(y_test, yhat)\n",
    "r2 = r2_score(y_test, yhat)\n",
    "print(f'MSE = {mse:.2f} \\nR^2 = {r2:.2f}')"
   ]
  },
  {
   "cell_type": "code",
   "execution_count": null,
   "metadata": {
    "colab": {
     "background_save": true
    },
    "id": "IB3S_Ywx-TtI",
    "outputId": "db7b1cd0-fb3a-44d9-d4aa-80575a2df2cf"
   },
   "outputs": [
    {
     "name": "stdout",
     "output_type": "stream",
     "text": [
      "The best parameter is: {'C': 100, 'gamma': 0.01, 'kernel': 'linear'}\n",
      "The best estimator is: SVR(C=100, gamma=0.01, kernel='linear')\n",
      "MSE = 2874500.99 \n",
      "R^2 = 0.87\n"
     ]
    }
   ],
   "source": [
    "#SVR + train_test_split + PolynomialFeatures(degree=2) + StandardScaler + GridSearchCV\n",
    "#The same as before but with polynomial features too.\n",
    "#Worse with polynomial, at least for degree = 2. It chose linear as the best kernel, instead of rbf\n",
    "# In general scaling must be performed after split beacuse otherwise the scaler learns on the\n",
    "#entire dataset. Hence, the test data are influenced by the train data making them dependent and have \"data leakage\"\n",
    "#The correct order is train_test_split->PolynomialFeatures->StandardScaler->model\n",
    "X = df_dummies.drop('price', axis=1)\n",
    "y = df_dummies['price']\n",
    "\n",
    "X_train, X_test, y_train, y_test = train_test_split(X, y, test_size=0.2, random_state=42)\n",
    "\n",
    "\n",
    "poly_features = PolynomialFeatures(degree=2)\n",
    "\n",
    "X_train_poly = poly_features.fit_transform(X_train)\n",
    "X_test_poly = poly_features.transform(X_test)\n",
    "\n",
    "scaler = StandardScaler()\n",
    "X_train_scaled = scaler.fit_transform(X_train_poly)\n",
    "X_test_scaled = scaler.transform(X_test_poly)\n",
    "\n",
    "regressor = SVR()\n",
    "\n",
    "# Define the hyperparameter values for the grid search\n",
    "param_grid = {'kernel':('linear', 'rbf' ),\n",
    "              'C': [0.01, 0.1, 1, 10, 100, 1000],\n",
    "              'gamma':[0.01, 0.1, 1]}\n",
    "\n",
    "model = GridSearchCV(regressor, param_grid, cv=4, n_jobs=-1)\n",
    "\n",
    "model.fit(X_train_scaled, y_train)\n",
    "\n",
    "print(\"The best parameter is:\", model.best_params_)\n",
    "print(\"The best estimator is:\", model.best_estimator_)\n",
    "\n",
    "yhat = model.best_estimator_.predict(X_test_scaled)\n",
    "\n",
    "mse = mean_squared_error(y_test, yhat)\n",
    "r2 = r2_score(y_test, yhat)\n",
    "print(f'MSE = {mse:.2f} \\nR^2 = {r2:.2f}')"
   ]
  },
  {
   "cell_type": "code",
   "execution_count": null,
   "metadata": {
    "colab": {
     "base_uri": "https://localhost:8080/",
     "height": 365
    },
    "id": "vCS2-IQhVc5D",
    "outputId": "67f821ad-be4b-4330-fa55-45a4e642a392"
   },
   "outputs": [],
   "source": [
    "#Correct Version\n",
    "#df_dummies\n",
    "#Ridge Regression + Polynomial Features(degree=2) + Scaling  + PCA + cross_val_score+ GridSearchCV + KFold\n",
    "# No change, GridsearchCV doesn't change anything,\n",
    "#because in the previous I have already found the optimal hyperparameter 'n_components=0.95'\n",
    "X = df_dummies.drop('price',axis=1)\n",
    "y = df_dummies['price']\n",
    "X = X.astype('float32')\n",
    "Input = [('polynomial', PolynomialFeatures(degree=2, include_bias=False)), ('scaler', StandardScaler()),\n",
    "         ('pca', PCA()), ('model', SVR())]\n",
    "pipe = Pipeline(Input)\n",
    "param_grid = {'pca__n_components': np.arange(0.05, 1.00, 0.05),\n",
    "              'model__kernel':('linear', 'rbf' ),\n",
    "              'model__C': [0.01, 0.1, 1, 10, 100, 1000],\n",
    "              'model__gamma':[0.01, 0.1, 1]}\n",
    "\n",
    "grid_search = GridSearchCV(pipe, param_grid=param_grid, cv=4, scoring='r2', n_jobs=-1)\n",
    "grid_search.fit(X, y)\n",
    "\n",
    "print(f\"Best parameters: {grid_search.best_params_}\")\n",
    "print(f\"Best score: {grid_search.best_score_}\")\n",
    "\n",
    "best_pipe = grid_search.best_estimator_\n",
    "kf = KFold(n_splits=4, shuffle=True, random_state=42)\n",
    "cv_scores = cross_val_score(best_pipe, X, y, cv=kf, scoring='r2', n_jobs=-1)\n",
    "print(f'R^2 scores for each fold: {cv_scores}')\n",
    "print(f'Mean R^2 Score: {np.mean(cv_scores):.2f}')\n",
    "print(f'Standard Deviation of R^2 σ: {np.std(cv_scores):.2f}')"
   ]
  },
  {
   "cell_type": "code",
   "execution_count": null,
   "metadata": {
    "colab": {
     "base_uri": "https://localhost:8080/"
    },
    "id": "29Q0ePnBThAX",
    "outputId": "c6bb1158-d338-47cb-da4a-2f7bd7764e1d"
   },
   "outputs": [
    {
     "name": "stdout",
     "output_type": "stream",
     "text": [
      "Fitting 4 folds for each of 144 candidates, totalling 576 fits\n",
      "The best parameter is: {'criterion': 'squared_error', 'max_depth': 20, 'max_features': 'sqrt', 'min_samples_leaf': 2, 'min_samples_split': 20, 'splitter': 'best'}\n",
      "The best estimator is: DecisionTreeRegressor(max_depth=20, max_features='sqrt', min_samples_leaf=2,\n",
      "                      min_samples_split=20, random_state=42)\n",
      "MSE = 2861304.39 \n",
      "R^2 = 0.87\n"
     ]
    }
   ],
   "source": [
    "#RegressorTree + train_test_split + PolynomialFeatures(degree=3) + StandardScaler\n",
    "#In general scaling must be performed after split beacuse otherwise the scaler learns on the\n",
    "#entire dataset. Hence, the test data are influenced by the train data making them dependent and have \"data leakage\"\n",
    "#The correct order is train_test_split->PolynomialFeatures->StandardScaler->model\n",
    "X = df_dummies.drop('price', axis=1)\n",
    "y = df_dummies['price']\n",
    "\n",
    "X_train, X_test, y_train, y_test = train_test_split(X, y, test_size=0.2, random_state=42)\n",
    "\n",
    "\n",
    "poly_features = PolynomialFeatures(degree=3)\n",
    "\n",
    "X_train_poly = poly_features.fit_transform(X_train)\n",
    "X_test_poly = poly_features.transform(X_test)\n",
    "\n",
    "scaler = StandardScaler()\n",
    "X_train_scaled = scaler.fit_transform(X_train_poly)\n",
    "X_test_scaled = scaler.transform(X_test_poly)\n",
    "\n",
    "regressor = DecisionTreeRegressor(random_state=42)\n",
    "\n",
    "# Define the hyperparameter values for the grid search\n",
    "param_grid = { 'criterion': ['squared_error', 'friedman_mse'], # Focus on best-performing criteria\n",
    "              'max_depth': [10, 20, 30, None], # Limit depth (None = unlimited depth)\n",
    "               'min_samples_split': [5, 10, 20], # Avoid splits with very few samples\n",
    "               'min_samples_leaf': [2, 5, 10],  # Prevent too-small leaves\n",
    "               'max_features': ['sqrt', 'log2'], # Limit features per split for better generalization\n",
    "                'splitter': ['best'] # 'best' is faster and more reliable than 'random'\n",
    "                }\n",
    "\n",
    "\n",
    "\n",
    "model = GridSearchCV(regressor, param_grid, cv=4, scoring='neg_mean_squared_error', n_jobs=-1, verbose=1)\n",
    "\n",
    "model.fit(X_train_scaled, y_train)\n",
    "\n",
    "print(\"The best parameter is:\", model.best_params_)\n",
    "print(\"The best estimator is:\", model.best_estimator_)\n",
    "\n",
    "yhat = model.best_estimator_.predict(X_test_scaled)\n",
    "\n",
    "mse = mean_squared_error(y_test, yhat)\n",
    "r2 = r2_score(y_test, yhat)\n",
    "print(f'MSE = {mse:.2f} \\nR^2 = {r2:.2f}')"
   ]
  },
  {
   "cell_type": "code",
   "execution_count": null,
   "metadata": {
    "id": "z04K8GxkfDCf"
   },
   "outputs": [],
   "source": []
  }
 ],
 "metadata": {
  "colab": {
   "provenance": []
  },
  "kernelspec": {
   "display_name": "Python 3 (ipykernel)",
   "language": "python",
   "name": "python3"
  },
  "language_info": {
   "codemirror_mode": {
    "name": "ipython",
    "version": 3
   },
   "file_extension": ".py",
   "mimetype": "text/x-python",
   "name": "python",
   "nbconvert_exporter": "python",
   "pygments_lexer": "ipython3",
   "version": "3.12.3"
  }
 },
 "nbformat": 4,
 "nbformat_minor": 4
}
