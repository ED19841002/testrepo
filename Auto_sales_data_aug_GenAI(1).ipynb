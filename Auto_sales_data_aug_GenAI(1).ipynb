{
 "cells": [
  {
   "cell_type": "code",
   "execution_count": 1,
   "metadata": {
    "id": "O72SDQ46eONo"
   },
   "outputs": [],
   "source": [
    "import pandas as pd\n",
    "import numpy as np\n",
    "import matplotlib.pyplot as plt\n",
    "import seaborn as sns\n",
    "%matplotlib inline\n",
    "from sklearn.model_selection import train_test_split, GridSearchCV\n",
    "from sklearn.linear_model import LinearRegression, Ridge, LogisticRegression\n",
    "from sklearn.metrics import mean_squared_error, r2_score, roc_auc_score, classification_report, confusion_matrix, f1_score, jaccard_score\n",
    "from sklearn.preprocessing import StandardScaler, PolynomialFeatures\n",
    "from sklearn.pipeline import Pipeline\n",
    "from sklearn.svm import SVR"
   ]
  },
  {
   "cell_type": "code",
   "execution_count": 2,
   "metadata": {
    "id": "uq2GZcQFepIh"
   },
   "outputs": [],
   "source": [
    "#Task1\n",
    "URL = \"https://cf-courses-data.s3.us.cloud-object-storage.appdomain.cloud/IBMSkillsNetwork-AI0271EN-SkillsNetwork/labs/v1/m3/data/used_car_price_analysis.csv\"\n",
    "df = pd.read_csv(URL)"
   ]
  },
  {
   "cell_type": "code",
   "execution_count": 3,
   "metadata": {
    "colab": {
     "base_uri": "https://localhost:8080/",
     "height": 206
    },
    "id": "TgJt86ZSe3rQ",
    "outputId": "86d58b51-4ca6-42ea-8b0e-3444a587b043"
   },
   "outputs": [
    {
     "data": {
      "text/html": [
       "<div>\n",
       "<style scoped>\n",
       "    .dataframe tbody tr th:only-of-type {\n",
       "        vertical-align: middle;\n",
       "    }\n",
       "\n",
       "    .dataframe tbody tr th {\n",
       "        vertical-align: top;\n",
       "    }\n",
       "\n",
       "    .dataframe thead th {\n",
       "        text-align: right;\n",
       "    }\n",
       "</style>\n",
       "<table border=\"1\" class=\"dataframe\">\n",
       "  <thead>\n",
       "    <tr style=\"text-align: right;\">\n",
       "      <th></th>\n",
       "      <th>model</th>\n",
       "      <th>year</th>\n",
       "      <th>transmission</th>\n",
       "      <th>mileage</th>\n",
       "      <th>fuelType</th>\n",
       "      <th>tax</th>\n",
       "      <th>mpg</th>\n",
       "      <th>engineSize</th>\n",
       "      <th>price</th>\n",
       "    </tr>\n",
       "  </thead>\n",
       "  <tbody>\n",
       "    <tr>\n",
       "      <th>0</th>\n",
       "      <td>Fiesta</td>\n",
       "      <td>2017</td>\n",
       "      <td>Automatic</td>\n",
       "      <td>15944</td>\n",
       "      <td>Petrol</td>\n",
       "      <td>150.0</td>\n",
       "      <td>57.7</td>\n",
       "      <td>1.0</td>\n",
       "      <td>12000</td>\n",
       "    </tr>\n",
       "    <tr>\n",
       "      <th>1</th>\n",
       "      <td>Focus</td>\n",
       "      <td>2018</td>\n",
       "      <td>Manual</td>\n",
       "      <td>9083</td>\n",
       "      <td>Petrol</td>\n",
       "      <td>150.0</td>\n",
       "      <td>57.7</td>\n",
       "      <td>1.0</td>\n",
       "      <td>14000</td>\n",
       "    </tr>\n",
       "    <tr>\n",
       "      <th>2</th>\n",
       "      <td>Focus</td>\n",
       "      <td>2017</td>\n",
       "      <td>Manual</td>\n",
       "      <td>12456</td>\n",
       "      <td>Petrol</td>\n",
       "      <td>150.0</td>\n",
       "      <td>57.7</td>\n",
       "      <td>1.0</td>\n",
       "      <td>13000</td>\n",
       "    </tr>\n",
       "    <tr>\n",
       "      <th>3</th>\n",
       "      <td>Fiesta</td>\n",
       "      <td>2019</td>\n",
       "      <td>Manual</td>\n",
       "      <td>10460</td>\n",
       "      <td>Petrol</td>\n",
       "      <td>145.0</td>\n",
       "      <td>40.3</td>\n",
       "      <td>1.5</td>\n",
       "      <td>17500</td>\n",
       "    </tr>\n",
       "    <tr>\n",
       "      <th>4</th>\n",
       "      <td>Fiesta</td>\n",
       "      <td>2019</td>\n",
       "      <td>Automatic</td>\n",
       "      <td>1482</td>\n",
       "      <td>Petrol</td>\n",
       "      <td>145.0</td>\n",
       "      <td>48.7</td>\n",
       "      <td>1.0</td>\n",
       "      <td>16500</td>\n",
       "    </tr>\n",
       "  </tbody>\n",
       "</table>\n",
       "</div>"
      ],
      "text/plain": [
       "     model  year transmission  mileage fuelType    tax   mpg  engineSize  \\\n",
       "0   Fiesta  2017    Automatic    15944   Petrol  150.0  57.7         1.0   \n",
       "1    Focus  2018       Manual     9083   Petrol  150.0  57.7         1.0   \n",
       "2    Focus  2017       Manual    12456   Petrol  150.0  57.7         1.0   \n",
       "3   Fiesta  2019       Manual    10460   Petrol  145.0  40.3         1.5   \n",
       "4   Fiesta  2019    Automatic     1482   Petrol  145.0  48.7         1.0   \n",
       "\n",
       "   price  \n",
       "0  12000  \n",
       "1  14000  \n",
       "2  13000  \n",
       "3  17500  \n",
       "4  16500  "
      ]
     },
     "execution_count": 3,
     "metadata": {},
     "output_type": "execute_result"
    }
   ],
   "source": [
    "df.head()"
   ]
  },
  {
   "cell_type": "code",
   "execution_count": 4,
   "metadata": {
    "colab": {
     "base_uri": "https://localhost:8080/",
     "height": 366
    },
    "id": "2y1vkW7me6Gm",
    "outputId": "535ea64d-2ab1-4e57-9e2b-f464bdf3d09a"
   },
   "outputs": [
    {
     "data": {
      "text/plain": [
       "model            object\n",
       "year              int64\n",
       "transmission     object\n",
       "mileage           int64\n",
       "fuelType         object\n",
       "tax             float64\n",
       "mpg             float64\n",
       "engineSize      float64\n",
       "price             int64\n",
       "dtype: object"
      ]
     },
     "execution_count": 4,
     "metadata": {},
     "output_type": "execute_result"
    }
   ],
   "source": [
    "df.dtypes"
   ]
  },
  {
   "cell_type": "code",
   "execution_count": 5,
   "metadata": {
    "id": "rNxqFXQdgBoN"
   },
   "outputs": [],
   "source": [
    "df.replace('?', np.NaN, inplace=True)"
   ]
  },
  {
   "cell_type": "code",
   "execution_count": 6,
   "metadata": {
    "colab": {
     "base_uri": "https://localhost:8080/",
     "height": 366
    },
    "id": "7mEIP2l6e-UY",
    "outputId": "2b14d073-9a05-4360-ee49-1ee60e758caa"
   },
   "outputs": [
    {
     "data": {
      "text/plain": [
       "model           0\n",
       "year            0\n",
       "transmission    0\n",
       "mileage         0\n",
       "fuelType        0\n",
       "tax             3\n",
       "mpg             0\n",
       "engineSize      0\n",
       "price           0\n",
       "dtype: int64"
      ]
     },
     "execution_count": 6,
     "metadata": {},
     "output_type": "execute_result"
    }
   ],
   "source": [
    "#Task2\n",
    "df.isnull().sum()"
   ]
  },
  {
   "cell_type": "code",
   "execution_count": 7,
   "metadata": {
    "id": "OSdHL5rofKrQ"
   },
   "outputs": [],
   "source": [
    "avg_tax = round(df['tax'].mean(axis=0), 0)\n",
    "df['tax'] = df['tax'].replace(np.NaN, avg_tax)"
   ]
  },
  {
   "cell_type": "code",
   "execution_count": 8,
   "metadata": {
    "colab": {
     "base_uri": "https://localhost:8080/"
    },
    "id": "cmH2dmtylMR_",
    "outputId": "9f55c377-91b2-42a2-c147-468b09cb5716"
   },
   "outputs": [
    {
     "data": {
      "text/plain": [
       "(17966, 9)"
      ]
     },
     "execution_count": 8,
     "metadata": {},
     "output_type": "execute_result"
    }
   ],
   "source": [
    "df.shape"
   ]
  },
  {
   "cell_type": "code",
   "execution_count": 9,
   "metadata": {
    "colab": {
     "base_uri": "https://localhost:8080/",
     "height": 424
    },
    "id": "NrPtfKW3fc8G",
    "outputId": "41b43133-b8fd-4e3e-bdb8-8d2c2ef9ca98"
   },
   "outputs": [
    {
     "data": {
      "text/html": [
       "<div>\n",
       "<style scoped>\n",
       "    .dataframe tbody tr th:only-of-type {\n",
       "        vertical-align: middle;\n",
       "    }\n",
       "\n",
       "    .dataframe tbody tr th {\n",
       "        vertical-align: top;\n",
       "    }\n",
       "\n",
       "    .dataframe thead th {\n",
       "        text-align: right;\n",
       "    }\n",
       "</style>\n",
       "<table border=\"1\" class=\"dataframe\">\n",
       "  <thead>\n",
       "    <tr style=\"text-align: right;\">\n",
       "      <th></th>\n",
       "      <th>model</th>\n",
       "      <th>year</th>\n",
       "      <th>transmission</th>\n",
       "      <th>mileage</th>\n",
       "      <th>fuelType</th>\n",
       "      <th>tax</th>\n",
       "      <th>mpg</th>\n",
       "      <th>engineSize</th>\n",
       "      <th>price</th>\n",
       "    </tr>\n",
       "  </thead>\n",
       "  <tbody>\n",
       "    <tr>\n",
       "      <th>159</th>\n",
       "      <td>Focus</td>\n",
       "      <td>2016</td>\n",
       "      <td>Manual</td>\n",
       "      <td>30923</td>\n",
       "      <td>Diesel</td>\n",
       "      <td>0.0</td>\n",
       "      <td>74.3</td>\n",
       "      <td>1.5</td>\n",
       "      <td>10995</td>\n",
       "    </tr>\n",
       "    <tr>\n",
       "      <th>312</th>\n",
       "      <td>Focus</td>\n",
       "      <td>2019</td>\n",
       "      <td>Manual</td>\n",
       "      <td>7000</td>\n",
       "      <td>Petrol</td>\n",
       "      <td>145.0</td>\n",
       "      <td>58.9</td>\n",
       "      <td>1.0</td>\n",
       "      <td>14998</td>\n",
       "    </tr>\n",
       "    <tr>\n",
       "      <th>349</th>\n",
       "      <td>Focus</td>\n",
       "      <td>2019</td>\n",
       "      <td>Manual</td>\n",
       "      <td>7000</td>\n",
       "      <td>Petrol</td>\n",
       "      <td>145.0</td>\n",
       "      <td>58.9</td>\n",
       "      <td>1.0</td>\n",
       "      <td>14998</td>\n",
       "    </tr>\n",
       "    <tr>\n",
       "      <th>510</th>\n",
       "      <td>EcoSport</td>\n",
       "      <td>2019</td>\n",
       "      <td>Manual</td>\n",
       "      <td>5636</td>\n",
       "      <td>Diesel</td>\n",
       "      <td>145.0</td>\n",
       "      <td>68.9</td>\n",
       "      <td>1.5</td>\n",
       "      <td>15489</td>\n",
       "    </tr>\n",
       "    <tr>\n",
       "      <th>512</th>\n",
       "      <td>Grand Tourneo Connect</td>\n",
       "      <td>2019</td>\n",
       "      <td>Manual</td>\n",
       "      <td>3500</td>\n",
       "      <td>Diesel</td>\n",
       "      <td>145.0</td>\n",
       "      <td>61.4</td>\n",
       "      <td>1.5</td>\n",
       "      <td>19999</td>\n",
       "    </tr>\n",
       "    <tr>\n",
       "      <th>...</th>\n",
       "      <td>...</td>\n",
       "      <td>...</td>\n",
       "      <td>...</td>\n",
       "      <td>...</td>\n",
       "      <td>...</td>\n",
       "      <td>...</td>\n",
       "      <td>...</td>\n",
       "      <td>...</td>\n",
       "      <td>...</td>\n",
       "    </tr>\n",
       "    <tr>\n",
       "      <th>14556</th>\n",
       "      <td>Mondeo</td>\n",
       "      <td>2015</td>\n",
       "      <td>Manual</td>\n",
       "      <td>138000</td>\n",
       "      <td>Diesel</td>\n",
       "      <td>20.0</td>\n",
       "      <td>68.9</td>\n",
       "      <td>2.0</td>\n",
       "      <td>6793</td>\n",
       "    </tr>\n",
       "    <tr>\n",
       "      <th>15121</th>\n",
       "      <td>Kuga</td>\n",
       "      <td>2017</td>\n",
       "      <td>Manual</td>\n",
       "      <td>24877</td>\n",
       "      <td>Diesel</td>\n",
       "      <td>30.0</td>\n",
       "      <td>64.2</td>\n",
       "      <td>1.5</td>\n",
       "      <td>14999</td>\n",
       "    </tr>\n",
       "    <tr>\n",
       "      <th>15127</th>\n",
       "      <td>EcoSport</td>\n",
       "      <td>2019</td>\n",
       "      <td>Automatic</td>\n",
       "      <td>433</td>\n",
       "      <td>Petrol</td>\n",
       "      <td>150.0</td>\n",
       "      <td>45.6</td>\n",
       "      <td>1.0</td>\n",
       "      <td>16799</td>\n",
       "    </tr>\n",
       "    <tr>\n",
       "      <th>15685</th>\n",
       "      <td>KA</td>\n",
       "      <td>2008</td>\n",
       "      <td>Manual</td>\n",
       "      <td>63000</td>\n",
       "      <td>Petrol</td>\n",
       "      <td>160.0</td>\n",
       "      <td>45.6</td>\n",
       "      <td>1.3</td>\n",
       "      <td>1795</td>\n",
       "    </tr>\n",
       "    <tr>\n",
       "      <th>17608</th>\n",
       "      <td>B-MAX</td>\n",
       "      <td>2017</td>\n",
       "      <td>Automatic</td>\n",
       "      <td>5000</td>\n",
       "      <td>Petrol</td>\n",
       "      <td>145.0</td>\n",
       "      <td>44.1</td>\n",
       "      <td>1.6</td>\n",
       "      <td>11495</td>\n",
       "    </tr>\n",
       "  </tbody>\n",
       "</table>\n",
       "<p>154 rows × 9 columns</p>\n",
       "</div>"
      ],
      "text/plain": [
       "                        model  year transmission  mileage fuelType    tax  \\\n",
       "159                     Focus  2016       Manual    30923   Diesel    0.0   \n",
       "312                     Focus  2019       Manual     7000   Petrol  145.0   \n",
       "349                     Focus  2019       Manual     7000   Petrol  145.0   \n",
       "510                  EcoSport  2019       Manual     5636   Diesel  145.0   \n",
       "512     Grand Tourneo Connect  2019       Manual     3500   Diesel  145.0   \n",
       "...                       ...   ...          ...      ...      ...    ...   \n",
       "14556                  Mondeo  2015       Manual   138000   Diesel   20.0   \n",
       "15121                    Kuga  2017       Manual    24877   Diesel   30.0   \n",
       "15127                EcoSport  2019    Automatic      433   Petrol  150.0   \n",
       "15685                      KA  2008       Manual    63000   Petrol  160.0   \n",
       "17608                   B-MAX  2017    Automatic     5000   Petrol  145.0   \n",
       "\n",
       "        mpg  engineSize  price  \n",
       "159    74.3         1.5  10995  \n",
       "312    58.9         1.0  14998  \n",
       "349    58.9         1.0  14998  \n",
       "510    68.9         1.5  15489  \n",
       "512    61.4         1.5  19999  \n",
       "...     ...         ...    ...  \n",
       "14556  68.9         2.0   6793  \n",
       "15121  64.2         1.5  14999  \n",
       "15127  45.6         1.0  16799  \n",
       "15685  45.6         1.3   1795  \n",
       "17608  44.1         1.6  11495  \n",
       "\n",
       "[154 rows x 9 columns]"
      ]
     },
     "execution_count": 9,
     "metadata": {},
     "output_type": "execute_result"
    }
   ],
   "source": [
    "df[df.duplicated(keep='first')]"
   ]
  },
  {
   "cell_type": "markdown",
   "metadata": {
    "id": "zvwqeqDqm-zo"
   },
   "source": [
    "Thus, we expect after the removal of duplicates the total rows to be: 17966-154=17812"
   ]
  },
  {
   "cell_type": "code",
   "execution_count": 11,
   "metadata": {
    "colab": {
     "base_uri": "https://localhost:8080/",
     "height": 424
    },
    "id": "Hxy72KeelEOS",
    "outputId": "d9028587-47da-43a7-9e0a-0cb7947f7b23"
   },
   "outputs": [
    {
     "data": {
      "text/html": [
       "<div>\n",
       "<style scoped>\n",
       "    .dataframe tbody tr th:only-of-type {\n",
       "        vertical-align: middle;\n",
       "    }\n",
       "\n",
       "    .dataframe tbody tr th {\n",
       "        vertical-align: top;\n",
       "    }\n",
       "\n",
       "    .dataframe thead th {\n",
       "        text-align: right;\n",
       "    }\n",
       "</style>\n",
       "<table border=\"1\" class=\"dataframe\">\n",
       "  <thead>\n",
       "    <tr style=\"text-align: right;\">\n",
       "      <th></th>\n",
       "      <th>model</th>\n",
       "      <th>year</th>\n",
       "      <th>transmission</th>\n",
       "      <th>mileage</th>\n",
       "      <th>fuelType</th>\n",
       "      <th>tax</th>\n",
       "      <th>mpg</th>\n",
       "      <th>engineSize</th>\n",
       "      <th>price</th>\n",
       "    </tr>\n",
       "  </thead>\n",
       "  <tbody>\n",
       "    <tr>\n",
       "      <th>0</th>\n",
       "      <td>Fiesta</td>\n",
       "      <td>2017</td>\n",
       "      <td>Automatic</td>\n",
       "      <td>15944</td>\n",
       "      <td>Petrol</td>\n",
       "      <td>150.0</td>\n",
       "      <td>57.7</td>\n",
       "      <td>1.0</td>\n",
       "      <td>12000</td>\n",
       "    </tr>\n",
       "    <tr>\n",
       "      <th>1</th>\n",
       "      <td>Focus</td>\n",
       "      <td>2018</td>\n",
       "      <td>Manual</td>\n",
       "      <td>9083</td>\n",
       "      <td>Petrol</td>\n",
       "      <td>150.0</td>\n",
       "      <td>57.7</td>\n",
       "      <td>1.0</td>\n",
       "      <td>14000</td>\n",
       "    </tr>\n",
       "    <tr>\n",
       "      <th>2</th>\n",
       "      <td>Focus</td>\n",
       "      <td>2017</td>\n",
       "      <td>Manual</td>\n",
       "      <td>12456</td>\n",
       "      <td>Petrol</td>\n",
       "      <td>150.0</td>\n",
       "      <td>57.7</td>\n",
       "      <td>1.0</td>\n",
       "      <td>13000</td>\n",
       "    </tr>\n",
       "    <tr>\n",
       "      <th>3</th>\n",
       "      <td>Fiesta</td>\n",
       "      <td>2019</td>\n",
       "      <td>Manual</td>\n",
       "      <td>10460</td>\n",
       "      <td>Petrol</td>\n",
       "      <td>145.0</td>\n",
       "      <td>40.3</td>\n",
       "      <td>1.5</td>\n",
       "      <td>17500</td>\n",
       "    </tr>\n",
       "    <tr>\n",
       "      <th>4</th>\n",
       "      <td>Fiesta</td>\n",
       "      <td>2019</td>\n",
       "      <td>Automatic</td>\n",
       "      <td>1482</td>\n",
       "      <td>Petrol</td>\n",
       "      <td>145.0</td>\n",
       "      <td>48.7</td>\n",
       "      <td>1.0</td>\n",
       "      <td>16500</td>\n",
       "    </tr>\n",
       "    <tr>\n",
       "      <th>...</th>\n",
       "      <td>...</td>\n",
       "      <td>...</td>\n",
       "      <td>...</td>\n",
       "      <td>...</td>\n",
       "      <td>...</td>\n",
       "      <td>...</td>\n",
       "      <td>...</td>\n",
       "      <td>...</td>\n",
       "      <td>...</td>\n",
       "    </tr>\n",
       "    <tr>\n",
       "      <th>17961</th>\n",
       "      <td>B-MAX</td>\n",
       "      <td>2017</td>\n",
       "      <td>Manual</td>\n",
       "      <td>16700</td>\n",
       "      <td>Petrol</td>\n",
       "      <td>150.0</td>\n",
       "      <td>47.1</td>\n",
       "      <td>1.4</td>\n",
       "      <td>8999</td>\n",
       "    </tr>\n",
       "    <tr>\n",
       "      <th>17962</th>\n",
       "      <td>B-MAX</td>\n",
       "      <td>2014</td>\n",
       "      <td>Manual</td>\n",
       "      <td>40700</td>\n",
       "      <td>Petrol</td>\n",
       "      <td>30.0</td>\n",
       "      <td>57.7</td>\n",
       "      <td>1.0</td>\n",
       "      <td>7499</td>\n",
       "    </tr>\n",
       "    <tr>\n",
       "      <th>17963</th>\n",
       "      <td>Focus</td>\n",
       "      <td>2015</td>\n",
       "      <td>Manual</td>\n",
       "      <td>7010</td>\n",
       "      <td>Diesel</td>\n",
       "      <td>20.0</td>\n",
       "      <td>67.3</td>\n",
       "      <td>1.6</td>\n",
       "      <td>9999</td>\n",
       "    </tr>\n",
       "    <tr>\n",
       "      <th>17964</th>\n",
       "      <td>KA</td>\n",
       "      <td>2018</td>\n",
       "      <td>Manual</td>\n",
       "      <td>5007</td>\n",
       "      <td>Petrol</td>\n",
       "      <td>145.0</td>\n",
       "      <td>57.7</td>\n",
       "      <td>1.2</td>\n",
       "      <td>8299</td>\n",
       "    </tr>\n",
       "    <tr>\n",
       "      <th>17965</th>\n",
       "      <td>Focus</td>\n",
       "      <td>2015</td>\n",
       "      <td>Manual</td>\n",
       "      <td>5007</td>\n",
       "      <td>Petrol</td>\n",
       "      <td>22.0</td>\n",
       "      <td>57.7</td>\n",
       "      <td>1.0</td>\n",
       "      <td>8299</td>\n",
       "    </tr>\n",
       "  </tbody>\n",
       "</table>\n",
       "<p>17812 rows × 9 columns</p>\n",
       "</div>"
      ],
      "text/plain": [
       "         model  year transmission  mileage fuelType    tax   mpg  engineSize  \\\n",
       "0       Fiesta  2017    Automatic    15944   Petrol  150.0  57.7         1.0   \n",
       "1        Focus  2018       Manual     9083   Petrol  150.0  57.7         1.0   \n",
       "2        Focus  2017       Manual    12456   Petrol  150.0  57.7         1.0   \n",
       "3       Fiesta  2019       Manual    10460   Petrol  145.0  40.3         1.5   \n",
       "4       Fiesta  2019    Automatic     1482   Petrol  145.0  48.7         1.0   \n",
       "...        ...   ...          ...      ...      ...    ...   ...         ...   \n",
       "17961    B-MAX  2017       Manual    16700   Petrol  150.0  47.1         1.4   \n",
       "17962    B-MAX  2014       Manual    40700   Petrol   30.0  57.7         1.0   \n",
       "17963    Focus  2015       Manual     7010   Diesel   20.0  67.3         1.6   \n",
       "17964       KA  2018       Manual     5007   Petrol  145.0  57.7         1.2   \n",
       "17965    Focus  2015       Manual     5007   Petrol   22.0  57.7         1.0   \n",
       "\n",
       "       price  \n",
       "0      12000  \n",
       "1      14000  \n",
       "2      13000  \n",
       "3      17500  \n",
       "4      16500  \n",
       "...      ...  \n",
       "17961   8999  \n",
       "17962   7499  \n",
       "17963   9999  \n",
       "17964   8299  \n",
       "17965   8299  \n",
       "\n",
       "[17812 rows x 9 columns]"
      ]
     },
     "execution_count": 11,
     "metadata": {},
     "output_type": "execute_result"
    }
   ],
   "source": [
    "df = df.drop_duplicates(keep='first')\n",
    "df"
   ]
  },
  {
   "cell_type": "code",
   "execution_count": 12,
   "metadata": {
    "id": "wj4LogNapay9"
   },
   "outputs": [],
   "source": [
    "df.reset_index(inplace=True, drop=True)"
   ]
  },
  {
   "cell_type": "code",
   "execution_count": 13,
   "metadata": {
    "colab": {
     "base_uri": "https://localhost:8080/",
     "height": 424
    },
    "id": "NxAk1dwGpnwO",
    "outputId": "e84be01e-eeda-44e6-da4e-07efff86c28c"
   },
   "outputs": [
    {
     "data": {
      "text/html": [
       "<div>\n",
       "<style scoped>\n",
       "    .dataframe tbody tr th:only-of-type {\n",
       "        vertical-align: middle;\n",
       "    }\n",
       "\n",
       "    .dataframe tbody tr th {\n",
       "        vertical-align: top;\n",
       "    }\n",
       "\n",
       "    .dataframe thead th {\n",
       "        text-align: right;\n",
       "    }\n",
       "</style>\n",
       "<table border=\"1\" class=\"dataframe\">\n",
       "  <thead>\n",
       "    <tr style=\"text-align: right;\">\n",
       "      <th></th>\n",
       "      <th>model</th>\n",
       "      <th>year</th>\n",
       "      <th>transmission</th>\n",
       "      <th>mileage</th>\n",
       "      <th>fuelType</th>\n",
       "      <th>tax</th>\n",
       "      <th>mpg</th>\n",
       "      <th>engineSize</th>\n",
       "      <th>price</th>\n",
       "    </tr>\n",
       "  </thead>\n",
       "  <tbody>\n",
       "    <tr>\n",
       "      <th>0</th>\n",
       "      <td>Fiesta</td>\n",
       "      <td>2017</td>\n",
       "      <td>Automatic</td>\n",
       "      <td>15944</td>\n",
       "      <td>Petrol</td>\n",
       "      <td>150.0</td>\n",
       "      <td>57.7</td>\n",
       "      <td>1.0</td>\n",
       "      <td>12000</td>\n",
       "    </tr>\n",
       "    <tr>\n",
       "      <th>1</th>\n",
       "      <td>Focus</td>\n",
       "      <td>2018</td>\n",
       "      <td>Manual</td>\n",
       "      <td>9083</td>\n",
       "      <td>Petrol</td>\n",
       "      <td>150.0</td>\n",
       "      <td>57.7</td>\n",
       "      <td>1.0</td>\n",
       "      <td>14000</td>\n",
       "    </tr>\n",
       "    <tr>\n",
       "      <th>2</th>\n",
       "      <td>Focus</td>\n",
       "      <td>2017</td>\n",
       "      <td>Manual</td>\n",
       "      <td>12456</td>\n",
       "      <td>Petrol</td>\n",
       "      <td>150.0</td>\n",
       "      <td>57.7</td>\n",
       "      <td>1.0</td>\n",
       "      <td>13000</td>\n",
       "    </tr>\n",
       "    <tr>\n",
       "      <th>3</th>\n",
       "      <td>Fiesta</td>\n",
       "      <td>2019</td>\n",
       "      <td>Manual</td>\n",
       "      <td>10460</td>\n",
       "      <td>Petrol</td>\n",
       "      <td>145.0</td>\n",
       "      <td>40.3</td>\n",
       "      <td>1.5</td>\n",
       "      <td>17500</td>\n",
       "    </tr>\n",
       "    <tr>\n",
       "      <th>4</th>\n",
       "      <td>Fiesta</td>\n",
       "      <td>2019</td>\n",
       "      <td>Automatic</td>\n",
       "      <td>1482</td>\n",
       "      <td>Petrol</td>\n",
       "      <td>145.0</td>\n",
       "      <td>48.7</td>\n",
       "      <td>1.0</td>\n",
       "      <td>16500</td>\n",
       "    </tr>\n",
       "    <tr>\n",
       "      <th>...</th>\n",
       "      <td>...</td>\n",
       "      <td>...</td>\n",
       "      <td>...</td>\n",
       "      <td>...</td>\n",
       "      <td>...</td>\n",
       "      <td>...</td>\n",
       "      <td>...</td>\n",
       "      <td>...</td>\n",
       "      <td>...</td>\n",
       "    </tr>\n",
       "    <tr>\n",
       "      <th>17807</th>\n",
       "      <td>B-MAX</td>\n",
       "      <td>2017</td>\n",
       "      <td>Manual</td>\n",
       "      <td>16700</td>\n",
       "      <td>Petrol</td>\n",
       "      <td>150.0</td>\n",
       "      <td>47.1</td>\n",
       "      <td>1.4</td>\n",
       "      <td>8999</td>\n",
       "    </tr>\n",
       "    <tr>\n",
       "      <th>17808</th>\n",
       "      <td>B-MAX</td>\n",
       "      <td>2014</td>\n",
       "      <td>Manual</td>\n",
       "      <td>40700</td>\n",
       "      <td>Petrol</td>\n",
       "      <td>30.0</td>\n",
       "      <td>57.7</td>\n",
       "      <td>1.0</td>\n",
       "      <td>7499</td>\n",
       "    </tr>\n",
       "    <tr>\n",
       "      <th>17809</th>\n",
       "      <td>Focus</td>\n",
       "      <td>2015</td>\n",
       "      <td>Manual</td>\n",
       "      <td>7010</td>\n",
       "      <td>Diesel</td>\n",
       "      <td>20.0</td>\n",
       "      <td>67.3</td>\n",
       "      <td>1.6</td>\n",
       "      <td>9999</td>\n",
       "    </tr>\n",
       "    <tr>\n",
       "      <th>17810</th>\n",
       "      <td>KA</td>\n",
       "      <td>2018</td>\n",
       "      <td>Manual</td>\n",
       "      <td>5007</td>\n",
       "      <td>Petrol</td>\n",
       "      <td>145.0</td>\n",
       "      <td>57.7</td>\n",
       "      <td>1.2</td>\n",
       "      <td>8299</td>\n",
       "    </tr>\n",
       "    <tr>\n",
       "      <th>17811</th>\n",
       "      <td>Focus</td>\n",
       "      <td>2015</td>\n",
       "      <td>Manual</td>\n",
       "      <td>5007</td>\n",
       "      <td>Petrol</td>\n",
       "      <td>22.0</td>\n",
       "      <td>57.7</td>\n",
       "      <td>1.0</td>\n",
       "      <td>8299</td>\n",
       "    </tr>\n",
       "  </tbody>\n",
       "</table>\n",
       "<p>17812 rows × 9 columns</p>\n",
       "</div>"
      ],
      "text/plain": [
       "         model  year transmission  mileage fuelType    tax   mpg  engineSize  \\\n",
       "0       Fiesta  2017    Automatic    15944   Petrol  150.0  57.7         1.0   \n",
       "1        Focus  2018       Manual     9083   Petrol  150.0  57.7         1.0   \n",
       "2        Focus  2017       Manual    12456   Petrol  150.0  57.7         1.0   \n",
       "3       Fiesta  2019       Manual    10460   Petrol  145.0  40.3         1.5   \n",
       "4       Fiesta  2019    Automatic     1482   Petrol  145.0  48.7         1.0   \n",
       "...        ...   ...          ...      ...      ...    ...   ...         ...   \n",
       "17807    B-MAX  2017       Manual    16700   Petrol  150.0  47.1         1.4   \n",
       "17808    B-MAX  2014       Manual    40700   Petrol   30.0  57.7         1.0   \n",
       "17809    Focus  2015       Manual     7010   Diesel   20.0  67.3         1.6   \n",
       "17810       KA  2018       Manual     5007   Petrol  145.0  57.7         1.2   \n",
       "17811    Focus  2015       Manual     5007   Petrol   22.0  57.7         1.0   \n",
       "\n",
       "       price  \n",
       "0      12000  \n",
       "1      14000  \n",
       "2      13000  \n",
       "3      17500  \n",
       "4      16500  \n",
       "...      ...  \n",
       "17807   8999  \n",
       "17808   7499  \n",
       "17809   9999  \n",
       "17810   8299  \n",
       "17811   8299  \n",
       "\n",
       "[17812 rows x 9 columns]"
      ]
     },
     "execution_count": 13,
     "metadata": {},
     "output_type": "execute_result"
    }
   ],
   "source": [
    "df"
   ]
  },
  {
   "cell_type": "code",
   "execution_count": 14,
   "metadata": {
    "id": "4jC1G2onmWJe"
   },
   "outputs": [],
   "source": [
    "df.to_csv('auto_sales.csv')"
   ]
  },
  {
   "cell_type": "markdown",
   "metadata": {
    "id": "1D8cwKuDvZns"
   },
   "source": [
    "data augmenting through Mostly.AI"
   ]
  },
  {
   "cell_type": "code",
   "execution_count": 16,
   "metadata": {
    "id": "O4DMyK8QuSbd"
   },
   "outputs": [],
   "source": [
    "df1 = pd.read_csv('auto_sales (1).csv')"
   ]
  },
  {
   "cell_type": "code",
   "execution_count": 17,
   "metadata": {
    "colab": {
     "base_uri": "https://localhost:8080/",
     "height": 424
    },
    "id": "hutB5DKtu3Si",
    "outputId": "8b7831a8-7ab4-4ecf-ec0b-ce06c793606b"
   },
   "outputs": [
    {
     "data": {
      "text/html": [
       "<div>\n",
       "<style scoped>\n",
       "    .dataframe tbody tr th:only-of-type {\n",
       "        vertical-align: middle;\n",
       "    }\n",
       "\n",
       "    .dataframe tbody tr th {\n",
       "        vertical-align: top;\n",
       "    }\n",
       "\n",
       "    .dataframe thead th {\n",
       "        text-align: right;\n",
       "    }\n",
       "</style>\n",
       "<table border=\"1\" class=\"dataframe\">\n",
       "  <thead>\n",
       "    <tr style=\"text-align: right;\">\n",
       "      <th></th>\n",
       "      <th>model</th>\n",
       "      <th>year</th>\n",
       "      <th>transmission</th>\n",
       "      <th>mileage</th>\n",
       "      <th>fuelType</th>\n",
       "      <th>tax</th>\n",
       "      <th>mpg</th>\n",
       "      <th>engineSize</th>\n",
       "      <th>price</th>\n",
       "    </tr>\n",
       "  </thead>\n",
       "  <tbody>\n",
       "    <tr>\n",
       "      <th>0</th>\n",
       "      <td>Fiesta</td>\n",
       "      <td>2013</td>\n",
       "      <td>Manual</td>\n",
       "      <td>31156</td>\n",
       "      <td>Petrol</td>\n",
       "      <td>150</td>\n",
       "      <td>55.0</td>\n",
       "      <td>1.2</td>\n",
       "      <td>4934</td>\n",
       "    </tr>\n",
       "    <tr>\n",
       "      <th>1</th>\n",
       "      <td>Fiesta</td>\n",
       "      <td>2019</td>\n",
       "      <td>Manual</td>\n",
       "      <td>13</td>\n",
       "      <td>Petrol</td>\n",
       "      <td>145</td>\n",
       "      <td>48.9</td>\n",
       "      <td>1.1</td>\n",
       "      <td>12127</td>\n",
       "    </tr>\n",
       "    <tr>\n",
       "      <th>2</th>\n",
       "      <td>Kuga</td>\n",
       "      <td>2016</td>\n",
       "      <td>Semi-Auto</td>\n",
       "      <td>32296</td>\n",
       "      <td>Diesel</td>\n",
       "      <td>145</td>\n",
       "      <td>53.2</td>\n",
       "      <td>2.0</td>\n",
       "      <td>13999</td>\n",
       "    </tr>\n",
       "    <tr>\n",
       "      <th>3</th>\n",
       "      <td>Fiesta</td>\n",
       "      <td>2018</td>\n",
       "      <td>Manual</td>\n",
       "      <td>2984</td>\n",
       "      <td>Petrol</td>\n",
       "      <td>145</td>\n",
       "      <td>66.5</td>\n",
       "      <td>1.0</td>\n",
       "      <td>11450</td>\n",
       "    </tr>\n",
       "    <tr>\n",
       "      <th>4</th>\n",
       "      <td>Fiesta</td>\n",
       "      <td>2018</td>\n",
       "      <td>Manual</td>\n",
       "      <td>20852</td>\n",
       "      <td>Petrol</td>\n",
       "      <td>145</td>\n",
       "      <td>65.9</td>\n",
       "      <td>1.0</td>\n",
       "      <td>11068</td>\n",
       "    </tr>\n",
       "    <tr>\n",
       "      <th>...</th>\n",
       "      <td>...</td>\n",
       "      <td>...</td>\n",
       "      <td>...</td>\n",
       "      <td>...</td>\n",
       "      <td>...</td>\n",
       "      <td>...</td>\n",
       "      <td>...</td>\n",
       "      <td>...</td>\n",
       "      <td>...</td>\n",
       "    </tr>\n",
       "    <tr>\n",
       "      <th>17807</th>\n",
       "      <td>Kuga</td>\n",
       "      <td>2019</td>\n",
       "      <td>Manual</td>\n",
       "      <td>5982</td>\n",
       "      <td>Diesel</td>\n",
       "      <td>145</td>\n",
       "      <td>60.5</td>\n",
       "      <td>2.0</td>\n",
       "      <td>21005</td>\n",
       "    </tr>\n",
       "    <tr>\n",
       "      <th>17808</th>\n",
       "      <td>Focus</td>\n",
       "      <td>2019</td>\n",
       "      <td>Manual</td>\n",
       "      <td>9382</td>\n",
       "      <td>Petrol</td>\n",
       "      <td>145</td>\n",
       "      <td>60.4</td>\n",
       "      <td>1.0</td>\n",
       "      <td>17051</td>\n",
       "    </tr>\n",
       "    <tr>\n",
       "      <th>17809</th>\n",
       "      <td>Fiesta</td>\n",
       "      <td>2015</td>\n",
       "      <td>Manual</td>\n",
       "      <td>54063</td>\n",
       "      <td>Petrol</td>\n",
       "      <td>125</td>\n",
       "      <td>55.1</td>\n",
       "      <td>1.2</td>\n",
       "      <td>5995</td>\n",
       "    </tr>\n",
       "    <tr>\n",
       "      <th>17810</th>\n",
       "      <td>Kuga</td>\n",
       "      <td>2018</td>\n",
       "      <td>Manual</td>\n",
       "      <td>28075</td>\n",
       "      <td>Diesel</td>\n",
       "      <td>145</td>\n",
       "      <td>54.3</td>\n",
       "      <td>2.0</td>\n",
       "      <td>21125</td>\n",
       "    </tr>\n",
       "    <tr>\n",
       "      <th>17811</th>\n",
       "      <td>Fiesta</td>\n",
       "      <td>2015</td>\n",
       "      <td>Manual</td>\n",
       "      <td>27815</td>\n",
       "      <td>Diesel</td>\n",
       "      <td>0</td>\n",
       "      <td>88.3</td>\n",
       "      <td>1.5</td>\n",
       "      <td>8991</td>\n",
       "    </tr>\n",
       "  </tbody>\n",
       "</table>\n",
       "<p>17812 rows × 9 columns</p>\n",
       "</div>"
      ],
      "text/plain": [
       "         model  year transmission  mileage fuelType  tax   mpg  engineSize  \\\n",
       "0       Fiesta  2013       Manual    31156   Petrol  150  55.0         1.2   \n",
       "1       Fiesta  2019       Manual       13   Petrol  145  48.9         1.1   \n",
       "2         Kuga  2016    Semi-Auto    32296   Diesel  145  53.2         2.0   \n",
       "3       Fiesta  2018       Manual     2984   Petrol  145  66.5         1.0   \n",
       "4       Fiesta  2018       Manual    20852   Petrol  145  65.9         1.0   \n",
       "...        ...   ...          ...      ...      ...  ...   ...         ...   \n",
       "17807     Kuga  2019       Manual     5982   Diesel  145  60.5         2.0   \n",
       "17808    Focus  2019       Manual     9382   Petrol  145  60.4         1.0   \n",
       "17809   Fiesta  2015       Manual    54063   Petrol  125  55.1         1.2   \n",
       "17810     Kuga  2018       Manual    28075   Diesel  145  54.3         2.0   \n",
       "17811   Fiesta  2015       Manual    27815   Diesel    0  88.3         1.5   \n",
       "\n",
       "       price  \n",
       "0       4934  \n",
       "1      12127  \n",
       "2      13999  \n",
       "3      11450  \n",
       "4      11068  \n",
       "...      ...  \n",
       "17807  21005  \n",
       "17808  17051  \n",
       "17809   5995  \n",
       "17810  21125  \n",
       "17811   8991  \n",
       "\n",
       "[17812 rows x 9 columns]"
      ]
     },
     "execution_count": 17,
     "metadata": {},
     "output_type": "execute_result"
    }
   ],
   "source": [
    "df1"
   ]
  },
  {
   "cell_type": "code",
   "execution_count": 18,
   "metadata": {
    "id": "NGz6h3QUu5Ea"
   },
   "outputs": [],
   "source": [
    "df = pd.concat([df, df1], axis=0)"
   ]
  },
  {
   "cell_type": "code",
   "execution_count": 19,
   "metadata": {
    "id": "bRHm3bD3vTUa"
   },
   "outputs": [],
   "source": [
    "df.to_csv('auto_data_augm.csv')"
   ]
  },
  {
   "cell_type": "code",
   "execution_count": 20,
   "metadata": {
    "colab": {
     "base_uri": "https://localhost:8080/",
     "height": 366
    },
    "id": "calLLXgivVOc",
    "outputId": "8e899633-65e7-4e9b-bee5-6926a3b3740d"
   },
   "outputs": [
    {
     "data": {
      "text/plain": [
       "model           0\n",
       "year            0\n",
       "transmission    0\n",
       "mileage         0\n",
       "fuelType        0\n",
       "tax             0\n",
       "mpg             0\n",
       "engineSize      0\n",
       "price           0\n",
       "dtype: int64"
      ]
     },
     "execution_count": 20,
     "metadata": {},
     "output_type": "execute_result"
    }
   ],
   "source": [
    "df.isnull().sum()"
   ]
  },
  {
   "cell_type": "code",
   "execution_count": 21,
   "metadata": {
    "colab": {
     "base_uri": "https://localhost:8080/",
     "height": 53
    },
    "id": "9QzAvPOcv3u-",
    "outputId": "123e1b9d-73de-48e8-df43-4c235e54e310"
   },
   "outputs": [
    {
     "data": {
      "text/html": [
       "<div>\n",
       "<style scoped>\n",
       "    .dataframe tbody tr th:only-of-type {\n",
       "        vertical-align: middle;\n",
       "    }\n",
       "\n",
       "    .dataframe tbody tr th {\n",
       "        vertical-align: top;\n",
       "    }\n",
       "\n",
       "    .dataframe thead th {\n",
       "        text-align: right;\n",
       "    }\n",
       "</style>\n",
       "<table border=\"1\" class=\"dataframe\">\n",
       "  <thead>\n",
       "    <tr style=\"text-align: right;\">\n",
       "      <th></th>\n",
       "      <th>model</th>\n",
       "      <th>year</th>\n",
       "      <th>transmission</th>\n",
       "      <th>mileage</th>\n",
       "      <th>fuelType</th>\n",
       "      <th>tax</th>\n",
       "      <th>mpg</th>\n",
       "      <th>engineSize</th>\n",
       "      <th>price</th>\n",
       "    </tr>\n",
       "  </thead>\n",
       "  <tbody>\n",
       "  </tbody>\n",
       "</table>\n",
       "</div>"
      ],
      "text/plain": [
       "Empty DataFrame\n",
       "Columns: [model, year, transmission, mileage, fuelType, tax, mpg, engineSize, price]\n",
       "Index: []"
      ]
     },
     "execution_count": 21,
     "metadata": {},
     "output_type": "execute_result"
    }
   ],
   "source": [
    "df[df.duplicated(keep='first')]"
   ]
  },
  {
   "cell_type": "code",
   "execution_count": 22,
   "metadata": {
    "colab": {
     "base_uri": "https://localhost:8080/",
     "height": 545
    },
    "id": "86KRXC-a_Vum",
    "outputId": "74c4fe4b-0d1c-4c8b-e7de-40c65c8168e3"
   },
   "outputs": [
    {
     "data": {
      "image/png": "[encoded data removed]",
      "text/plain": [
       "<Figure size 800x600 with 2 Axes>"
      ]
     },
     "metadata": {},
     "output_type": "display_data"
    }
   ],
   "source": [
    "corr_matrix = df.select_dtypes(include=np.number).corr()\n",
    "plt.figure(figsize=(8,6))\n",
    "sns.heatmap(corr_matrix, annot=True, cmap='coolwarm', fmt=\".2f\")\n",
    "plt.title(\"Correlation Matrix\")\n",
    "plt.show()"
   ]
  },
  {
   "cell_type": "code",
   "execution_count": 26,
   "metadata": {
    "id": "qy9fntBrB4Tg"
   },
   "outputs": [],
   "source": [
    "df_dummies = pd.get_dummies(df, dtype=int)"
   ]
  },
  {
   "cell_type": "code",
   "execution_count": 27,
   "metadata": {
    "colab": {
     "base_uri": "https://localhost:8080/",
     "height": 715
    },
    "id": "sukN4pNWE7fX",
    "outputId": "70dd87a2-280b-4cad-92f7-72cb89078af0"
   },
   "outputs": [
    {
     "data": {
      "image/png": "[encoded data removed]",
      "text/plain": [
       "<Figure size 1800x1200 with 2 Axes>"
      ]
     },
     "metadata": {},
     "output_type": "display_data"
    }
   ],
   "source": [
    "corr_matrix = df_dummies.corr()\n",
    "plt.figure(figsize=(18,12))\n",
    "sns.heatmap(corr_matrix, cmap='coolwarm')\n",
    "plt.title(\"Correlation Matrix\")\n",
    "plt.show()"
   ]
  },
  {
   "cell_type": "code",
   "execution_count": 28,
   "metadata": {
    "colab": {
     "base_uri": "https://localhost:8080/",
     "height": 241
    },
    "id": "83AR2sO1Riqx",
    "outputId": "ec4f8e98-278b-4308-b141-ad387736fe36"
   },
   "outputs": [
    {
     "data": {
      "text/plain": [
       "year          0.635715\n",
       "mileage      -0.530483\n",
       "engineSize    0.411451\n",
       "tax           0.405970\n",
       "mpg          -0.346263\n",
       "Name: price, dtype: float64"
      ]
     },
     "execution_count": 28,
     "metadata": {},
     "output_type": "execute_result"
    }
   ],
   "source": [
    "#Task4\n",
    "corr_matrix['price'].drop('price').sort_values(ascending=False, key=abs).head(5)"
   ]
  },
  {
   "cell_type": "code",
   "execution_count": 29,
   "metadata": {
    "colab": {
     "base_uri": "https://localhost:8080/",
     "height": 304
    },
    "id": "7K-O6Pgncnmy",
    "outputId": "f9816316-67ab-4b47-850a-c4ee85d29612"
   },
   "outputs": [
    {
     "data": {
      "text/plain": [
       "fuelType\n",
       "Petrol      12081\n",
       "Diesel       5706\n",
       "Hybrid         22\n",
       "Electric        2\n",
       "Other           1\n",
       "Name: count, dtype: int64"
      ]
     },
     "execution_count": 29,
     "metadata": {},
     "output_type": "execute_result"
    }
   ],
   "source": [
    "#Task5\n",
    "df['fuelType'].value_counts()"
   ]
  },
  {
   "cell_type": "code",
   "execution_count": 30,
   "metadata": {
    "colab": {
     "base_uri": "https://localhost:8080/",
     "height": 564
    },
    "id": "TL5XWDuxgYph",
    "outputId": "c796382f-2115-45e8-e6b4-00e85fa6132b"
   },
   "outputs": [
    {
     "data": {
      "image/png": "[encoded data removed]",
      "text/plain": [
       "<Figure size 800x600 with 1 Axes>"
      ]
     },
     "metadata": {},
     "output_type": "display_data"
    }
   ],
   "source": [
    "#Task6\n",
    "plt.figure(figsize=(8, 6))\n",
    "sns.boxplot(x='transmission', y='price', data=df)\n",
    "plt.title('Boxplot of Transmission type and Price')\n",
    "plt.xlabel('Transmission')\n",
    "plt.ylabel('Price')\n",
    "plt.show()"
   ]
  },
  {
   "cell_type": "code",
   "execution_count": 31,
   "metadata": {
    "colab": {
     "base_uri": "https://localhost:8080/",
     "height": 564
    },
    "id": "2QGa71eGizs2",
    "outputId": "f7e1fa17-6f30-471a-cb88-c389cbd7d8e9"
   },
   "outputs": [
    {
     "data": {
      "image/png": "[encoded data removed]",
      "text/plain": [
       "<Figure size 800x600 with 1 Axes>"
      ]
     },
     "metadata": {},
     "output_type": "display_data"
    }
   ],
   "source": [
    "#Task7\n",
    "plt.figure(figsize=(8, 6))\n",
    "sns.regplot(x='mpg', y='price', data=df)\n",
    "plt.title('Regression plot of MPG and Price')\n",
    "plt.xlabel('MPG')\n",
    "plt.ylabel('Price')\n",
    "plt.show()"
   ]
  },
  {
   "cell_type": "code",
   "execution_count": 32,
   "metadata": {
    "colab": {
     "base_uri": "https://localhost:8080/"
    },
    "id": "I1d0iquMlbvF",
    "outputId": "0de24388-fecc-4d16-9981-7e1a928c3460"
   },
   "outputs": [
    {
     "name": "stdout",
     "output_type": "stream",
     "text": [
      "MSE = 19049855.14 \n",
      "R^2 = 0.15\n"
     ]
    }
   ],
   "source": [
    "X = df[['mpg']]\n",
    "y = df['price']\n",
    "X_train, X_test, y_train, y_test = train_test_split(X, y, test_size=0.2, random_state=42)\n",
    "lr = LinearRegression()\n",
    "lr.fit(X_train, y_train)\n",
    "yhat = lr.predict(X_test)\n",
    "mse = mean_squared_error(y_test, yhat)\n",
    "r2 = r2_score(y_test, yhat)\n",
    "print(f'MSE = {mse:.2f} \\nR^2 = {r2:.2f}')"
   ]
  },
  {
   "cell_type": "code",
   "execution_count": 33,
   "metadata": {
    "colab": {
     "base_uri": "https://localhost:8080/"
    },
    "id": "yJL-v3-Vogfb",
    "outputId": "6576a343-496e-4861-afb1-c929c684e5bb"
   },
   "outputs": [
    {
     "name": "stdout",
     "output_type": "stream",
     "text": [
      "MSE = 6912744.93 \n",
      "R^2 = 0.69\n"
     ]
    }
   ],
   "source": [
    "X = df[['year','mileage','tax','engineSize' ,'mpg']]\n",
    "y = df['price']\n",
    "X_train, X_test, y_train, y_test = train_test_split(X, y, test_size=0.2, random_state=42)\n",
    "lr = LinearRegression()\n",
    "lr.fit(X_train, y_train)\n",
    "yhat = lr.predict(X_test)\n",
    "mse = mean_squared_error(y_test, yhat)\n",
    "r2 = r2_score(y_test, yhat)\n",
    "print(f'MSE = {mse:.2f} \\nR^2 = {r2:.2f}')"
   ]
  },
  {
   "cell_type": "code",
   "execution_count": 34,
   "metadata": {
    "colab": {
     "base_uri": "https://localhost:8080/"
    },
    "id": "TKe_9Q3fpYmP",
    "outputId": "25485f43-dea6-40f7-b778-a6e4f0f34c00"
   },
   "outputs": [
    {
     "name": "stdout",
     "output_type": "stream",
     "text": [
      "MSE = 5234037.30 \n",
      "R^2 = 0.77\n"
     ]
    }
   ],
   "source": [
    "#Task8\n",
    "X = df[['year','mileage','tax','engineSize' ,'mpg']]\n",
    "y = df['price']\n",
    "\n",
    "Input = [('scaler', StandardScaler()), ('polynomial', PolynomialFeatures(degree=2, include_bias=False)), ('model', LinearRegression())]\n",
    "pipe = Pipeline(Input)\n",
    "X = X.astype(float)\n",
    "pipe.fit(X, y)\n",
    "yhat = pipe.predict(X)\n",
    "mse = mean_squared_error(y, yhat)\n",
    "r2 = r2_score(y, yhat)\n",
    "print(f'MSE = {mse:.2f} \\nR^2 = {r2:.2f}')"
   ]
  },
  {
   "cell_type": "code",
   "execution_count": 35,
   "metadata": {
    "colab": {
     "base_uri": "https://localhost:8080/"
    },
    "id": "sGBF2FWOLOMU",
    "outputId": "4a1ac053-8896-4c22-fbb0-f8f16ed866d8"
   },
   "outputs": [
    {
     "name": "stdout",
     "output_type": "stream",
     "text": [
      "Mean Squared Error (MSE): 0.466743495571258\n",
      "Coefficient of Determination (R^2): 0.5332565044287421\n"
     ]
    }
   ],
   "source": [
    "#The same as before but using train and test split.\n",
    "#The scaling and polynomials before the split\n",
    "##no difference\n",
    "\n",
    "# Create Scaler\n",
    "X = StandardScaler().fit_transform(df[['year','mileage','tax','engineSize' ,'mpg']])\n",
    "y = StandardScaler().fit_transform(df[['price']])\n",
    "\n",
    "# Create polynomial features\n",
    "polynomial_features = PolynomialFeatures(degree=2)\n",
    "\n",
    "# Transform the source variables into polynomial features\n",
    "X_poly = polynomial_features.fit_transform(X)\n",
    "\n",
    "#Split training and testing data\n",
    "X_train, X_test, y_train, y_test = train_test_split(X_poly, y, test_size=0.2, random_state=42)\n",
    "\n",
    "# Create Scaler, beacause the penalty depends on the magnitude of the coefficients\n",
    "X_train_scaled = StandardScaler().fit_transform(X_train)\n",
    "X_test_scaled = StandardScaler().fit_transform(X_test)\n",
    "y_train_scaled = StandardScaler().fit_transform(y_train)\n",
    "y_test_scaled = StandardScaler().fit_transform(y_test)\n",
    "\n",
    "# Initialize a Linear regression model\n",
    "model = LinearRegression()\n",
    "\n",
    "\n",
    "# Train the model using the polynomial features and target variable\n",
    "model.fit(X_train_scaled, y_train_scaled)\n",
    "\n",
    "\n",
    "#Make predictions:\n",
    "y_pred = model.predict(X_test_scaled)\n",
    "\n",
    "\n",
    "# Calculate the mean squared error (MSE)\n",
    "mse = mean_squared_error(y_test_scaled, y_pred)\n",
    "\n",
    "# Calculate the coefficient of determination (R^2)\n",
    "r2 = r2_score(y_test_scaled, y_pred)\n",
    "\n",
    "# Display the MSE and R^2 values\n",
    "print(\"Mean Squared Error (MSE):\", mse)\n",
    "print(\"Coefficient of Determination (R^2):\", r2)"
   ]
  },
  {
   "cell_type": "code",
   "execution_count": 36,
   "metadata": {
    "colab": {
     "base_uri": "https://localhost:8080/"
    },
    "id": "3rkpIfZoXmbQ",
    "outputId": "05cf55fc-3ef4-4b35-ef96-e748756d5ed3"
   },
   "outputs": [
    {
     "name": "stdout",
     "output_type": "stream",
     "text": [
      "Mean Squared Error (MSE): 0.8212231682181051\n",
      "Coefficient of Determination (R^2): 0.17877683178189485\n"
     ]
    }
   ],
   "source": [
    "#The same as before but using polynomial features after train and test split.\n",
    "#no difference\n",
    "\n",
    "# Create Scaler\n",
    "X = StandardScaler().fit_transform(df[['year','mileage','tax','engineSize' ,'mpg']])\n",
    "y = StandardScaler().fit_transform(df[['price']])\n",
    "\n",
    "\n",
    "\n",
    "#Split training and testing data\n",
    "X_train, X_test, y_train, y_test = train_test_split(X, y, test_size=0.2, random_state=42)\n",
    "\n",
    "# Create Scaler, beacause the penalty depends on the magnitude of the coefficients\n",
    "X_train_scaled = StandardScaler().fit_transform(X_train)\n",
    "X_test_scaled = StandardScaler().fit_transform(X_test)\n",
    "y_train_scaled = StandardScaler().fit_transform(y_train)\n",
    "y_test_scaled = StandardScaler().fit_transform(y_test)\n",
    "\n",
    "#polynomial features\n",
    "poly_features = PolynomialFeatures(degree=2)\n",
    "X_train_poly = poly_features.fit_transform(X_train_scaled)\n",
    "X_test_poly = poly_features.fit_transform(X_test_scaled)\n",
    "\n",
    "# Initialize a Linear regression model\n",
    "model = LinearRegression()\n",
    "\n",
    "\n",
    "# Train the model using the polynomial features and target variable\n",
    "model.fit(X_train_poly, y_train_scaled)\n",
    "\n",
    "\n",
    "#Make predictions:\n",
    "y_pred = model.predict(X_test_poly)\n",
    "\n",
    "\n",
    "# Calculate the mean squared error (MSE)\n",
    "mse = mean_squared_error(y_test_scaled, y_pred)\n",
    "\n",
    "# Calculate the coefficient of determination (R^2)\n",
    "r2 = r2_score(y_test_scaled, y_pred)\n",
    "\n",
    "# Display the MSE and R^2 values\n",
    "print(\"Mean Squared Error (MSE):\", mse)\n",
    "print(\"Coefficient of Determination (R^2):\", r2)"
   ]
  },
  {
   "cell_type": "code",
   "execution_count": 37,
   "metadata": {
    "colab": {
     "base_uri": "https://localhost:8080/"
    },
    "id": "SRLgcX0kWZGY",
    "outputId": "5614ed00-cf7f-4fbc-ed4f-cebaf70347a4"
   },
   "outputs": [
    {
     "name": "stdout",
     "output_type": "stream",
     "text": [
      "MSE = 19703715.88 \n",
      "R^2 = 0.12\n"
     ]
    }
   ],
   "source": [
    "#Task9\n",
    "X = df[['year','mileage','tax','engineSize' ,'mpg']]\n",
    "y = df['price']\n",
    "\n",
    "X_train, X_test, y_train, y_test = train_test_split(X_poly, y, test_size=0.2, random_state=42)\n",
    "\n",
    "model = Ridge(alpha=0.1)\n",
    "model.fit(X_train, y_train)\n",
    "yhat = model.predict(X_test)\n",
    "\n",
    "mse = mean_squared_error(y_test, yhat)\n",
    "r2 = r2_score(y_test, yhat)\n",
    "print(f'MSE = {mse:.2f} \\nR^2 = {r2:.2f}')"
   ]
  },
  {
   "cell_type": "code",
   "execution_count": 38,
   "metadata": {
    "colab": {
     "base_uri": "https://localhost:8080/"
    },
    "id": "HBLlNRy0QjCH",
    "outputId": "fcab7c20-5151-4231-ea6e-662a6454b8f5"
   },
   "outputs": [
    {
     "name": "stdout",
     "output_type": "stream",
     "text": [
      "MSE = 147211710.75 \n",
      "R^2 = -5.57\n"
     ]
    }
   ],
   "source": [
    "#Task10\n",
    "X = df[['year','mileage','tax','engineSize' ,'mpg']]\n",
    "y = df['price']\n",
    "\n",
    "X_train, X_test, y_train, y_test = train_test_split(X_poly, y, test_size=0.2, random_state=42)\n",
    "\n",
    "poly_features = PolynomialFeatures(degree=2)\n",
    "X_train_poly = poly_features.fit_transform(X_train)\n",
    "X_test_poly = poly_features.fit_transform(X_test)\n",
    "\n",
    "model = Ridge(alpha=0.1)\n",
    "model.fit(X_train_poly, y_train)\n",
    "yhat = model.predict(X_test_poly)\n",
    "\n",
    "mse = mean_squared_error(y_test, yhat)\n",
    "r2 = r2_score(y_test, yhat)\n",
    "print(f'MSE = {mse:.2f} \\nR^2 = {r2:.2f}')"
   ]
  },
  {
   "cell_type": "code",
   "execution_count": 39,
   "metadata": {
    "colab": {
     "base_uri": "https://localhost:8080/"
    },
    "id": "HLUKysjMXbbh",
    "outputId": "97a8c4e3-ff05-42ab-f0b0-a4ac91e586c2"
   },
   "outputs": [
    {
     "name": "stdout",
     "output_type": "stream",
     "text": [
      "MSE = 0.57 \n",
      "R^2 = 0.43\n"
     ]
    }
   ],
   "source": [
    "#The same as before, but with scaling after spit\n",
    "#Worse\n",
    "X = df[['year','mileage','tax','engineSize' ,'mpg']]\n",
    "y = df[['price']]\n",
    "\n",
    "X_train, X_test, y_train, y_test = train_test_split(X_poly, y, test_size=0.2, random_state=42)\n",
    "\n",
    "# Create Scaler, beacause the penalty depends on the magnitude of the coefficients\n",
    "X_train_scaled = StandardScaler().fit_transform(X_train)\n",
    "X_test_scaled = StandardScaler().fit_transform(X_test)\n",
    "y_train_scaled = StandardScaler().fit_transform(y_train)\n",
    "y_test_scaled = StandardScaler().fit_transform(y_test)\n",
    "\n",
    "poly_features = PolynomialFeatures(degree=2)\n",
    "X_train_poly = poly_features.fit_transform(X_train_scaled)\n",
    "X_test_poly = poly_features.fit_transform(X_test_scaled)\n",
    "\n",
    "model = Ridge(alpha=0.1)\n",
    "model.fit(X_train_poly, y_train_scaled)\n",
    "yhat = model.predict(X_test_poly)\n",
    "\n",
    "mse = mean_squared_error(y_test_scaled, yhat)\n",
    "r2 = r2_score(y_test_scaled, yhat)\n",
    "print(f'MSE = {mse:.2f} \\nR^2 = {r2:.2f}')"
   ]
  },
  {
   "cell_type": "code",
   "execution_count": 40,
   "metadata": {
    "colab": {
     "base_uri": "https://localhost:8080/"
    },
    "id": "9968frc2Zi9H",
    "outputId": "853c754e-ebf9-4dc2-88db-984e01b488aa"
   },
   "outputs": [
    {
     "name": "stdout",
     "output_type": "stream",
     "text": [
      "MSE = 6.56 \n",
      "R^2 = -5.57\n"
     ]
    }
   ],
   "source": [
    "#The same as before, but with scaling before spit\n",
    "#Better, so scaling needs to be done before splitting\n",
    "X = StandardScaler().fit_transform(df[['year','mileage','tax','engineSize' ,'mpg']])\n",
    "y = StandardScaler().fit_transform(df[['price']])\n",
    "\n",
    "X_train, X_test, y_train, y_test = train_test_split(X_poly, y, test_size=0.2, random_state=42)\n",
    "\n",
    "\n",
    "poly_features = PolynomialFeatures(degree=2)\n",
    "X_train_poly = poly_features.fit_transform(X_train)\n",
    "X_test_poly = poly_features.fit_transform(X_test)\n",
    "\n",
    "model = Ridge(alpha=0.1)\n",
    "model.fit(X_train_poly, y_train)\n",
    "yhat = model.predict(X_test_poly)\n",
    "\n",
    "mse = mean_squared_error(y_test, yhat)\n",
    "r2 = r2_score(y_test, yhat)\n",
    "print(f'MSE = {mse:.2f} \\nR^2 = {r2:.2f}')"
   ]
  },
  {
   "cell_type": "code",
   "execution_count": 41,
   "metadata": {
    "colab": {
     "base_uri": "https://localhost:8080/"
    },
    "id": "hu41KzLwaV50",
    "outputId": "f11ad3af-b6b9-4eb8-e0e6-4c6da93114b0"
   },
   "outputs": [
    {
     "name": "stdout",
     "output_type": "stream",
     "text": [
      "MSE = 16.37 \n",
      "R^2 = -15.37\n"
     ]
    }
   ],
   "source": [
    "#The same as before, but with scaling after polynomials\n",
    "#worse, so scaling needs to be done before splitting and polynomial features\n",
    "X = df[['year','mileage','tax','engineSize' ,'mpg']]\n",
    "y = df[['price']]\n",
    "\n",
    "X_train, X_test, y_train, y_test = train_test_split(X_poly, y, test_size=0.2, random_state=42)\n",
    "\n",
    "\n",
    "poly_features = PolynomialFeatures(degree=2)\n",
    "X_train_poly = poly_features.fit_transform(X_train)\n",
    "X_test_poly = poly_features.fit_transform(X_test)\n",
    "\n",
    "# Create Scaler, beacause the penalty depends on the magnitude of the coefficients\n",
    "X_train_scaled = StandardScaler().fit_transform(X_train_poly)\n",
    "X_test_scaled = StandardScaler().fit_transform(X_test_poly)\n",
    "y_train_scaled = StandardScaler().fit_transform(y_train)\n",
    "y_test_scaled = StandardScaler().fit_transform(y_test)\n",
    "\n",
    "model = Ridge(alpha=0.1)\n",
    "model.fit(X_train_scaled, y_train_scaled)\n",
    "yhat = model.predict(X_test_scaled)\n",
    "\n",
    "mse = mean_squared_error(y_test_scaled, yhat)\n",
    "r2 = r2_score(y_test_scaled, yhat)\n",
    "print(f'MSE = {mse:.2f} \\nR^2 = {r2:.2f}')"
   ]
  },
  {
   "cell_type": "code",
   "execution_count": 42,
   "metadata": {
    "colab": {
     "base_uri": "https://localhost:8080/"
    },
    "id": "dh9doc5rbCCy",
    "outputId": "681bf7ae-7c38-403f-d8a1-6a485e914bd3"
   },
   "outputs": [
    {
     "name": "stdout",
     "output_type": "stream",
     "text": [
      "The best parameter is: {'alpha': 1000.0}\n",
      "The best estimator is: Ridge(alpha=1000.0)\n",
      "MSE = 552666543.39 \n",
      "R^2 = -23.65\n"
     ]
    }
   ],
   "source": [
    "#Task11\n",
    "X = df[['year','mileage','tax','engineSize' ,'mpg']]\n",
    "y = df['price']\n",
    "\n",
    "X_train, X_test, y_train, y_test = train_test_split(X_poly, y, test_size=0.2, random_state=42)\n",
    "\n",
    "poly_features = PolynomialFeatures(degree=2)\n",
    "X_train_poly = poly_features.fit_transform(X_train)\n",
    "X_test_poly = poly_features.fit_transform(X_test)\n",
    "\n",
    "regressor = Ridge()\n",
    "\n",
    "# Define the hyperparameter values for the grid search\n",
    "param_grid = {'alpha': [0.0001, 0.001,0.01, 0.1, 1.0, 10.0, 100.0, 1000.0]}\n",
    "\n",
    "model = GridSearchCV(regressor, param_grid, cv=4, n_jobs=-1)\n",
    "\n",
    "model.fit(X_train_poly, y_train)\n",
    "\n",
    "print(\"The best parameter is:\", model.best_params_)\n",
    "print(\"The best estimator is:\", model.best_estimator_)\n",
    "\n",
    "yhat = model.best_estimator_.predict(X_test_poly)\n",
    "\n",
    "mse = mean_squared_error(y_test, yhat)\n",
    "r2 = r2_score(y_test, yhat)\n",
    "print(f'MSE = {mse:.2f} \\nR^2 = {r2:.2f}')"
   ]
  },
  {
   "cell_type": "code",
   "execution_count": 43,
   "metadata": {
    "colab": {
     "base_uri": "https://localhost:8080/"
    },
    "id": "PM4oEFQYc68m",
    "outputId": "8766f376-6550-42d5-afda-4ad32f0461e8"
   },
   "outputs": [
    {
     "name": "stdout",
     "output_type": "stream",
     "text": [
      "The best parameter is: {'alpha': 1000.0}\n",
      "The best estimator is: Ridge(alpha=1000.0)\n",
      "MSE = 24.64 \n",
      "R^2 = -23.65\n"
     ]
    }
   ],
   "source": [
    "#The same as before but with scaling before split\n",
    "#no diferrence. In general scaling seems to only make a difference in time\n",
    "X = StandardScaler().fit_transform(df[['year','mileage','tax','engineSize' ,'mpg']])\n",
    "y = StandardScaler().fit_transform(df[['price']])\n",
    "\n",
    "X_train, X_test, y_train, y_test = train_test_split(X_poly, y, test_size=0.2, random_state=42)\n",
    "\n",
    "poly_features = PolynomialFeatures(degree=2)\n",
    "X_train_poly = poly_features.fit_transform(X_train)\n",
    "X_test_poly = poly_features.fit_transform(X_test)\n",
    "\n",
    "regressor = Ridge()\n",
    "\n",
    "# Define the hyperparameter values for the grid search\n",
    "param_grid = {'alpha': [0.0001, 0.001,0.01, 0.1, 1.0, 10.0, 100.0, 1000.0]}\n",
    "\n",
    "model = GridSearchCV(regressor, param_grid, cv=4, n_jobs=-1)\n",
    "\n",
    "model.fit(X_train_poly, y_train)\n",
    "\n",
    "print(\"The best parameter is:\", model.best_params_)\n",
    "print(\"The best estimator is:\", model.best_estimator_)\n",
    "\n",
    "yhat = model.best_estimator_.predict(X_test_poly)\n",
    "\n",
    "mse = mean_squared_error(y_test, yhat)\n",
    "r2 = r2_score(y_test, yhat)\n",
    "print(f'MSE = {mse:.2f} \\nR^2 = {r2:.2f}')"
   ]
  },
  {
   "cell_type": "code",
   "execution_count": 44,
   "metadata": {
    "colab": {
     "base_uri": "https://localhost:8080/"
    },
    "id": "VTrNQyZBemgg",
    "outputId": "60feec2f-e826-47e2-eb3b-7e7061b2a515"
   },
   "outputs": [
    {
     "name": "stdout",
     "output_type": "stream",
     "text": [
      "The best parameter is: {'alpha': 1000.0}\n",
      "The best estimator is: Ridge(alpha=1000.0)\n",
      "MSE = 24.64 \n",
      "R^2 = -23.65\n"
     ]
    }
   ],
   "source": [
    "#The same as before but with all the dataset (df_dummies)\n",
    "#no diferrence. In general scaling must be performed after split beacuse otherwise the scaler learns on the\n",
    "#entire dataset. Hence, the test data are influenced by the train data making them dependent\n",
    "X = StandardScaler().fit_transform(df_dummies.drop('price', axis=1))\n",
    "y = StandardScaler().fit_transform(df_dummies[['price']])\n",
    "\n",
    "X_train, X_test, y_train, y_test = train_test_split(X_poly, y, test_size=0.2, random_state=42)\n",
    "\n",
    "poly_features = PolynomialFeatures(degree=2)\n",
    "X_train_poly = poly_features.fit_transform(X_train)\n",
    "X_test_poly = poly_features.fit_transform(X_test)\n",
    "\n",
    "regressor = Ridge()\n",
    "\n",
    "# Define the hyperparameter values for the grid search\n",
    "param_grid = {'alpha': [0.0001, 0.001,0.01, 0.1, 1.0, 10.0, 100.0, 1000.0]}\n",
    "\n",
    "model = GridSearchCV(regressor, param_grid, cv=4, n_jobs=-1)\n",
    "\n",
    "model.fit(X_train_poly, y_train)\n",
    "\n",
    "print(\"The best parameter is:\", model.best_params_)\n",
    "print(\"The best estimator is:\", model.best_estimator_)\n",
    "\n",
    "yhat = model.best_estimator_.predict(X_test_poly)\n",
    "\n",
    "mse = mean_squared_error(y_test, yhat)\n",
    "r2 = r2_score(y_test, yhat)\n",
    "print(f'MSE = {mse:.2f} \\nR^2 = {r2:.2f}')"
   ]
  },
  {
   "cell_type": "code",
   "execution_count": 45,
   "metadata": {
    "colab": {
     "base_uri": "https://localhost:8080/"
    },
    "id": "qWNfFQJUlKrQ",
    "outputId": "cd8e8762-9d4f-45a1-ea1e-2366930bc276"
   },
   "outputs": [
    {
     "name": "stdout",
     "output_type": "stream",
     "text": [
      "MSE = 2265107.73 \n",
      "R^2 = 0.90\n"
     ]
    }
   ],
   "source": [
    "#The same as before but with all the dataset (df_dummies)\n",
    "#no diferrence. In general scaling must be performed after split beacuse otherwise the scaler learns on the\n",
    "#entire dataset. Hence, the test data are influenced by the train data making them dependent and have \"data leakage\"\n",
    "X = df_dummies.drop('price', axis=1)\n",
    "y = df_dummies['price']\n",
    "\n",
    "X_train, X_test, y_train, y_test = train_test_split(X, y, test_size=0.2, random_state=42)\n",
    "\n",
    "scaler = StandardScaler()\n",
    "poly_features = PolynomialFeatures(degree=2)\n",
    "\n",
    "X_train_scaled = scaler.fit_transform(X_train)\n",
    "X_test_scaled = scaler.transform(X_test)\n",
    "\n",
    "model = SVR(C=1000, gamma=0.01)\n",
    "\n",
    "# Define the hyperparameter values for the grid search\n",
    "#param_grid = {'kernel':('linear', 'rbf', 'sigmoid'),\n",
    "#              'C': [0.01, 0.1, 1, 10],\n",
    "#              'gamma':[0.01, 0.1, 1]}\n",
    "\n",
    "model.fit(X_train_scaled, y_train)\n",
    "\n",
    "\n",
    "\n",
    "yhat = model.predict(X_test_scaled)\n",
    "\n",
    "mse = mean_squared_error(y_test, yhat)\n",
    "r2 = r2_score(y_test, yhat)\n",
    "print(f'MSE = {mse:.2f} \\nR^2 = {r2:.2f}')"
   ]
  },
  {
   "cell_type": "code",
   "execution_count": 30,
   "metadata": {},
   "outputs": [
    {
     "name": "stdout",
     "output_type": "stream",
     "text": [
      "The best parameter is: {'C': 100, 'gamma': 0.01, 'kernel': 'linear'}\n",
      "The best estimator is: SVR(C=100, gamma=0.01, kernel='linear')\n",
      "MSE = 2874500.99 \n",
      "R^2 = 0.87\n"
     ]
    }
   ],
   "source": [
    "#The same as before but polynomial features too\n",
    "#no diferrence. In general scaling must be performed after split beacuse otherwise the scaler learns on the\n",
    "#entire dataset. Hence, the test data are influenced by the train data making them dependent and have \"data leakage\"\n",
    "#The correct order is train_test_split->PolynomialFeatures->StandardScaler->model\n",
    "X = df_dummies.drop('price', axis=1)\n",
    "y = df_dummies['price']\n",
    "\n",
    "X_train, X_test, y_train, y_test = train_test_split(X, y, test_size=0.2, random_state=42)\n",
    "\n",
    "\n",
    "poly_features = PolynomialFeatures(degree=2)\n",
    "X_train_poly = poly_features.fit_transform(X_train)\n",
    "X_test_poly = poly_features.transform(X_test)\n",
    "\n",
    "scaler = StandardScaler()\n",
    "X_train_scaled = scaler.fit_transform(X_train_poly)\n",
    "X_test_scaled = scaler.transform(X_test_poly)\n",
    "\n",
    "regressor = SVR()\n",
    "\n",
    "# Define the hyperparameter values for the grid search\n",
    "param_grid = {'kernel':('linear', 'rbf' ),\n",
    "              'C': [0.01, 0.1, 1, 10, 100, 1000],\n",
    "              'gamma':[0.01, 0.1, 1]}\n",
    "\n",
    "model = GridSearchCV(regressor, param_grid, cv=4, n_jobs=-1)\n",
    "\n",
    "model.fit(X_train_scaled, y_train)\n",
    "\n",
    "print(\"The best parameter is:\", model.best_params_)\n",
    "print(\"The best estimator is:\", model.best_estimator_)\n",
    "\n",
    "yhat = model.best_estimator_.predict(X_test_scaled)\n",
    "\n",
    "mse = mean_squared_error(y_test, yhat)\n",
    "r2 = r2_score(y_test, yhat)\n",
    "print(f'MSE = {mse:.2f} \\nR^2 = {r2:.2f}')"
   ]
  },
  {
   "cell_type": "code",
   "execution_count": null,
   "metadata": {
    "id": "8CUALLDUm8bA"
   },
   "outputs": [],
   "source": [
    "#The same as before but with all the dataset (df_dummies)\n",
    "#no diferrence. In general scaling must be performed after split beacuse otherwise the scaler learns on the\n",
    "#entire dataset. Hence, the test data are influenced by the train data making them dependent and have \"data leakage\"\n",
    "X = df_dummies.drop('price', axis=1)\n",
    "y = df_dummies['price']\n",
    "\n",
    "X_train, X_test, y_train, y_test = train_test_split(X, y, test_size=0.2, random_state=42)\n",
    "\n",
    "scaler = StandardScaler()\n",
    "poly_features = PolynomialFeatures(degree=2)\n",
    "\n",
    "X_train_scaled = scaler.fit_transform(X_train)\n",
    "X_test_scaled = scaler.transform(X_test)\n",
    "\n",
    "regressor = SVR()\n",
    "\n",
    "# Define the hyperparameter values for the grid search\n",
    "param_grid = {'kernel':['poly'],\n",
    "              'C': [100, 1000],\n",
    "              'gamma':[0.01, 0.1], 'degree':[2, 3, 4]}\n",
    "\n",
    "model = GridSearchCV(regressor, param_grid, cv=4, scoring='accuracy', n_jobs=-1)\n",
    "\n",
    "model.fit(X_train_scaled, y_train)\n",
    "\n",
    "best_kernel = model.best_params_['kernel']\n",
    "print(f\"The best kernel is: {best_kernel}\")\n",
    "print(f\"The best parameter is: {model.best_params_}\")\n",
    "print(f\"The best estimator is: {model.best_estimator_}\")\n",
    "\n",
    "yhat = model.best_estimator_.predict(X_test_scaled)\n",
    "\n",
    "mse = mean_squared_error(y_test, yhat)\n",
    "r2 = r2_score(y_test, yhat)\n",
    "print(f'MSE = {mse:.2f} \\nR^2 = {r2:.2f}')"
   ]
  },
  {
   "cell_type": "code",
   "execution_count": null,
   "metadata": {
    "id": "29Q0ePnBThAX"
   },
   "outputs": [],
   "source": []
  }
 ],
 "metadata": {
  "colab": {
   "provenance": []
  },
  "kernelspec": {
   "display_name": "Python 3 (ipykernel)",
   "language": "python",
   "name": "python3"
  },
  "language_info": {
   "codemirror_mode": {
    "name": "ipython",
    "version": 3
   },
   "file_extension": ".py",
   "mimetype": "text/x-python",
   "name": "python",
   "nbconvert_exporter": "python",
   "pygments_lexer": "ipython3",
   "version": "3.12.3"
  }
 },
 "nbformat": 4,
 "nbformat_minor": 4
}
